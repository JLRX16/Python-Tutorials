{
 "cells": [
  {
   "cell_type": "markdown",
   "metadata": {},
   "source": [
    "# Interactive engineering diagram\n",
    "\n",
    "Your project for this course will involve creating a complex, interactive diagram and presenting your code to the group. You must provide documentation for your code (e.g. a markdown cell, a docstring and comments) with proper variable names. You must push your code to GitHub, either as part of this repository in the Project folder, or on your own repository.\n",
    "\n",
    "Examples of possible diagrams include a: McCabe-Thiele diagram, biofuel enrichment diagram, a PDE (combustion rate model, heat or wave equation), psychrometric chart, phase diagrams or 3D infrared spectra.\n",
    "\n",
    "Mark distribution:\n",
    "* Interactivity (visual insight is gained by using the interactive widgets, implemented correctly)\n",
    "* Creativity (coding problems are solved with creativity)\n",
    "* Complexity (topic chosen is complex enough to necessitate use of Python, uses scientific modules)\n",
    "* Clarity (coding is neat, well-documented, easy to understand)\n",
    "* Presentation (speaks with confidence, answers questions well)"
   ]
  },
  {
   "cell_type": "code",
   "execution_count": null,
   "metadata": {},
   "outputs": [],
   "source": []
  }
 ],
 "metadata": {
  "kernelspec": {
   "display_name": "Python 3",
   "language": "python",
   "name": "python3"
  },
  "language_info": {
   "codemirror_mode": {
    "name": "ipython",
    "version": 3
   },
   "file_extension": ".py",
   "mimetype": "text/x-python",
   "name": "python",
   "nbconvert_exporter": "python",
   "pygments_lexer": "ipython3",
   "version": "3.7.1"
  },
  "toc": {
   "base_numbering": 1,
   "nav_menu": {},
   "number_sections": true,
   "sideBar": true,
   "skip_h1_title": false,
   "title_cell": "Table of Contents",
   "title_sidebar": "Contents",
   "toc_cell": false,
   "toc_position": {},
   "toc_section_display": true,
   "toc_window_display": false
  },
  "varInspector": {
   "cols": {
    "lenName": 16,
    "lenType": 16,
    "lenVar": 40
   },
   "kernels_config": {
    "python": {
     "delete_cmd_postfix": "",
     "delete_cmd_prefix": "del ",
     "library": "var_list.py",
     "varRefreshCmd": "print(var_dic_list())"
    },
    "r": {
     "delete_cmd_postfix": ") ",
     "delete_cmd_prefix": "rm(",
     "library": "var_list.r",
     "varRefreshCmd": "cat(var_dic_list()) "
    }
   },
   "types_to_exclude": [
    "module",
    "function",
    "builtin_function_or_method",
    "instance",
    "_Feature"
   ],
   "window_display": false
  }
 },
 "nbformat": 4,
 "nbformat_minor": 2
}
