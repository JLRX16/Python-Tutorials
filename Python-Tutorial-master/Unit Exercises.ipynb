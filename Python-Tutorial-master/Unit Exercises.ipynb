{
 "cells": [
  {
   "cell_type": "markdown",
   "metadata": {},
   "source": [
    "# Exercises\n",
    "\n",
    "I would recommend using a new (blank) notebook outside of the local repository to practise these questions, otherwise they will be overwritten. To start a new notebook, go to the Notebook Dashboard (it is the tab with the icon of two orange curls, and it lists the files you have available). Then click the New button on the right and select Python 3. After opening it, click on the name Untitled to change it. "
   ]
  },
  {
   "cell_type": "markdown",
   "metadata": {},
   "source": [
    "## Exercise 1.1:\n",
    "\n",
    "Write a program that adds a random float $\\in$ [3, 8) with a random integer $\\in$ [1, 15]. The answer should then be divided by a random float $\\in$ [0, 1). Print each number to test if your answer seems reasonable.\n",
    "\n",
    "Hint: there are 3 functions in the `random` module that are just what you're looking for — it just requires a bit of _help_ (and they start with r and u)."
   ]
  },
  {
   "cell_type": "markdown",
   "metadata": {},
   "source": [
    "## Exercise 1.2:\n",
    "\n",
    "a) Create and change a list of integers step-by-step as shown below.\n",
    " + [0, 3, ..., 27, 30]\n",
    " + [0, 3, ..., 27, 30, 44, 55]\n",
    " + [27, 30, 44, 55, 0, 3, 6, 9]\n",
    " + [27, 30, 44, 55, 0, 3, 9]\n",
    " + [27, 30, 44, 55, 0, 3, 9, 27, 30, 44, 55, 0, 3, 9]\n",
    " + [0, 0, 3, 3, 9, 9, 27, 27, 30, 30, 44, 44, 55, 55]\n",
    "\n",
    "b) While testing your code you may see that the output of previous cells keeps changing when you accidentally rerun them. After your first succesful run, rewrite your code so that this does not happen."
   ]
  },
  {
   "cell_type": "markdown",
   "metadata": {},
   "source": [
    "## Exercise 1.3:\n",
    "\n",
    "Compute the following and display the answer to 4 decimal places:\n",
    "\n",
    "$$ \\frac{\\big(\\sqrt{333} - \\ln(7)\\big)^2}{5! \\log(40) + 2e^{-5}} $$\n",
    "\n",
    "Answer: 1.3823"
   ]
  },
  {
   "cell_type": "markdown",
   "metadata": {},
   "source": [
    "## Exercise 2.1:\n",
    "\n",
    "A Maclaurin series is a Taylor series centred around zero. Approximate the cos function with the Maclaurin series expansion (given below) to within a required accuracy. Select an x-value (**that is close to zero**, such as 2) at which you would like to approximate `cos(x)` and check your final answer using `math.cos`. The program must keep on adding terms to the Taylor series approximation until it is within the accuracy of math module's function. Try it using both a for and while loop. \n",
    "\n",
    "$$ \\cos(x) = \\sum^{\\infty}_{n=0} \\frac{(-1)^n}{(2n)!} x^{2n}$$\n",
    "\n",
    "What happens when you evaluate cos(50)?"
   ]
  },
  {
   "cell_type": "markdown",
   "metadata": {},
   "source": [
    "## Exercise 2.2:\n",
    "\n",
    "There is 1 mol of an ideal gas in a piston (expandable container) at 101 kPa. Calculate a list of volume values (in L) as the temperature increases from 25 to 100 °C in steps of 1 °C. Round each volume to 2 decimal places. R is 8.314 $\\frac{kPa L}{mol K}$.\n",
    "\n",
    "Answer: 24.45–30.61 L"
   ]
  },
  {
   "cell_type": "markdown",
   "metadata": {},
   "source": [
    "## Exercise 2.3: \n",
    "\n",
    "According to Perry _et al_ (2008: 2-170), the heat capacities of inorganic or organic liquids can be computed by the following polynomial, with $ C_{pL} $ in J/(kmol K) and $T$ in K:\n",
    "\n",
    "$$ C_{pL} = C1 + C2T + C3T^2 + C4T^3 + C5T^4 $$\n",
    "\n",
    "The 345 different compounds have between 1 and 5 constants tabulated, with upper and lower temperatures for acceptable use. Write a function that can compute the heat capacity (in KJ/(kmol K), rounded to 2 decimal places) for the following compounds at a certain temperature. However, it must display a warning if the given temperature is out of the acceptable range. \n",
    "\n",
    "Do not:\n",
    " - Change the given lists below (e.g. by adding zeros); use them as the input\n",
    " - Truncate the polynomial\n",
    " \n",
    "Answer: For water at 400 K, $C_{pL}$ = 76.78 kJ/(kmol K)"
   ]
  },
  {
   "cell_type": "markdown",
   "metadata": {},
   "source": [
    "|    Species    |    C1        |    C2         |    C3       |    C4           |    C5           |    Tmin (K)    |Tmax (K)  |\n",
    "|---------------|--------------|---------------|-------------|-----------------|-----------------|----------------|----------|\n",
    "|    Tolune     |    140140    |    -152.3     |    0.695    |    -            |    -            |    178.18      |500       |\n",
    "|    Water      |    276370    |    -2090.1    |    8.125    |    -0.014116    |    9.3701E-6    |    273.16      |533.15    |"
   ]
  },
  {
   "cell_type": "code",
   "execution_count": 64,
   "metadata": {},
   "outputs": [],
   "source": [
    "const_t = [140140, -152.3, 0.695]\n",
    "temps_t = [178.18, 500]\n",
    "const_w = [276370, -2090.1, 8.125, -0.014116, 9.3701E-6]\n",
    "temps_w = [273.16, 533.15]"
   ]
  },
  {
   "cell_type": "markdown",
   "metadata": {},
   "source": [
    "## Exercise 3.1: \n",
    "\n",
    "Redo Ex 2.2 but with arrays. How much shorter is your code now?"
   ]
  },
  {
   "cell_type": "markdown",
   "metadata": {},
   "source": [
    "## Exercise 3.2:\n",
    "\n",
    "Write a function that accepts a vector $u$ and checks whether each element is divisible by 2. If it is divisible by 2, it must store a 1 in the position of the even component. Otherwise it must store a zero. Zero is an even number.\n",
    "\n",
    "\\begin{array}{lcl}\n",
    "u = \n",
    "\\begin{bmatrix}\n",
    "2 & 0 & -6 & 7 & 10 & -4 & -11\\\\\n",
    "\\end{bmatrix}\n",
    "\\end{array}\n",
    "\n",
    "\\begin{array}{lcl} \n",
    "u_{even} = \n",
    "\\begin{bmatrix}\n",
    "1 & 1 & 1 & 0 & 1 & 1 & 0\\\\\n",
    "\\end{bmatrix}\n",
    "\\end{array}"
   ]
  },
  {
   "cell_type": "markdown",
   "metadata": {},
   "source": [
    "## Exercise 3.3:\n",
    "\n",
    "Matrix A is antisymmetric (skew-symmetric) if it is square and the following holds for all $i$ = 0, 1, 2,..., n and $j$ = 0, 1, 2,..., n:\n",
    "\n",
    "$$ A(i,j) = -A(j,i) $$\n",
    "\n",
    "For example:\n",
    "\\begin{bmatrix}\n",
    "0 & 1 & -2 & 3 \\\\\n",
    "-1 & 0 & 4 & -5 \\\\\n",
    "2 & -4 & 0 & 6 \\\\\n",
    "-3 & 5 & -6 & 0\n",
    "\\end{bmatrix}\n",
    "\n",
    "Write a function that accepts a matrix and determines whether it is skew-symmetric or not."
   ]
  },
  {
   "cell_type": "markdown",
   "metadata": {},
   "source": [
    "## Exercise 4.1:\n",
    "\n",
    "a) Plot the isotherms for 1 mol of ideal gas at 25 °C and 100 °C, as the volume increases from 10–30 L. The y-axis should display Pressure (kPa) and the x-axis Volume (L). Also provide a title and legend.\n",
    "\n",
    "b) Draw a contour plot of the isotherms. The y-axis should display pressure from 80–300 kPa and the x-axis volume from 10–30 L. Use black lines for the temperature values.\n",
    "\n",
    "c) Plot the PVT-surface of 1 mol of an ideal gas, from 1 to 4 L and 10 to 70 °C. Display the temperature axis values in degrees Celsius.\n",
    "\n",
    "Now plot the PVT-surface of 1 mol water in the same region using the Van der Waals equation of state.\n",
    "$$ \\Big(P+ a \\Big(\\frac{n}{V}\\Big)^2\\Big)(V-nb) = nRT $$\n",
    "\n",
    "with a = 5.537 $\\frac{bar L^2}{mol}$\n",
    "and b = 0.03049 $\\frac{L}{mol}$\n",
    "\n",
    "[Data source](https://bit.ly/2VMxIu3)"
   ]
  },
  {
   "cell_type": "markdown",
   "metadata": {},
   "source": [
    "## Exercise 4.2:\n",
    "\n",
    "Illustrate the Maclaurin series from Ex 2.1. Write a function called `maclaurin_cos` that returns the Taylor approximation of cos at $x=0$ with a given order $n$. Plot the true cosine function with a black dashed-dot line and the value of cos(0) with a blue star. Plot the approximations from order 0 to 4 and place the legend such that it does not overlap a curve. The x-axis should range from -5 to 5, and the y-axis from -2 to 2.\n",
    "\n",
    "Note: you may want to use `math.factorial` or `numpy.math.factorial()`"
   ]
  },
  {
   "cell_type": "markdown",
   "metadata": {},
   "source": [
    "## Exercise 4.3:\n",
    "\n",
    "Generate Gaussian random data with an average of 50, standard deviation of 20 and 88 data points. Draw a 1x2 subplot. The plot on the left must be a histogram in which the values below the average are red and the values above it are blue. The plot on the right must show the cumulative frequency for each data point (thus the y-axis spans 0 to 1), as well as a dashed vertical line at the average."
   ]
  },
  {
   "cell_type": "code",
   "execution_count": null,
   "metadata": {},
   "outputs": [],
   "source": []
  }
 ],
 "metadata": {
  "kernelspec": {
   "display_name": "Python 3",
   "language": "python",
   "name": "python3"
  },
  "language_info": {
   "codemirror_mode": {
    "name": "ipython",
    "version": 3
   },
   "file_extension": ".py",
   "mimetype": "text/x-python",
   "name": "python",
   "nbconvert_exporter": "python",
   "pygments_lexer": "ipython3",
   "version": "3.7.1"
  },
  "toc": {
   "base_numbering": 1,
   "nav_menu": {},
   "number_sections": true,
   "sideBar": true,
   "skip_h1_title": false,
   "title_cell": "Table of Contents",
   "title_sidebar": "Contents",
   "toc_cell": false,
   "toc_position": {},
   "toc_section_display": true,
   "toc_window_display": false
  },
  "varInspector": {
   "cols": {
    "lenName": 16,
    "lenType": 16,
    "lenVar": 40
   },
   "kernels_config": {
    "python": {
     "delete_cmd_postfix": "",
     "delete_cmd_prefix": "del ",
     "library": "var_list.py",
     "varRefreshCmd": "print(var_dic_list())"
    },
    "r": {
     "delete_cmd_postfix": ") ",
     "delete_cmd_prefix": "rm(",
     "library": "var_list.r",
     "varRefreshCmd": "cat(var_dic_list()) "
    }
   },
   "types_to_exclude": [
    "module",
    "function",
    "builtin_function_or_method",
    "instance",
    "_Feature"
   ],
   "window_display": false
  }
 },
 "nbformat": 4,
 "nbformat_minor": 2
}
