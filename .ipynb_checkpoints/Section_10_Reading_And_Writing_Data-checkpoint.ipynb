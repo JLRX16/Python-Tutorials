{
 "cells": [
  {
   "cell_type": "markdown",
   "metadata": {
    "slideshow": {
     "slide_type": "slide"
    }
   },
   "source": [
    "# Reading And Writing Data\n",
    "\n",
    "- [Overview](#Overview)\n",
    "- [Data From Excel](#Data-From-Excel)\n",
    "- [Data Into Python](#Data-Into-Python)\n",
    "- [Dictionaries Introduction](#Dictionaries-Introduction)\n",
    "- [Data From Python](#Data-From-Python)\n"
   ]
  },
  {
   "cell_type": "markdown",
   "metadata": {
    "slideshow": {
     "slide_type": "slide"
    }
   },
   "source": [
    "## Overview\n",
    "\n",
    "- In *Excel* $\\to$ save as `.csv` or `.xlsx` files\n",
    "- In *Python* $\\to$ use the `pandas` module\n",
    "- Further `pandas` documentation:\n",
    "    - [10 Minutes to Pandas](http://pandas.pydata.org/pandas-docs/stable/10min.html)\n",
    "    - [Pandas Tutorials](http://pandas.pydata.org/pandas-docs/stable/tutorials.html)"
   ]
  },
  {
   "cell_type": "markdown",
   "metadata": {
    "slideshow": {
     "slide_type": "slide"
    }
   },
   "source": [
    "## Getting Data In/Out\n",
    "\n",
    "### Data From *Excel*\n",
    "\n",
    "- Saving data $\\to$ Save As $\\to$ `xlsx Spreadsheet (.xlsx)`\n",
    "- Saving data $\\to$ Save As $\\to$ `Text CSV (.csv)`\n",
    "    - Export settings:\n",
    "        - Field delimiter $\\to$ separates data by this character\n",
    "- Saving data $\\to$ Save As $\\to$ `Microsoft Excel (.xlsx)`\n",
    "- `.csv` vs `.xlsx`\n",
    "    - `.csv` $\\to$ raw text data $\\to$ no formula are stored $\\to$ only values stored\n",
    "    - `.xlsx` $\\to$ store formula and values"
   ]
  },
  {
   "cell_type": "markdown",
   "metadata": {
    "slideshow": {
     "slide_type": "slide"
    }
   },
   "source": [
    "### Data Into *Python*\n",
    "\n",
    "- Load data with `pandas`:\n",
    "    - `pandas.read_csv(filename)`\n",
    "    - `pandas.read_excel(filename, sheet_name=sheet)`\n",
    "\n",
    "### Outcomes\n",
    "- load data into *Python*\n",
    "- `pandas` data frame object\n",
    "    - `index` $\\to$ row indexes\n",
    "    - `columns` $\\to$ column headings\n",
    "    - `values` $\\to$ `numpy` array of data\n",
    "- selecting data\n",
    "    - selecting one or more columns of data\n",
    "    - selecting one or more rows of data\n",
    "- plot darts (scatter plot)\n",
    "- plot histogram of darts distance"
   ]
  },
  {
   "cell_type": "code",
   "execution_count": null,
   "metadata": {
    "scrolled": false,
    "slideshow": {
     "slide_type": "subslide"
    }
   },
   "outputs": [],
   "source": [
    "%matplotlib inline\n",
    "import pandas as pd\n",
    "from matplotlib import pyplot as plt\n",
    "\n",
    "#pdata = pd.read_csv('data_files/darts_data.csv')\n",
    "pdata = pd.read_csv('data_files\\darts_data.csv')\n",
    "print(pdata)\n",
    "# print(pdata.index)\n",
    "# print(pdata.columns)\n",
    "# print(pdata.values)\n",
    "# print(pdata[['x coord', 'y coord']])\n",
    "# print(pdata.loc[[0, 1]])\n",
    "\n",
    "plt.figure(1)\n",
    "plt.plot(pdata['x coord'], pdata['y coord'], 'r*')\n",
    "\n",
    "plt.figure(2)\n",
    "plt.hist(pdata['dist'])\n",
    "\n",
    "plt.show()"
   ]
  },
  {
   "cell_type": "code",
   "execution_count": null,
   "metadata": {
    "slideshow": {
     "slide_type": "subslide"
    }
   },
   "outputs": [],
   "source": [
    "%matplotlib inline\n",
    "import pandas as pd\n",
    "from matplotlib import pyplot as plt\n",
    "\n",
    "#pdata = pd.read_excel('data_files/darts_data.xlsx', sheet_name='Sheet1')\n",
    "pdata = pd.read_excel('data_files\\darts_data.xlsx', sheet_name='Sheet1')\n",
    "# print(pdata)\n",
    "# print(pdata.index)\n",
    "# print(pdata.columns)\n",
    "# print(pdata.values)\n",
    "# print(pdata[['x coord', 'y coord']])\n",
    "# print(pdata.loc[[0, 1]])\n",
    "\n",
    "plt.figure(1)\n",
    "plt.plot(pdata['x coord'], pdata['y coord'], 'r*')\n",
    "\n",
    "plt.figure(2)\n",
    "plt.hist(pdata['dist'])\n",
    "\n",
    "plt.show()"
   ]
  },
  {
   "cell_type": "markdown",
   "metadata": {},
   "source": [
    "### Dictionaries Introduction\n",
    "\n",
    "- Dictionaries allow us to group objects under 1 name using keywords\n",
    "- Created using curly brackets `{}`\n",
    "- Can store any object types or mix of object types"
   ]
  },
  {
   "cell_type": "code",
   "execution_count": null,
   "metadata": {},
   "outputs": [],
   "source": [
    "var = {\n",
    "    'x': [2, 5, 1, 0, 9],\n",
    "    'y': [1],\n",
    "    'z': [0, 1, 2],\n",
    "    'name': 'SomeName'\n",
    "}\n",
    "\n",
    "print(var)\n",
    "print(var['x'])\n",
    "print(var['name'])\n",
    "\n",
    "print(var['z'][2])\n",
    "\n",
    "lst = var['z']\n",
    "print(lst[2])"
   ]
  },
  {
   "cell_type": "code",
   "execution_count": null,
   "metadata": {},
   "outputs": [],
   "source": [
    "import numpy as np\n",
    "\n",
    "data = {\n",
    "    'x': np.array([4, 2,  5, 1]),\n",
    "    'y': np.array([8, 4, 10, 2])\n",
    "}\n",
    "\n",
    "print(type(data))\n",
    "print(data['x'])\n",
    "print(data['y'])"
   ]
  },
  {
   "cell_type": "markdown",
   "metadata": {},
   "source": [
    "- `pandas` data frame objects are just \"cleaver\" dictionary like objects"
   ]
  },
  {
   "cell_type": "markdown",
   "metadata": {},
   "source": [
    "### Example - Calculating molar mass\n",
    "\n",
    "- Calculate the molar mass of Glucose\n",
    "$$C_6 H_{12} O_6$$"
   ]
  },
  {
   "cell_type": "code",
   "execution_count": null,
   "metadata": {},
   "outputs": [],
   "source": [
    "atomic_weight = {\n",
    "    'H': 1,\n",
    "    'C': 12,\n",
    "    'N': 14,\n",
    "    'O': 16,\n",
    "    'S': 32\n",
    "}\n",
    "\n",
    "syms = ['C', 'H', 'O']\n",
    "mult = [ 6,   12,  6 ]\n",
    "\n",
    "mass = 0\n",
    "for i in range(len(syms)):\n",
    "    s = syms[i]\n",
    "    m = mult[i]\n",
    "    w = atomic_weight[s]\n",
    "    mass = mass + (w * m)\n",
    "print(mass)"
   ]
  },
  {
   "cell_type": "code",
   "execution_count": null,
   "metadata": {},
   "outputs": [],
   "source": [
    "atomic_weight = {'H': 1, 'C': 12, 'N': 14, 'O': 16, 'S': 32}\n",
    "\n",
    "def molar_mass(formula):\n",
    "    total = 0\n",
    "    for character in formula:\n",
    "        if character in atomic_weight:\n",
    "            weight = atomic_weight[character]\n",
    "            multiplier = 1\n",
    "        else:\n",
    "            multiplier = int(character) - 1\n",
    "        total = total + weight * multiplier\n",
    "    return total\n",
    "\n",
    "\n",
    "formula = ['C', 6, 'H', 12, 'O', 6]\n",
    "mass = molar_mass(formula)\n",
    "print(mass)"
   ]
  },
  {
   "cell_type": "markdown",
   "metadata": {
    "slideshow": {
     "slide_type": "slide"
    }
   },
   "source": [
    "### Data From *Python*\n",
    "\n",
    "- Create a `pandas` data frame object\n",
    "- Write data:\n",
    "    - `pandas.to_csv(filename)`\n",
    "    - `pandas.to_excel(filename, sheet_name=sheet)`\n",
    "\n",
    "### Outcomes\n",
    "- Creating a `pandas` data frame object\n",
    "- Writing the data to `.csv` or `.xlsx` files"
   ]
  },
  {
   "cell_type": "code",
   "execution_count": null,
   "metadata": {
    "slideshow": {
     "slide_type": "subslide"
    }
   },
   "outputs": [],
   "source": [
    "import numpy as np\n",
    "import pandas as pd\n",
    "\n",
    "x = np.linspace(0, 10, 100)\n",
    "y = x**2 + 10\n",
    "\n",
    "data = {\n",
    "    'x coords': x,\n",
    "    'y coords': y,\n",
    "}\n",
    "\n",
    "pdata = pd.DataFrame(data)\n",
    "\n",
    "pdata.to_csv('mydata.csv')\n",
    "pdata.to_excel('mydata.xlsx', sheet_name='Sheet2')"
   ]
  },
  {
   "cell_type": "markdown",
   "metadata": {},
   "source": [
    "### Example - Experimental Data\n",
    "\n",
    "- Consider an experimental setup whereby air is forced through a rectangular channel. Inside this channel there are several obstacles (cylindrical pins) that obstruct the flow.\n",
    "\n",
    "\n",
    "- The flow velocity and pressure is measured at 39 different points along the the channel with pressure taps\n",
    "\n",
    "\n",
    "- 50 data readings are taken for each of the pressure taps\n",
    "\n",
    "\n",
    "- Plot an error bar plot showing the statistical accuracy of the data readings for each probe\n",
    "\n",
    "\n",
    "###  Outcomes:\n",
    "\n",
    "- `array.reshape` function\n",
    "\n",
    "\n",
    "- Box plot (Error bar plot)"
   ]
  },
  {
   "cell_type": "code",
   "execution_count": null,
   "metadata": {},
   "outputs": [],
   "source": [
    "%matplotlib inline\n",
    "#%matplotlib qt5\n",
    "import pandas as pd\n",
    "from matplotlib import pyplot as plt\n",
    "\n",
    "dataframe = pd.read_csv('data_files/experimental_data.csv', sep='\\t')\n",
    "\n",
    "renolds = dataframe['Re'].values\n",
    "renolds = renolds.reshape((50, 39))\n",
    "\n",
    "plt.boxplot(renolds)\n",
    "plt.title(\"Error Bar Plot of Reynolds Number\")\n",
    "plt.xlabel(\"Probe Number\")\n",
    "plt.ylabel(\"Reynolds Number\")\n",
    "plt.show()"
   ]
  },
  {
   "cell_type": "markdown",
   "metadata": {},
   "source": [
    "### Re-shape in Numpy"
   ]
  },
  {
   "cell_type": "code",
   "execution_count": null,
   "metadata": {},
   "outputs": [],
   "source": [
    "import numpy as np\n",
    "aa = np.array([1,2,3,4,5,6,7,8,9,0])\n",
    "bb = np.copy(aa)\n",
    "aa = np.reshape(aa,(5,2),'F')\n",
    "aa"
   ]
  },
  {
   "cell_type": "code",
   "execution_count": null,
   "metadata": {},
   "outputs": [],
   "source": [
    "bb = np.reshape(bb,(5,2))\n",
    "bb"
   ]
  }
 ],
 "metadata": {
  "anaconda-cloud": {},
  "kernelspec": {
   "display_name": "Python 3",
   "language": "python",
   "name": "python3"
  },
  "language_info": {
   "codemirror_mode": {
    "name": "ipython",
    "version": 3
   },
   "file_extension": ".py",
   "mimetype": "text/x-python",
   "name": "python",
   "nbconvert_exporter": "python",
   "pygments_lexer": "ipython3",
   "version": "3.8.3"
  }
 },
 "nbformat": 4,
 "nbformat_minor": 1
}
