{
 "cells": [
  {
   "cell_type": "markdown",
   "metadata": {
    "slideshow": {
     "slide_type": "slide"
    }
   },
   "source": [
    "# GUIs (`Tkinter`)\n",
    "\n",
    "- [Overview](#Overview)\n",
    "- [Example - Integration-GUI](#Example---Integration-GUI)\n"
   ]
  },
  {
   "cell_type": "markdown",
   "metadata": {
    "slideshow": {
     "slide_type": "slide"
    }
   },
   "source": [
    "## Overview\n",
    "\n",
    "- Graphical User Interface (GUI):\n",
    "    - Graphical platform that allows users to interface with electronic devices through graphical icons and visual indicators, as opposed to text-based interfaces\n",
    "    - Almost every application (PC and Cell Phone) nowadays is a form\n",
    "        of GUI\n",
    "    - These GUI (programs / application) run continuously until the\n",
    "        user closes the application\n",
    "    - GUI's are generally action-reaction type of programs:\n",
    "        - GUI waits for an action from the user (either keyboard or mouse actions / inputs)\n",
    "        - GUI then performs a calculation, updated the display, etc. based on the type of user input\n",
    "        - GUI then waits again for an action from the user\n",
    "\n",
    "\n",
    "- GUI's in Python\n",
    "    - GUI's can be create using Python along with a package called `Tkinter` $\\to$ `Tk interface`\n",
    "    - `import Tkinter as Tk`\n",
    "    - [Documentation](https://wiki.python.org/moin/TkInter)"
   ]
  },
  {
   "cell_type": "markdown",
   "metadata": {
    "slideshow": {
     "slide_type": "slide"
    }
   },
   "source": [
    "### Example - Integration GUI\n",
    "- Create a GUI that allows the user to specify a function, a lower bound and a upper bound. The GUI must integrate the given function between the lower and upper bound once the user clicks on a button.\n",
    "\n",
    "<img src=\"./figures/Integrate_GUI.png\" alt=\"Integrate GUI\" style=\"height: 100px;\"/>"
   ]
  },
  {
   "cell_type": "markdown",
   "metadata": {
    "slideshow": {
     "slide_type": "slide"
    }
   },
   "source": [
    "- First steps:\n",
    "    - Create the main window (canvas) $\\to$ `main = Tk.Tk()`\n",
    "    - Execute the main event loop $\\to$ `main.mainloop()`\n",
    "\n",
    "\n",
    "- Understanding the `mainloop()`:\n",
    "    - This is a semi-infinite loop that the GUI enters\n",
    "    - GUI waits for user inputs (Events) inside this loop\n",
    "    - Only closing the GUI will end this loop"
   ]
  },
  {
   "cell_type": "code",
   "execution_count": null,
   "metadata": {},
   "outputs": [],
   "source": [
    "import tkinter as tk\n",
    "\n",
    "# create window\n",
    "main = tk.Tk()\n",
    "main.title(\"Integrate GUI\")\n",
    "\n",
    "# run the GUI\n",
    "# main.mainloop()"
   ]
  },
  {
   "cell_type": "markdown",
   "metadata": {
    "slideshow": {
     "slide_type": "slide"
    }
   },
   "source": [
    "- Next steps:\n",
    "    - Add objects (labels and text boxes) to the window (canvas)\n",
    "    - Labels $\\to$ used to add text information on the GUI $\\to$ `Tk.Label(main, text=text)`\n",
    "    - Text boxes $\\to$ used to capture information from the user $\\to$ `Tk.Entry(main)`"
   ]
  },
  {
   "cell_type": "code",
   "execution_count": null,
   "metadata": {},
   "outputs": [],
   "source": [
    "# create label objects\n",
    "label_func = tk.Label(main, text=\"Function:\")\n",
    "label_lbound = tk.Label(main, text=\"Lower:\")\n",
    "label_ubound = tk.Label(main, text=\"Upper:\")\n",
    "\n",
    "# create text box objects\n",
    "txtbox_func = tk.Entry(main, width=27)\n",
    "txtbox_lbound = tk.Entry(main, width=10)\n",
    "txtbox_ubound = tk.Entry(main, width=10)\n",
    "\n",
    "# set default values\n",
    "txtbox_func.insert(0, \"x**2\")\n",
    "txtbox_lbound.insert(0, \"0\")\n",
    "txtbox_ubound.insert(0, \"1\")"
   ]
  },
  {
   "cell_type": "markdown",
   "metadata": {
    "slideshow": {
     "slide_type": "slide"
    }
   },
   "source": [
    "- Next steps:\n",
    "    - Positioning the objects on the main window (canvas)\n",
    "    - Need to plan the layout of the GUI:\n",
    "        - Roughly a $3 \\times 4$ matrix grid\n",
    "\n",
    "<img src=\"./figures/Integrate_GUI_plan.png\" alt=\"Integrate GUI Plan\" style=\"height: 150px;\"/>"
   ]
  },
  {
   "cell_type": "markdown",
   "metadata": {
    "slideshow": {
     "slide_type": "slide"
    }
   },
   "source": [
    "- Next steps:\n",
    "    - Positioning the objects on the main window (canvas)\n",
    "    - Position object on a grid $\\to$ `object.grid(row=r, column=c, columnspan=cs, sticky=N,E,S,W`\n",
    "    - `row` $\\to$ row where the object should be placed\n",
    "    - `column` $\\to$ column where the object should be placed\n",
    "    - `columnspan` $\\to$ the number of columns the object spans over\n",
    "    - `sticky` $\\to$ the location of text of the object:\n",
    "        - N, E, S, W $\\to$ Top, Right, Bottom, Left"
   ]
  },
  {
   "cell_type": "code",
   "execution_count": null,
   "metadata": {},
   "outputs": [],
   "source": [
    "# place the gui objects on the window\n",
    "label_func.grid(row=0, column=0, sticky=tk.E)\n",
    "txtbox_func.grid(row=0, column=1, columnspan=3)\n",
    "\n",
    "label_lbound.grid(row=1, column=0, sticky=tk.E)\n",
    "txtbox_lbound.grid(row=1, column=1)\n",
    "label_ubound.grid(row=1, column=2, sticky=tk.E)\n",
    "txtbox_ubound.grid(row=1, column=3)"
   ]
  },
  {
   "cell_type": "markdown",
   "metadata": {
    "slideshow": {
     "slide_type": "slide"
    }
   },
   "source": [
    "- Next steps:\n",
    "    - Creating the function for the Integrate button\n",
    "    - Function created inside the script file $\\to$ Only time you ever do this is when creating functions for GUI objects or you have read up on, and understand Python namespace\n",
    "    - Get information from text box objects $\\to$ `object.get()` $\\to$ always returns the users input in a text box as a string !!\n",
    "    - Integrate function, lower bound and upper bound as strings $\\to$ how can we integrate a string function??"
   ]
  },
  {
   "cell_type": "code",
   "execution_count": null,
   "metadata": {},
   "outputs": [],
   "source": [
    "from scipy import integrate\n",
    "from tkinter import messagebox\n",
    "\n",
    "# function bound to button\n",
    "def integrate_function():\n",
    "    int_func_str = txtbox_func.get()\n",
    "    lbound = float(txtbox_lbound.get())\n",
    "    ubound = float(txtbox_ubound.get())\n",
    "\n",
    "    int_func = convert_str_to_function(int_func_str)\n",
    "    results = integrate.quad(int_func, lbound, ubound)\n",
    "    msg = \"Integration Result: %.3f \\n Error: %.3e\" % results\n",
    "    messagebox.showinfo(\"Results\", msg)"
   ]
  },
  {
   "cell_type": "markdown",
   "metadata": {
    "slideshow": {
     "slide_type": "slide"
    }
   },
   "source": [
    "- Next steps:\n",
    "    - Converting the string representation of the integration function to a proper Python function\n",
    "    - We need two tools:\n",
    "        - a wrapper function that takes the string function as an input and returns a proper Python function\n",
    "        - the `eval` function that evaluates the string as if it where Python code"
   ]
  },
  {
   "cell_type": "code",
   "execution_count": null,
   "metadata": {},
   "outputs": [],
   "source": [
    "# function for the integrate.quad function\n",
    "def convert_str_to_function(string_func):\n",
    "    def function(x):\n",
    "        return eval(string_func)\n",
    "    return function"
   ]
  },
  {
   "cell_type": "markdown",
   "metadata": {
    "slideshow": {
     "slide_type": "slide"
    }
   },
   "source": [
    "- Next steps:\n",
    "    - Adding the Integrate button\n",
    "    - Create the button $\\to$ `Tk.Button(main, text=text, command=function)`\n",
    "    - text $\\to$ text for the button\n",
    "    - command=function $\\to$ the Event Binding\n",
    "\n",
    "\n",
    "- Understanding Events and Bindings:\n",
    "    - Event $\\to$ action from the user (E.g. left mouse click on the button)\n",
    "    - Binding $\\to$ bind the event to a function call\n",
    "    - I.e. When the user gives a certain action (Event) then execute a certain function (Binding)\n",
    "    - Buttons always bind the right mouse button click to a function"
   ]
  },
  {
   "cell_type": "code",
   "execution_count": null,
   "metadata": {},
   "outputs": [],
   "source": [
    "# create button object\n",
    "button_integrate = tk.Button(\n",
    "    main,\n",
    "    text=\"Integrate\",\n",
    "    command=integrate_function\n",
    ")\n",
    "\n",
    "# place the gui objects on the window\n",
    "button_integrate.grid(row=2, column=0, columnspan=4)\n",
    "button_integrate.focus_set()"
   ]
  },
  {
   "cell_type": "markdown",
   "metadata": {
    "slideshow": {
     "slide_type": "slide"
    }
   },
   "source": [
    "- Final steps:\n",
    "    - Displaying the results of the integration $\\to$ `tkMessageBox.showinfo(Title, msg)`\n",
    "    - Polishing up the layout of the GUI\n",
    "    - Adjust the sizes of the text boxes\n",
    "    - Add default values (entries) for the text boxes\n",
    "    - How to give a certain object focus"
   ]
  },
  {
   "cell_type": "code",
   "execution_count": null,
   "metadata": {},
   "outputs": [],
   "source": [
    "# run the GUI\n",
    "main.mainloop()"
   ]
  }
 ],
 "metadata": {
  "anaconda-cloud": {},
  "kernelspec": {
   "display_name": "Python 3",
   "language": "python",
   "name": "python3"
  },
  "language_info": {
   "codemirror_mode": {
    "name": "ipython",
    "version": 3
   },
   "file_extension": ".py",
   "mimetype": "text/x-python",
   "name": "python",
   "nbconvert_exporter": "python",
   "pygments_lexer": "ipython3",
   "version": "3.8.3"
  }
 },
 "nbformat": 4,
 "nbformat_minor": 1
}
