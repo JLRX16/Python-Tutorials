{
 "cells": [
  {
   "cell_type": "markdown",
   "metadata": {
    "nbpresent": {
     "id": "83c27746-4523-4caf-beda-30225630e032"
    },
    "slideshow": {
     "slide_type": "slide"
    }
   },
   "source": [
    "# Programming and Information Technology $\\rule[1.5mm]{10mm}{0.8mm}$ 2021\n",
    "\n",
    "- [Welcome](#Welcome)\n",
    "- [Lecture Notes](#Lecture-Notes)\n",
    "- [Weekly Assignments](#Weekly-Assignments)\n",
    "- [Tests & Exams](#Tests-&-Exams)\n",
    "- [Plagiarism](#Plagiarism)\n",
    "- [Skill Development Stage](#Skill-Development-Stage)\n",
    "- [Roles & Responsibilities](#Roles-&-Responsibilities)\n",
    "- [Take Heed](#Take-Heed)\n",
    "- [Demo's](#Demo%27s)\n",
    "\n",
    "Lectures:\n",
    " - Lecturers: Mr II Setshedi, Ms D Ramatlo, Dr S Schmidt, Dr AJ Oberholster and Prof NJ Theron"
   ]
  },
  {
   "cell_type": "markdown",
   "metadata": {
    "nbpresent": {
     "id": "200b5dce-9c21-4299-a15b-52ff6e8011bb"
    },
    "slideshow": {
     "slide_type": "slide"
    }
   },
   "source": [
    "## Welcome\n",
    "\n",
    "Please check *clickUP* regularly for announcements of updates to these lecture notes.  (`clickUP` in the lecture notes means the module `MPR 213 S1 2021` on clickUP.)\n",
    "\n",
    "- Welcome and Overview\n",
    "\n",
    "- Please read the study guide.\n",
    "\n",
    "- All announcements via clickUP\n",
    "\n",
    "- Software and study material $\\to$ clickUP\n",
    "\n",
    "- Tutorial information and assignments $\\to$ clickUP"
   ]
  },
  {
   "cell_type": "markdown",
   "metadata": {},
   "source": [
    "## Lecture Notes\n",
    "\n",
    "- Download from clickUP\n",
    "- Viewed using Jupyter Notebook (https://jupyter.org) $\\to$ installed through Anaconda\n",
    "    - see clickUP  (`Software` content area) for installation instructions\n",
    "- Make use of ``nbtutor``\n",
    "    - see clickUP  (`Software` content area) for installation instructions\n",
    "- \"Getting started\" videos on clickUP (`Software` content area)"
   ]
  },
  {
   "cell_type": "markdown",
   "metadata": {
    "nbpresent": {
     "id": "6465b0bb-5e3e-42bc-95b8-35a461e0670c"
    },
    "slideshow": {
     "slide_type": "slide"
    }
   },
   "source": [
    "## Tutorial Sessions\n",
    "- Covers the concepts discussed in class the previous week.\n",
    "- Not compulsory $\\to$ not for marks\n",
    "- Interact and discuss with tutors\n",
    "- Get assistance with concepts and problems\n",
    "- Don’t expect the tutors to do the work for you !! $\\to$ They are there to give guidance only $\\to$ There to help you help yourself."
   ]
  },
  {
   "cell_type": "markdown",
   "metadata": {
    "nbpresent": {
     "id": "7b9beb1c-c1c4-4821-9cd0-603f2e71f4ac"
    },
    "slideshow": {
     "slide_type": "slide"
    }
   },
   "source": [
    "## Weekly Tutorial Assignments\n",
    "- Covers the concepts discussed in class the previous week.\n",
    "- Will be uploaded to clickUP.\n",
    "- Due each week Friday $\\to$ Feedback provided Monday or Tuesday.\n",
    "- Best form of practice and preparation for tests and exams.\n",
    "- Detailed instructions on clickUP !!\n",
    "    - All answers will be marked electronically (i.e., by a computer).\n",
    "    - All answers are graded binary (right or wrong) (see $\\S$6.4 of the Study Guide).\n",
    "    - Marks will contribute towards the semester mark."
   ]
  },
  {
   "cell_type": "markdown",
   "metadata": {
    "nbpresent": {
     "id": "f895807d-b77d-4d56-8fc7-c408a94706f3"
    },
    "slideshow": {
     "slide_type": "slide"
    }
   },
   "source": [
    "## Tests & Exams\n",
    "\n",
    "#### If on-campus:\n",
    "-   Closed book\n",
    "-   Written in the computer labs, with access to a PC\n",
    "-   Anaconda, Jupyter-Notebook and Microsoft Excel help documentation is available, but not those that are obtained via the internet\n",
    "\n",
    "#### If off-campus, online:\n",
    "-   Not closed book\n",
    "-   Written your \"own\" PC\n",
    "-   Be sure to familiarize yourself with alternative ways of answering the test/exam with an internet based notebook, like `Googel Colab`.  This allows you to answer the test/exam from a PC that does not even have Anaconda installed.\n",
    "\n",
    "#### In both cases:\n",
    "-   Detailed test instruction published on clickUP before the test/exam\n",
    "-   Carefully note $\\S$6.6 of the Study Guide, on penalty for errors in supplying your student number or computer number"
   ]
  },
  {
   "cell_type": "markdown",
   "metadata": {
    "nbpresent": {
     "id": "e57a3223-c554-432c-b58d-415802b9bd0e"
    },
    "slideshow": {
     "slide_type": "slide"
    }
   },
   "source": [
    "## Plagiarism\n",
    "\n",
    "- Still an issue and not worth the risk:\n",
    "    -   Several students expelled for cheating in test and exams\n",
    "    -   Several students with strikes against their names for copying assignments\n",
    "\n",
    "\n",
    "- Make sure you know what plagiarism is about:\n",
    "    -   Verbatim copying\n",
    "    -   Patch writing\n",
    "    -   Ghost writing\n",
    "    -   Etc.\n",
    "\n",
    "\n",
    "- More Information:\n",
    "    - [UP Library](http://www.library.up.ac.za/plagiarism/)\n",
    "    - [Plagiarism.org](http://www.plagiarism.org/article/what-is-plagiarism)\n",
    "\n",
    "\n",
    "- Plagiarism degrades the integrity of your qualification at the end of the day."
   ]
  },
  {
   "cell_type": "markdown",
   "metadata": {
    "nbpresent": {
     "id": "7cd9cc9a-a461-457f-aab6-3a09f447a566"
    },
    "slideshow": {
     "slide_type": "slide"
    }
   },
   "source": [
    "## Skill Development Stage\n",
    "\n",
    "<img src=\"./figures/skill_dev_stage.svg\" alt=\"Skill Development Stage\" style=\"height: 400px;\"/>\n",
    "- MPR213 $\\to$ Skill development based subject."
   ]
  },
  {
   "cell_type": "markdown",
   "metadata": {
    "nbpresent": {
     "id": "f3c5b2dc-e15a-4e2a-ae7a-cf295e8e231f"
    },
    "slideshow": {
     "slide_type": "slide"
    }
   },
   "source": [
    "## Roles & Responsibilities\n",
    "\n",
    "<img src=\"./figures/ability_vs_challenge.svg\" alt=\"Ability vs Challenge\" style=\"height: 400px;\"/>"
   ]
  },
  {
   "cell_type": "markdown",
   "metadata": {
    "nbpresent": {
     "id": "5937ec9e-49a1-4447-a0e5-e1c5f9686f4b"
    },
    "slideshow": {
     "slide_type": "slide"
    }
   },
   "source": [
    "## Roles & Responsibilities\n",
    "\n",
    "<img src=\"./figures/ability_vs_attitude.svg\" alt=\"Ability vs Attitude\" style=\"height: 400px;\"/>\n",
    "- Which quadrant are you?"
   ]
  },
  {
   "cell_type": "markdown",
   "metadata": {
    "slideshow": {
     "slide_type": "slide"
    }
   },
   "source": [
    "## Take Heed\n",
    "\n",
    "### Do\n",
    "- Take this to heart\n",
    "- Practice programming daily\n",
    "- Try solve class examples on your own (before looking at the answers)\n",
    "- Solve exercise problems, class examples, and assignments\n",
    "- Persevere\n",
    "- Play around with the code (change things)\n",
    "- Understand each and every line of code\n",
    "- Go to tutorial sessions with any and all questions\n",
    "\n",
    "### Don't\n",
    "- Brush this off as a lecturer's ramblings\n",
    "- Try cram a few days before a test / exam\n",
    "- Only read / run the answer code and “think” you understand\n",
    "- Only solve the tutorial assignments\n",
    "- Give up after 5 minutes and look at the solution\n",
    "- Get code to work once and leave it at that\n",
    "- Be happy with just a general understanding\n",
    "- Go to tutorial sessions just to do assignments\n",
    "\n",
    "### Questions:\n",
    "- Can you (did you) learn to play the guitar in one day?\n",
    "- Can you learn (cram) programming in one day?\n",
    "\n",
    "\n",
    "- Can you (did you) learn to play the guitar by just reading sheet music?\n",
    "- Can you learn to program just by reading code?\n",
    "\n",
    "\n",
    "- Can you (did you) learn to play the guitar by only playing one song?\n",
    "- Can you learn to program by just doing the assignment questions?"
   ]
  },
  {
   "cell_type": "markdown",
   "metadata": {
    "nbpresent": {
     "id": "f4934ec2-e2b8-4786-9b7d-eff28599f52b"
    },
    "slideshow": {
     "slide_type": "slide"
    }
   },
   "source": [
    "## Demo's\n",
    "\n",
    "- Calculation Demo\n",
    "    - Vector algebra (dot and cross product)\n",
    "    - Solve linear system of equations\n",
    "    - Compute eigenvalues\n",
    "\n",
    "\n",
    "- Plotting Demo\n",
    "\n",
    "\n",
    "- GUI Demo"
   ]
  },
  {
   "cell_type": "code",
   "execution_count": null,
   "metadata": {
    "nbpresent": {
     "id": "dc6384f2-6347-4fed-b571-b6d1a3da141a"
    },
    "slideshow": {
     "slide_type": "skip"
    }
   },
   "outputs": [],
   "source": []
  }
 ],
 "metadata": {
  "anaconda-cloud": {},
  "kernelspec": {
   "display_name": "Python 3",
   "language": "python",
   "name": "python3"
  },
  "language_info": {
   "codemirror_mode": {
    "name": "ipython",
    "version": 3
   },
   "file_extension": ".py",
   "mimetype": "text/x-python",
   "name": "python",
   "nbconvert_exporter": "python",
   "pygments_lexer": "ipython3",
   "version": "3.8.3"
  },
  "nbpresent": {
   "slides": {},
   "themes": {
    "default": "9fb530aa-f386-4abb-9c66-3e59c05223aa",
    "theme": {}
   }
  }
 },
 "nbformat": 4,
 "nbformat_minor": 1
}
