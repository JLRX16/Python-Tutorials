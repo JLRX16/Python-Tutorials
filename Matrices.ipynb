{
 "cells": [
  {
   "cell_type": "code",
   "execution_count": 2,
   "id": "b0520996",
   "metadata": {},
   "outputs": [],
   "source": [
    "import numpy as np\n",
    "import pandas\n",
    "import matplotlib.pyplot as plt\n",
    "%matplotlib notebook \n",
    "from scipy.integrate import solve_ivp "
   ]
  },
  {
   "cell_type": "markdown",
   "id": "c0b072a1",
   "metadata": {},
   "source": [
    "**Solving Matrices**"
   ]
  },
  {
   "cell_type": "markdown",
   "id": "ea595c08",
   "metadata": {},
   "source": [
    "## 5x5"
   ]
  },
  {
   "cell_type": "code",
   "execution_count": null,
   "id": "c4dbc5fc",
   "metadata": {},
   "outputs": [],
   "source": [
    "import numpy as np\n",
    "\n",
    "A = np.matrix([[ 0, 0, 0, 0, 0],\n",
    "               [ 0, 0, 0, 0, 0],\n",
    "               [ 0, 0, 0, 0, 0],\n",
    "               [ 0, 0, 0, 0, 0],\n",
    "               [ 0, 0, 0, 0, 0]])\n",
    "B = np.array([ 0, 0, 0, 0, 0])\n",
    "C = np.linalg.solve(A, B)\n",
    "print(C)"
   ]
  },
  {
   "cell_type": "markdown",
   "id": "433a2d60",
   "metadata": {},
   "source": [
    "## 6x6"
   ]
  },
  {
   "cell_type": "code",
   "execution_count": null,
   "id": "52265f8b",
   "metadata": {
    "collapsed": true,
    "jupyter": {
     "outputs_hidden": true
    }
   },
   "outputs": [],
   "source": [
    "import numpy as np\n",
    "\n",
    "A = np.matrix([[ 0, 0, 0, 0, 0, 0],\n",
    "               [ 0, 0, 0, 0, 0, 0],\n",
    "               [ 0, 0, 0, 0, 0, 0],\n",
    "               [ 0, 0, 0, 0, 0, 0],\n",
    "               [ 0, 0, 0, 0, 0, 0],\n",
    "               [ 0, 0, 0, 0, 0, 0]])\n",
    "B = np.array([ 0, 0, 0, 0, 0, 0])\n",
    "C = np.linalg.solve(A, B)\n",
    "print(C)"
   ]
  },
  {
   "cell_type": "markdown",
   "id": "f32bf10e",
   "metadata": {},
   "source": [
    "## 7x7"
   ]
  },
  {
   "cell_type": "code",
   "execution_count": null,
   "id": "93b6f7e3",
   "metadata": {
    "collapsed": true,
    "jupyter": {
     "outputs_hidden": true
    }
   },
   "outputs": [],
   "source": [
    "import numpy as np\n",
    "\n",
    "A = np.matrix([[ 0, 0, 0, 0, 0, 0, 0],\n",
    "               [ 0, 0, 0, 0, 0, 0, 0],\n",
    "               [ 0, 0, 0, 0, 0, 0, 0],\n",
    "               [ 0, 0, 0, 0, 0, 0, 0],\n",
    "               [ 0, 0, 0, 0, 0, 0, 0],\n",
    "               [ 0, 0, 0, 0, 0, 0, 0],\n",
    "               [ 0, 0, 0, 0, 0, 0, 0]])\n",
    "B = np.array([ 0, 0, 0, 0, 0, 0, 0])\n",
    "C = np.linalg.solve(A, B)\n",
    "print(C)"
   ]
  },
  {
   "cell_type": "markdown",
   "id": "e5ecd9df",
   "metadata": {},
   "source": [
    "## 8x8"
   ]
  },
  {
   "cell_type": "code",
   "execution_count": null,
   "id": "2fe2ba38",
   "metadata": {
    "collapsed": true,
    "jupyter": {
     "outputs_hidden": true
    }
   },
   "outputs": [],
   "source": [
    "import numpy as np\n",
    "\n",
    "A = np.matrix([[ 0, 0, 0, 0, 0, 0, 0, 0],\n",
    "               [ 0, 0, 0, 0, 0, 0, 0, 0],\n",
    "               [ 0, 0, 0, 0, 0, 0, 0, 0],\n",
    "               [ 0, 0, 0, 0, 0, 0, 0, 0],\n",
    "               [ 0, 0, 0, 0, 0, 0, 0, 0],\n",
    "               [ 0, 0, 0, 0, 0, 0, 0, 0],\n",
    "               [ 0, 0, 0, 0, 0, 0, 0, 0],\n",
    "               [ 0, 0, 0, 0, 0, 0, 0, 0]])\n",
    "B = np.array([ 0, 0, 0, 0, 0, 0, 0, 0])\n",
    "C = np.linalg.solve(A, B)\n",
    "print(C)"
   ]
  },
  {
   "cell_type": "markdown",
   "id": "29b1f47b",
   "metadata": {},
   "source": [
    "## 9x9"
   ]
  },
  {
   "cell_type": "code",
   "execution_count": null,
   "id": "68b01fe9",
   "metadata": {
    "collapsed": true,
    "jupyter": {
     "outputs_hidden": true
    }
   },
   "outputs": [],
   "source": [
    "import numpy as np\n",
    "\n",
    "A = np.matrix([[ 0, 0, 0, 0, 0, 0, 0, 0, 0],\n",
    "               [ 0, 0, 0, 0, 0, 0, 0, 0, 0],\n",
    "               [ 0, 0, 0, 0, 0, 0, 0, 0, 0],\n",
    "               [ 0, 0, 0, 0, 0, 0, 0, 0, 0],\n",
    "               [ 0, 0, 0, 0, 0, 0, 0, 0, 0],\n",
    "               [ 0, 0, 0, 0, 0, 0, 0, 0, 0],\n",
    "               [ 0, 0, 0, 0, 0, 0, 0, 0, 0],\n",
    "               [ 0, 0, 0, 0, 0, 0, 0, 0, 0],\n",
    "               [ 0, 0, 0, 0, 0, 0, 0, 0, 0]])\n",
    "B = np.array([ 0, 0, 0, 0, 0, 0, 0, 0, 0])\n",
    "C = np.linalg.solve(A, B)\n",
    "print(C)"
   ]
  },
  {
   "cell_type": "markdown",
   "id": "dab1ed0f",
   "metadata": {},
   "source": [
    "## 10x10"
   ]
  },
  {
   "cell_type": "code",
   "execution_count": null,
   "id": "c9cb0e83",
   "metadata": {
    "collapsed": true,
    "jupyter": {
     "outputs_hidden": true
    }
   },
   "outputs": [],
   "source": [
    "import numpy as np\n",
    "\n",
    "A = np.matrix([[ 0, 0, 0, 0, 0, 0, 0, 0, 0, 0],\n",
    "               [ 0, 0, 0, 0, 0, 0, 0, 0, 0, 0],\n",
    "               [ 0, 0, 0, 0, 0, 0, 0, 0, 0, 0],\n",
    "               [ 0, 0, 0, 0, 0, 0, 0, 0, 0, 0],\n",
    "               [ 0, 0, 0, 0, 0, 0, 0, 0, 0, 0],\n",
    "               [ 0, 0, 0, 0, 0, 0, 0, 0, 0, 0],\n",
    "               [ 0, 0, 0, 0, 0, 0, 0, 0, 0, 0],\n",
    "               [ 0, 0, 0, 0, 0, 0, 0, 0, 0, 0],\n",
    "               [ 0, 0, 0, 0, 0, 0, 0, 0, 0, 0],\n",
    "               [ 0, 0, 0, 0, 0, 0, 0, 0, 0, 0]])\n",
    "B = np.array([ 0, 0, 0, 0, 0, 0, 0, 0, 0, 0])\n",
    "C = np.linalg.solve(A, B)\n",
    "print(C)"
   ]
  },
  {
   "cell_type": "markdown",
   "id": "23e3b22c",
   "metadata": {},
   "source": [
    "## 11x11"
   ]
  },
  {
   "cell_type": "code",
   "execution_count": null,
   "id": "1ca20ad3",
   "metadata": {
    "collapsed": true,
    "jupyter": {
     "outputs_hidden": true
    }
   },
   "outputs": [],
   "source": [
    "import numpy as np\n",
    "\n",
    "A = np.matrix([[ 0, 0, 0, 0, 0, 0, 0, 0, 0, 0, 0],\n",
    "               [ 0, 0, 0, 0, 0, 0, 0, 0, 0, 0, 0],\n",
    "               [ 0, 0, 0, 0, 0, 0, 0, 0, 0, 0, 0],\n",
    "               [ 0, 0, 0, 0, 0, 0, 0, 0, 0, 0, 0],\n",
    "               [ 0, 0, 0, 0, 0, 0, 0, 0, 0, 0, 0],\n",
    "               [ 0, 0, 0, 0, 0, 0, 0, 0, 0, 0, 0],\n",
    "               [ 0, 0, 0, 0, 0, 0, 0, 0, 0, 0, 0],\n",
    "               [ 0, 0, 0, 0, 0, 0, 0, 0, 0, 0, 0],\n",
    "               [ 0, 0, 0, 0, 0, 0, 0, 0, 0, 0, 0],\n",
    "               [ 0, 0, 0, 0, 0, 0, 0, 0, 0, 0, 0],\n",
    "               [ 0, 0, 0, 0, 0, 0, 0, 0, 0, 0, 0]])\n",
    "B = np.array([ 0, 0, 0, 0, 0, 0, 0, 0, 0, 0, 0])\n",
    "C = np.linalg.solve(A, B)\n",
    "print(C)"
   ]
  },
  {
   "cell_type": "markdown",
   "id": "3b0d2e4e",
   "metadata": {},
   "source": [
    "## 12x12"
   ]
  },
  {
   "cell_type": "code",
   "execution_count": null,
   "id": "5d48a3e0",
   "metadata": {
    "collapsed": true,
    "jupyter": {
     "outputs_hidden": true
    }
   },
   "outputs": [],
   "source": [
    "import numpy as np\n",
    "\n",
    "A = np.matrix([[ 0, 0, 0, 0, 0, 0, 0, 0, 0, 0, 0, 0],\n",
    "               [ 0, 0, 0, 0, 0, 0, 0, 0, 0, 0, 0, 0],\n",
    "               [ 0, 0, 0, 0, 0, 0, 0, 0, 0, 0, 0, 0],\n",
    "               [ 0, 0, 0, 0, 0, 0, 0, 0, 0, 0, 0, 0],\n",
    "               [ 0, 0, 0, 0, 0, 0, 0, 0, 0, 0, 0, 0],\n",
    "               [ 0, 0, 0, 0, 0, 0, 0, 0, 0, 0, 0, 0],\n",
    "               [ 0, 0, 0, 0, 0, 0, 0, 0, 0, 0, 0, 0],\n",
    "               [ 0, 0, 0, 0, 0, 0, 0, 0, 0, 0, 0, 0],\n",
    "               [ 0, 0, 0, 0, 0, 0, 0, 0, 0, 0, 0, 0],\n",
    "               [ 0, 0, 0, 0, 0, 0, 0, 0, 0, 0, 0, 0],\n",
    "               [ 0, 0, 0, 0, 0, 0, 0, 0, 0, 0, 0, 0],\n",
    "               [ 0, 0, 0, 0, 0, 0, 0, 0, 0, 0, 0, 0]])\n",
    "B = np.array([ 0, 0, 0, 0, 0, 0, 0, 0, 0, 0, 0, 0])\n",
    "C = np.linalg.solve(A, B)\n",
    "print(C)"
   ]
  },
  {
   "cell_type": "markdown",
   "id": "1bc50761",
   "metadata": {},
   "source": [
    "**Importing Matrices To be Solved**"
   ]
  },
  {
   "cell_type": "code",
   "execution_count": null,
   "id": "7122acf2",
   "metadata": {},
   "outputs": [],
   "source": [
    "theta, mu = 0.1, 0.18\n",
    "S = numpy.matrix(pandas.read_excel('matrixst1.xlsx'))\n",
    "S1 = numpy.vstack([S,[0,1,0,0,0,0,0,0,0],[0,0,0,1,0,0,0,0,0]]) # Adding mu and zero GLY spec\n",
    "B = np.array([0,0,0,0,0,0,theta,mu,0]).T\n",
    "r= np.linalg.solve(S1, B)\n",
    "\n",
    "# Editing an imported array\n",
    "# print(a)\n",
    "#  [[ 0  1  2  3]\n",
    "#   [ 4  5  6  7]\n",
    "#   [ 8  9 10 11]]\n",
    "    \n",
    "#     print(np.delete(a, 1, 0))\n",
    "#  [[ 0  1  2  3]\n",
    "#  [ 8  9 10 11]]\n",
    "\n",
    "# print(np.delete(a, 1, 1))\n",
    "#  [[ 0  2  3]\n",
    "#   [ 4  6  7]\n",
    "#   [ 8 10 11]]\n"
   ]
  }
 ],
 "metadata": {
  "kernelspec": {
   "display_name": "Python 3 (Spyder)",
   "language": "python3",
   "name": "python3"
  },
  "language_info": {
   "codemirror_mode": {
    "name": "ipython",
    "version": 3
   },
   "file_extension": ".py",
   "mimetype": "text/x-python",
   "name": "python",
   "nbconvert_exporter": "python",
   "pygments_lexer": "ipython3",
   "version": "3.8.8"
  }
 },
 "nbformat": 4,
 "nbformat_minor": 5
}
