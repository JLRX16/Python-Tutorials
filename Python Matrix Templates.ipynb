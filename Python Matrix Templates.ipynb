{
 "cells": [
  {
   "cell_type": "markdown",
   "metadata": {},
   "source": [
    "# **Matrix Templates**"
   ]
  },
  {
   "cell_type": "markdown",
   "metadata": {},
   "source": [
    "## **SYMPY FORMATTING**"
   ]
  },
  {
   "cell_type": "markdown",
   "metadata": {},
   "source": [
    "#### (Easier to see equations)"
   ]
  },
  {
   "cell_type": "code",
   "execution_count": 1,
   "metadata": {},
   "outputs": [],
   "source": [
    "a, b, gamm, mu, theta = 0.12, 0.085, 1.8, 0.15, 0.05"
   ]
  },
  {
   "cell_type": "code",
   "execution_count": 3,
   "metadata": {},
   "outputs": [
    {
     "name": "stdout",
     "output_type": "stream",
     "text": [
      "alpha \n",
      "\n",
      "{r0: alpha + 1.0, r1: 0.150000000000000, r2: 0.527113636363636, r3: 0.244431818181818, r4: 0.282681818181818, r5: 0.376909090909091, r6: 0.0814772727272727, r7: 0.0, r8: 0.162954545454545} \n",
      "\n",
      "0.150000000000000\n"
     ]
    }
   ],
   "source": [
    "import sympy as sp\n",
    "r0, r1, r2, r3, r4, r5, r6, r7, r8 = sp.symbols('r0, r1, r2, r3, r4, r5, r6, r7, r8', real = True) #Assigning variables as symbols[as they will be printed,\n",
    "a = sp.symbols('alpha')                                                                            #if known will be real - makes solving easier on sympy, \n",
    "print(a, '\\n')                                                                                     # can also use positive = True if all symbols >0 not ==0 \n",
    "\n",
    "equations = [r0 - (1+a),\n",
    "            r2 - r3 - r4,\n",
    "            r3 - r6 -r7 -r8,\n",
    "            r5 - 4*r4/3,\n",
    "            r8 - 2*r3/3,\n",
    "            b*r1 + r2/3 -r5/2 +r7,\n",
    "            -gamm*r1 + r3/3 + r4/3 + r5/6 + r8/2 -theta,\n",
    "            r1 - mu,\n",
    "            r7 -0]\n",
    "\n",
    "#Equations need to be normalised to eqn=0 in list \n",
    "\n",
    "ans = sp.solve(equations, [r0, r1, r2, r3, r4, r5, r6, r7, r8]) #function needs list of eqns and list of symbols to be solved \n",
    "#if known linear eqns can use sp.linsolve(eqns, [symbols]) to solve quicker                                                   \n",
    "print(ans, '\\n')  # ans is variable dictionary therefore...\n",
    "print(ans[r1])\n"
   ]
  },
  {
   "cell_type": "markdown",
   "metadata": {},
   "source": [
    "## **NUMPY FORMATTING**"
   ]
  },
  {
   "cell_type": "markdown",
   "metadata": {},
   "source": [
    "#### (Faster solving if done right)"
   ]
  },
  {
   "cell_type": "markdown",
   "metadata": {},
   "source": [
    "## 5x5"
   ]
  },
  {
   "cell_type": "code",
   "execution_count": null,
   "metadata": {},
   "outputs": [],
   "source": [
    "import numpy as np\n",
    "\n",
    "A = np.matrix([[ 0, 0, 0, 0, 0],\n",
    "               [ 0, 0, 0, 0, 0],\n",
    "               [ 0, 0, 0, 0, 0],\n",
    "               [ 0, 0, 0, 0, 0],\n",
    "               [ 0, 0, 0, 0, 0]])\n",
    "B = np.array([ 0, 0, 0, 0, 0])\n",
    "C = np.linalg.solve(A, B)\n",
    "print(C)"
   ]
  },
  {
   "cell_type": "markdown",
   "metadata": {},
   "source": [
    "## 6x6"
   ]
  },
  {
   "cell_type": "code",
   "execution_count": null,
   "metadata": {
    "collapsed": true,
    "jupyter": {
     "outputs_hidden": true
    }
   },
   "outputs": [],
   "source": [
    "import numpy as np\n",
    "\n",
    "A = np.matrix([[ 0, 0, 0, 0, 0, 0],\n",
    "               [ 0, 0, 0, 0, 0, 0],\n",
    "               [ 0, 0, 0, 0, 0, 0],\n",
    "               [ 0, 0, 0, 0, 0, 0],\n",
    "               [ 0, 0, 0, 0, 0, 0],\n",
    "               [ 0, 0, 0, 0, 0, 0]])\n",
    "B = np.array([ 0, 0, 0, 0, 0, 0])\n",
    "C = np.linalg.solve(A, B)\n",
    "print(C)"
   ]
  },
  {
   "cell_type": "markdown",
   "metadata": {},
   "source": [
    "## 7x7"
   ]
  },
  {
   "cell_type": "code",
   "execution_count": null,
   "metadata": {
    "collapsed": true,
    "jupyter": {
     "outputs_hidden": true
    }
   },
   "outputs": [],
   "source": [
    "import numpy as np\n",
    "\n",
    "A = np.matrix([[ 0, 0, 0, 0, 0, 0, 0],\n",
    "               [ 0, 0, 0, 0, 0, 0, 0],\n",
    "               [ 0, 0, 0, 0, 0, 0, 0],\n",
    "               [ 0, 0, 0, 0, 0, 0, 0],\n",
    "               [ 0, 0, 0, 0, 0, 0, 0],\n",
    "               [ 0, 0, 0, 0, 0, 0, 0],\n",
    "               [ 0, 0, 0, 0, 0, 0, 0]])\n",
    "B = np.array([ 0, 0, 0, 0, 0, 0, 0])\n",
    "C = np.linalg.solve(A, B)\n",
    "print(C)"
   ]
  },
  {
   "cell_type": "markdown",
   "metadata": {},
   "source": [
    "## 8x8"
   ]
  },
  {
   "cell_type": "code",
   "execution_count": null,
   "metadata": {
    "collapsed": true,
    "jupyter": {
     "outputs_hidden": true
    }
   },
   "outputs": [],
   "source": [
    "import numpy as np\n",
    "\n",
    "A = np.matrix([[ 0, 0, 0, 0, 0, 0, 0, 0],\n",
    "               [ 0, 0, 0, 0, 0, 0, 0, 0],\n",
    "               [ 0, 0, 0, 0, 0, 0, 0, 0],\n",
    "               [ 0, 0, 0, 0, 0, 0, 0, 0],\n",
    "               [ 0, 0, 0, 0, 0, 0, 0, 0],\n",
    "               [ 0, 0, 0, 0, 0, 0, 0, 0],\n",
    "               [ 0, 0, 0, 0, 0, 0, 0, 0],\n",
    "               [ 0, 0, 0, 0, 0, 0, 0, 0]])\n",
    "B = np.array([ 0, 0, 0, 0, 0, 0, 0, 0])\n",
    "C = np.linalg.solve(A, B)\n",
    "print(C)"
   ]
  },
  {
   "cell_type": "markdown",
   "metadata": {},
   "source": [
    "## 9x9"
   ]
  },
  {
   "cell_type": "code",
   "execution_count": null,
   "metadata": {
    "collapsed": true,
    "jupyter": {
     "outputs_hidden": true
    }
   },
   "outputs": [],
   "source": [
    "import numpy as np\n",
    "\n",
    "A = np.matrix([[ 0, 0, 0, 0, 0, 0, 0, 0, 0],\n",
    "               [ 0, 0, 0, 0, 0, 0, 0, 0, 0],\n",
    "               [ 0, 0, 0, 0, 0, 0, 0, 0, 0],\n",
    "               [ 0, 0, 0, 0, 0, 0, 0, 0, 0],\n",
    "               [ 0, 0, 0, 0, 0, 0, 0, 0, 0],\n",
    "               [ 0, 0, 0, 0, 0, 0, 0, 0, 0],\n",
    "               [ 0, 0, 0, 0, 0, 0, 0, 0, 0],\n",
    "               [ 0, 0, 0, 0, 0, 0, 0, 0, 0],\n",
    "               [ 0, 0, 0, 0, 0, 0, 0, 0, 0]])\n",
    "B = np.array([ 0, 0, 0, 0, 0, 0, 0, 0, 0])\n",
    "C = np.linalg.solve(A, B)\n",
    "print(C)"
   ]
  },
  {
   "cell_type": "markdown",
   "metadata": {},
   "source": [
    "## 10x10"
   ]
  },
  {
   "cell_type": "code",
   "execution_count": null,
   "metadata": {
    "collapsed": true,
    "jupyter": {
     "outputs_hidden": true
    }
   },
   "outputs": [],
   "source": [
    "import numpy as np\n",
    "\n",
    "A = np.matrix([[ 0, 0, 0, 0, 0, 0, 0, 0, 0, 0],\n",
    "               [ 0, 0, 0, 0, 0, 0, 0, 0, 0, 0],\n",
    "               [ 0, 0, 0, 0, 0, 0, 0, 0, 0, 0],\n",
    "               [ 0, 0, 0, 0, 0, 0, 0, 0, 0, 0],\n",
    "               [ 0, 0, 0, 0, 0, 0, 0, 0, 0, 0],\n",
    "               [ 0, 0, 0, 0, 0, 0, 0, 0, 0, 0],\n",
    "               [ 0, 0, 0, 0, 0, 0, 0, 0, 0, 0],\n",
    "               [ 0, 0, 0, 0, 0, 0, 0, 0, 0, 0],\n",
    "               [ 0, 0, 0, 0, 0, 0, 0, 0, 0, 0],\n",
    "               [ 0, 0, 0, 0, 0, 0, 0, 0, 0, 0]])\n",
    "B = np.array([ 0, 0, 0, 0, 0, 0, 0, 0, 0, 0])\n",
    "C = np.linalg.solve(A, B)\n",
    "print(C)"
   ]
  },
  {
   "cell_type": "markdown",
   "metadata": {},
   "source": [
    "## 11x11"
   ]
  },
  {
   "cell_type": "code",
   "execution_count": null,
   "metadata": {
    "collapsed": true,
    "jupyter": {
     "outputs_hidden": true
    }
   },
   "outputs": [],
   "source": [
    "import numpy as np\n",
    "\n",
    "A = np.matrix([[ 0, 0, 0, 0, 0, 0, 0, 0, 0, 0, 0],\n",
    "               [ 0, 0, 0, 0, 0, 0, 0, 0, 0, 0, 0],\n",
    "               [ 0, 0, 0, 0, 0, 0, 0, 0, 0, 0, 0],\n",
    "               [ 0, 0, 0, 0, 0, 0, 0, 0, 0, 0, 0],\n",
    "               [ 0, 0, 0, 0, 0, 0, 0, 0, 0, 0, 0],\n",
    "               [ 0, 0, 0, 0, 0, 0, 0, 0, 0, 0, 0],\n",
    "               [ 0, 0, 0, 0, 0, 0, 0, 0, 0, 0, 0],\n",
    "               [ 0, 0, 0, 0, 0, 0, 0, 0, 0, 0, 0],\n",
    "               [ 0, 0, 0, 0, 0, 0, 0, 0, 0, 0, 0],\n",
    "               [ 0, 0, 0, 0, 0, 0, 0, 0, 0, 0, 0],\n",
    "               [ 0, 0, 0, 0, 0, 0, 0, 0, 0, 0, 0]])\n",
    "B = np.array([ 0, 0, 0, 0, 0, 0, 0, 0, 0, 0, 0])\n",
    "C = np.linalg.solve(A, B)\n",
    "print(C)"
   ]
  },
  {
   "cell_type": "markdown",
   "metadata": {},
   "source": [
    "## 12x12"
   ]
  },
  {
   "cell_type": "code",
   "execution_count": null,
   "metadata": {
    "collapsed": true,
    "jupyter": {
     "outputs_hidden": true
    }
   },
   "outputs": [],
   "source": [
    "import numpy as np\n",
    "\n",
    "A = np.matrix([[ 0, 0, 0, 0, 0, 0, 0, 0, 0, 0, 0, 0],\n",
    "               [ 0, 0, 0, 0, 0, 0, 0, 0, 0, 0, 0, 0],\n",
    "               [ 0, 0, 0, 0, 0, 0, 0, 0, 0, 0, 0, 0],\n",
    "               [ 0, 0, 0, 0, 0, 0, 0, 0, 0, 0, 0, 0],\n",
    "               [ 0, 0, 0, 0, 0, 0, 0, 0, 0, 0, 0, 0],\n",
    "               [ 0, 0, 0, 0, 0, 0, 0, 0, 0, 0, 0, 0],\n",
    "               [ 0, 0, 0, 0, 0, 0, 0, 0, 0, 0, 0, 0],\n",
    "               [ 0, 0, 0, 0, 0, 0, 0, 0, 0, 0, 0, 0],\n",
    "               [ 0, 0, 0, 0, 0, 0, 0, 0, 0, 0, 0, 0],\n",
    "               [ 0, 0, 0, 0, 0, 0, 0, 0, 0, 0, 0, 0],\n",
    "               [ 0, 0, 0, 0, 0, 0, 0, 0, 0, 0, 0, 0],\n",
    "               [ 0, 0, 0, 0, 0, 0, 0, 0, 0, 0, 0, 0]])\n",
    "B = np.array([ 0, 0, 0, 0, 0, 0, 0, 0, 0, 0, 0, 0])\n",
    "C = np.linalg.solve(A, B)\n",
    "print(C)"
   ]
  },
  {
   "cell_type": "code",
   "execution_count": null,
   "metadata": {
    "collapsed": true,
    "jupyter": {
     "outputs_hidden": true
    }
   },
   "outputs": [],
   "source": []
  },
  {
   "cell_type": "code",
   "execution_count": null,
   "metadata": {
    "collapsed": true,
    "jupyter": {
     "outputs_hidden": true
    }
   },
   "outputs": [],
   "source": []
  },
  {
   "cell_type": "code",
   "execution_count": null,
   "metadata": {
    "collapsed": true,
    "jupyter": {
     "outputs_hidden": true
    }
   },
   "outputs": [],
   "source": []
  }
 ],
 "metadata": {
  "kernelspec": {
   "display_name": "Python 3 (Spyder)",
   "language": "python3",
   "name": "python3"
  },
  "language_info": {
   "codemirror_mode": {
    "name": "ipython",
    "version": 3
   },
   "file_extension": ".py",
   "mimetype": "text/x-python",
   "name": "python",
   "nbconvert_exporter": "python",
   "pygments_lexer": "ipython3",
   "version": "3.8.8"
  }
 },
 "nbformat": 4,
 "nbformat_minor": 4
}
