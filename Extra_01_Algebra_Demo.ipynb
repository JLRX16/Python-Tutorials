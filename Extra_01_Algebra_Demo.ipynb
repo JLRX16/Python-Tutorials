{
 "cells": [
  {
   "cell_type": "markdown",
   "metadata": {
    "slideshow": {
     "slide_type": "slide"
    }
   },
   "source": [
    "# Demos - Algebra\n",
    "\n",
    "## Vector Algebra Computations"
   ]
  },
  {
   "cell_type": "code",
   "execution_count": 1,
   "metadata": {
    "slideshow": {
     "slide_type": "subslide"
    }
   },
   "outputs": [
    {
     "name": "stdout",
     "output_type": "stream",
     "text": [
      "The dot product of [1 0 0] and [1 0 0] is 1.\n"
     ]
    }
   ],
   "source": [
    "import numpy as np\n",
    "import numpy.linalg as la\n",
    "import os\n",
    "\n",
    "msg = \"The {} product of {} and {} is {}.\"\n",
    "vector1 = np.array([1, 0, 0])\n",
    "vector2 = vector1\n",
    "\n",
    "print(msg.format('dot', vector1, vector2, np.dot(vector1, vector2)))"
   ]
  },
  {
   "cell_type": "code",
   "execution_count": null,
   "metadata": {
    "slideshow": {
     "slide_type": "subslide"
    }
   },
   "outputs": [],
   "source": [
    "vector1 = np.array([1, 0, 0])\n",
    "vector2 = np.array([0, 1, 0])\n",
    "print(msg.format('dot', vector1, vector2, np.dot(vector1, vector2)))"
   ]
  },
  {
   "cell_type": "code",
   "execution_count": null,
   "metadata": {
    "slideshow": {
     "slide_type": "subslide"
    }
   },
   "outputs": [],
   "source": [
    "vector1 = np.array([2, 4, 6])\n",
    "vector2 = np.array([1, 1, 1])\n",
    "print(msg.format('dot', vector1, vector2, np.dot(vector1, vector2)))"
   ]
  },
  {
   "cell_type": "code",
   "execution_count": null,
   "metadata": {
    "slideshow": {
     "slide_type": "subslide"
    }
   },
   "outputs": [],
   "source": [
    "vector1 = np.array([1, 0, 0])\n",
    "vector2 = vector1\n",
    "print(msg.format('dot', vector1, vector2, np.dot(vector1, vector2)))"
   ]
  },
  {
   "cell_type": "code",
   "execution_count": null,
   "metadata": {
    "slideshow": {
     "slide_type": "subslide"
    }
   },
   "outputs": [],
   "source": [
    "vector1 = np.array([1, 0, 0])\n",
    "vector2 = np.array([0, 1, 0])\n",
    "print(msg.format('cross', vector1, vector2, np.cross(vector1, vector2)))"
   ]
  },
  {
   "cell_type": "code",
   "execution_count": null,
   "metadata": {
    "slideshow": {
     "slide_type": "subslide"
    }
   },
   "outputs": [],
   "source": [
    "vector1 = np.array([2, 4, 6])\n",
    "vector2 = np.array([1, 1, 1])\n",
    "print(msg.format('cross', vector1, vector2, np.cross(vector1, vector2)))"
   ]
  },
  {
   "cell_type": "code",
   "execution_count": null,
   "metadata": {
    "slideshow": {
     "slide_type": "subslide"
    }
   },
   "outputs": [],
   "source": [
    "print (\"Solving system of linear equations (Ax = b)\")\n",
    "A = np.array([[ 1, -1,  0,  0,  0],\n",
    "              [-1,  2, -2,  0,  0],\n",
    "              [ 0, -2,  2, -2,  0],\n",
    "              [ 0,  0, -2,  2, -2],\n",
    "              [ 0,  0,  0, -2,  2]])\n",
    "b = np.array([1, 1, 1, 1, 1])\n",
    "x = la.solve(A, b)\n",
    "\n",
    "msg = \"The solution of\\n {} {} = {}\\n is {}\"\n",
    "print(msg.format(A, \"[x1, x1, x3, x4, x5]\", b, x))"
   ]
  },
  {
   "cell_type": "code",
   "execution_count": null,
   "metadata": {
    "slideshow": {
     "slide_type": "subslide"
    }
   },
   "outputs": [],
   "source": [
    "lam, v = la.eig(A)\n",
    "\n",
    "print(\"Determining the eigen values (A - lambda*I)*v = 0\")\n",
    "print(\"The eigen values of\\n\", A, \"\\nare\", lam)\n",
    "print(\"\\nThe corresponding eigen vectors are\\n\", v)\n",
    "print(\"\\nQuick Test:\\n\", \"(A*v = lambda*v):\\n\", np.dot(A, v[:, 0]), \"=\\n\", lam[0] * v[:, 0])"
   ]
  },
  {
   "cell_type": "code",
   "execution_count": null,
   "metadata": {
    "slideshow": {
     "slide_type": "skip"
    }
   },
   "outputs": [],
   "source": []
  }
 ],
 "metadata": {
  "anaconda-cloud": {},
  "kernelspec": {
   "display_name": "Python 3",
   "language": "python",
   "name": "python3"
  },
  "language_info": {
   "codemirror_mode": {
    "name": "ipython",
    "version": 3
   },
   "file_extension": ".py",
   "mimetype": "text/x-python",
   "name": "python",
   "nbconvert_exporter": "python",
   "pygments_lexer": "ipython3",
   "version": "3.8.3"
  }
 },
 "nbformat": 4,
 "nbformat_minor": 1
}
