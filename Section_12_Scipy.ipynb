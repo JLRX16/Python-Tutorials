{
 "cells": [
  {
   "cell_type": "markdown",
   "metadata": {},
   "source": [
    "# Scipy\n",
    "\n",
    "- [Linear Equations](#Linear-Equations)\n",
    "- [Non-linear Equations](#Non-linear-Equations)\n",
    "- [Integration - Single](#Integration---Single)\n",
    "- [Integration - Double](#Integration---Double)\n",
    "- [Optimisation](#Optimisation)\n",
    "- [Solve ODE](#Solve-ODE)"
   ]
  },
  {
   "cell_type": "markdown",
   "metadata": {},
   "source": [
    "## Linear Equations\n",
    "\n",
    "### Example - Solve Linear System of Equations\n",
    "\n",
    "- Solve the following system of linear equations:\n",
    "\n",
    "$$\n",
    "\\begin{align}\n",
    "    3x_1 + 6x_2 - 4x_3 &= 4 \\\\\n",
    "    2x_2 - x_3 &= 1 \\\\\n",
    "    x_1 + x_3 &= 0.25 \\\\\n",
    "\\end{align}\n",
    "$$"
   ]
  },
  {
   "cell_type": "markdown",
   "metadata": {},
   "source": [
    "- Rewrite the system of equations in linear algebra form:\n",
    "\n",
    "$$\n",
    "\\mathbf{A} \\cdot \\mathbf{x} = \\mathbf{b}\n",
    "$$\n",
    "\n",
    "$$\n",
    "\\begin{bmatrix}\n",
    "        3 & 6 & -4 \\\\\n",
    "        0 & 2 & -1 \\\\\n",
    "        1 & 0 & 1 \\\\\n",
    "\\end{bmatrix} \\cdot \\begin{bmatrix}\n",
    "        x_1\\\\\n",
    "        x_2\\\\\n",
    "        x_3\\\\\n",
    "\\end{bmatrix}\n",
    " = \\begin{bmatrix}\n",
    "        4\\\\\n",
    "        1\\\\\n",
    "        0.25\\\\\n",
    "\\end{bmatrix}\n",
    "$$"
   ]
  },
  {
   "cell_type": "markdown",
   "metadata": {},
   "source": [
    "- Module `scipy` $\\to$ module `linalg` $\\to$ function `solve`\n",
    "    - `import scipy.linalg as la` $\\to$ `la.solve`\n",
    "    - Solves system of $N\\times N$ full rank equations\n",
    "- Test whether the solution is correct:\n",
    "    - Matrix multiplication `numpy.dot`"
   ]
  },
  {
   "cell_type": "code",
   "execution_count": null,
   "metadata": {},
   "outputs": [],
   "source": [
    "# Different methods to use the linear algebra solver: \n",
    "from scipy.linalg import solve\n",
    "from scipy import linalg as la\n",
    "import scipy.linalg as la\n",
    "\n",
    "#la.solve?\n",
    "help(la.solve)"
   ]
  },
  {
   "cell_type": "code",
   "execution_count": null,
   "metadata": {},
   "outputs": [],
   "source": [
    "import numpy as np\n",
    "import scipy.linalg as la\n",
    "\n",
    "A = np.array([\n",
    "    [3, 6, -4],\n",
    "    [0, 2, -1],\n",
    "    [1, 0,  1]\n",
    "])\n",
    "b = np.array([4, 1,0.25])\n",
    "\n",
    "x = la.solve(A, b)\n",
    "print(\"Solution:\")\n",
    "print(x)\n",
    "print(\"Residual:\")\n",
    "print(np.dot(A, x)-b)"
   ]
  },
  {
   "cell_type": "markdown",
   "metadata": {},
   "source": [
    "### Example:\n",
    "\n",
    "\n",
    "Consider the following system of equations:\n",
    "$$\n",
    "\\mathbf{A} \\cdot \\mathbf{x} = \\mathbf{b}\n",
    "$$\n",
    "Write a function `solve_system(A,b)` that takes in a matrix $\\mathbf{A}$ and a vector $\\mathbf{b}$ and returns the solution $\\mathbf{x}$, the residual \n",
    "$$\n",
    "R = \\mathbf{A} \\cdot \\mathbf{x} - \\mathbf{b}\n",
    "$$\n",
    "and the determinant of the matrix $\\mathbf{A}$ as outputs. Therefore the function should return three outputs. \n",
    "\n",
    "Use this function to find the solution, the residual as well as the determinant of the matrix $\\mathbf{A}$: \n",
    "$$\n",
    "\\begin{bmatrix}\n",
    "        3 & 6 & -4 & 1 & 4\\\\\n",
    "        0 & 2 & -1 & 0 & 2\\\\\n",
    "        1 & 0 & 1 & 0 & 0\\\\\n",
    "        1 & 0 & 2 & 5 & 1\\\\        \n",
    "        0 & 0 & 1 & 1 & 3\n",
    "\\end{bmatrix} \\cdot \\begin{bmatrix}\n",
    "        x_1\\\\\n",
    "        x_2\\\\\n",
    "        x_3\\\\\n",
    "        x_4\\\\  \n",
    "        x_5\\\\          \n",
    "\\end{bmatrix}\n",
    " = \\begin{bmatrix}\n",
    "        4\\\\\n",
    "        1\\\\\n",
    "        0.25\\\\\n",
    "        5\\\\        \n",
    "        6\\\\                \n",
    "\\end{bmatrix}\n",
    "$$\n"
   ]
  },
  {
   "cell_type": "code",
   "execution_count": null,
   "metadata": {},
   "outputs": [],
   "source": [
    "import numpy.linalg as la\n",
    "la?"
   ]
  },
  {
   "cell_type": "code",
   "execution_count": null,
   "metadata": {
    "scrolled": true
   },
   "outputs": [],
   "source": [
    "def solve_system(A,b):\n",
    "    import numpy as np \n",
    "    import scipy.linalg as la # np.linalg can also be used.\n",
    "    \n",
    "    x = la.solve(A,b)\n",
    "    \n",
    "    R = np.dot(A,x) - b\n",
    "    \n",
    "    det = la.det(A)\n",
    "    \n",
    "    return x,R,det\n",
    "\n",
    "A = np.array([[3, 6,-4,1,4],[0, 2,-1,0,2],[1, 0,1,0,0],[1, 0,2,5,1],[0, 0,1,1,3]])\n",
    "b = np.array([4,1,0.25,5,6])\n",
    "\n",
    "print(\"\\n-----------------A-------------------\")\n",
    "print(A)\n",
    "print(\"\\n-----------------b-------------------\")\n",
    "print(b)\n",
    "\n",
    "x,R,det = solve_system(A,b)\n",
    "\n",
    "print(\"\\n\")\n",
    "print(\"Solution:\",x)\n",
    "print(\"\\n\")\n",
    "print(\"Residual:\",R)\n",
    "print(\"\\n\")\n",
    "print(\"Determinant:\",det)\n",
    "    "
   ]
  },
  {
   "cell_type": "markdown",
   "metadata": {},
   "source": [
    "### Example - Fitting straight line through data points $\\to$ Least Squares\n",
    "\n",
    "- Consider a straight line $y = mx + c$\n",
    "\n",
    "\n",
    "- We want to fit it through the following points:\n",
    "    $$\n",
    "    \\begin{array}{lllll}\n",
    "        x & y \\\\ \\hline\n",
    "        0 & 2.1 \\\\\n",
    "        1 & 2.5 \\\\\n",
    "        2 & 2.9 \\\\\n",
    "        3 & 3.6 \\\\\n",
    "        4 & 3.9 \\\\\n",
    "    \\end{array}\n",
    "    $$\n",
    "\n",
    "\n",
    "- Which $m$ and $c$ will give the best fit?\n",
    "\n",
    "\n",
    "**Option 1: Linear regression with `scipy.stats`**\n",
    "\n",
    "In this example, `scipy.stats` will be used to find the slope $m$ and the intercept $c$ of the straight line."
   ]
  },
  {
   "cell_type": "code",
   "execution_count": 1,
   "metadata": {},
   "outputs": [
    {
     "data": {
      "image/png": "[encoded data removed]",
      "text/plain": [
       "<Figure size 432x288 with 1 Axes>"
      ]
     },
     "metadata": {},
     "output_type": "display_data"
    }
   ],
   "source": [
    "#%reset -f\n",
    "%matplotlib inline\n",
    "import scipy.stats as stats\n",
    "from matplotlib import pyplot as plt\n",
    "import numpy as np\n",
    "\n",
    "x_data = [0, 1, 2, 3, 4]\n",
    "y_data = [2.1, 2.5, 2.9, 3.6, 3.9]\n",
    "\n",
    "slope, intercept, r_value, p_value, std_err = stats.linregress(x_data,y_data)\n",
    "\n",
    "plt.figure(1)\n",
    "plt.plot(x_data,y_data,'go', label='data')\n",
    "#plt.plot(x,slope*x + intercept,'b',label=\"R-squared = {}\".format(r_value))\n",
    "plt.plot(np.array(x_data),slope*np.array(x_data) + intercept,'b',label=\"R-squared = {}\".format(r_value))\n",
    "plt.title('Line fitted through data points')\n",
    "plt.xlabel('x')\n",
    "plt.ylabel('y')\n",
    "plt.legend(loc='upper left')\n",
    "plt.grid()\n",
    "plt.show()"
   ]
  },
  {
   "cell_type": "code",
   "execution_count": 2,
   "metadata": {},
   "outputs": [
    {
     "data": {
      "text/plain": [
       "\u001b[1;31mSignature:\u001b[0m \u001b[0mstats\u001b[0m\u001b[1;33m.\u001b[0m\u001b[0mlinregress\u001b[0m\u001b[1;33m(\u001b[0m\u001b[0mx\u001b[0m\u001b[1;33m,\u001b[0m \u001b[0my\u001b[0m\u001b[1;33m=\u001b[0m\u001b[1;32mNone\u001b[0m\u001b[1;33m)\u001b[0m\u001b[1;33m\u001b[0m\u001b[1;33m\u001b[0m\u001b[0m\n",
       "\u001b[1;31mDocstring:\u001b[0m\n",
       "Calculate a linear least-squares regression for two sets of measurements.\n",
       "\n",
       "Parameters\n",
       "----------\n",
       "x, y : array_like\n",
       "    Two sets of measurements.  Both arrays should have the same length.  If\n",
       "    only `x` is given (and ``y=None``), then it must be a two-dimensional\n",
       "    array where one dimension has length 2.  The two sets of measurements\n",
       "    are then found by splitting the array along the length-2 dimension. In\n",
       "    the case where ``y=None`` and `x` is a 2x2 array, ``linregress(x)`` is\n",
       "    equivalent to ``linregress(x[0], x[1])``.\n",
       "\n",
       "Returns\n",
       "-------\n",
       "result : ``LinregressResult`` instance\n",
       "    The return value is an object with the following attributes:\n",
       "\n",
       "    slope : float\n",
       "        Slope of the regression line.\n",
       "    intercept : float\n",
       "        Intercept of the regression line.\n",
       "    rvalue : float\n",
       "        Correlation coefficient.\n",
       "    pvalue : float\n",
       "        Two-sided p-value for a hypothesis test whose null hypothesis is\n",
       "        that the slope is zero, using Wald Test with t-distribution of\n",
       "        the test statistic.\n",
       "    stderr : float\n",
       "        Standard error of the estimated slope (gradient), under the\n",
       "        assumption of residual normality.\n",
       "    intercept_stderr : float\n",
       "        Standard error of the estimated intercept, under the assumption\n",
       "        of residual normality.\n",
       "\n",
       "See Also\n",
       "--------\n",
       "scipy.optimize.curve_fit :\n",
       "    Use non-linear least squares to fit a function to data.\n",
       "scipy.optimize.leastsq :\n",
       "    Minimize the sum of squares of a set of equations.\n",
       "\n",
       "Notes\n",
       "-----\n",
       "Missing values are considered pair-wise: if a value is missing in `x`,\n",
       "the corresponding value in `y` is masked.\n",
       "\n",
       "For compatibility with older versions of SciPy, the return value acts\n",
       "like a ``namedtuple`` of length 5, with fields ``slope``, ``intercept``,\n",
       "``rvalue``, ``pvalue`` and ``stderr``, so one can continue to write::\n",
       "\n",
       "    slope, intercept, r, p, se = linregress(x, y)\n",
       "\n",
       "With that style, however, the standard error of the intercept is not\n",
       "available.  To have access to all the computed values, including the\n",
       "standard error of the intercept, use the return value as an object\n",
       "with attributes, e.g.::\n",
       "\n",
       "    result = linregress(x, y)\n",
       "    print(result.intercept, result.intercept_stderr)\n",
       "\n",
       "Examples\n",
       "--------\n",
       ">>> import matplotlib.pyplot as plt\n",
       ">>> from scipy import stats\n",
       "\n",
       "Generate some data:\n",
       "\n",
       ">>> np.random.seed(12345678)\n",
       ">>> x = np.random.random(10)\n",
       ">>> y = 1.6*x + np.random.random(10)\n",
       "\n",
       "Perform the linear regression:\n",
       "\n",
       ">>> res = stats.linregress(x, y)\n",
       "\n",
       "Coefficient of determination (R-squared):\n",
       "\n",
       ">>> print(f\"R-squared: {res.rvalue**2:.6f}\")\n",
       "R-squared: 0.735498\n",
       "\n",
       "Plot the data along with the fitted line:\n",
       "\n",
       ">>> plt.plot(x, y, 'o', label='original data')\n",
       ">>> plt.plot(x, res.intercept + res.slope*x, 'r', label='fitted line')\n",
       ">>> plt.legend()\n",
       ">>> plt.show()\n",
       "\n",
       "Calculate 95% confidence interval on slope and intercept:\n",
       "\n",
       ">>> # Two-sided inverse Students t-distribution\n",
       ">>> # p - probability, df - degrees of freedom\n",
       ">>> from scipy.stats import t\n",
       ">>> tinv = lambda p, df: abs(t.ppf(p/2, df))\n",
       "\n",
       ">>> ts = tinv(0.05, len(x)-2)\n",
       ">>> print(f\"slope (95%): {res.slope:.6f} +/- {ts*res.stderr:.6f}\")\n",
       "slope (95%): 1.944864 +/- 0.950885\n",
       ">>> print(f\"intercept (95%): {res.intercept:.6f}\"\n",
       "...       f\" +/- {ts*res.intercept_stderr:.6f}\")\n",
       "intercept (95%): 0.268578 +/- 0.488822\n",
       "\u001b[1;31mFile:\u001b[0m      c:\\users\\lrjac\\anaconda3\\lib\\site-packages\\scipy\\stats\\_stats_mstats_common.py\n",
       "\u001b[1;31mType:\u001b[0m      function\n"
      ]
     },
     "metadata": {},
     "output_type": "display_data"
    }
   ],
   "source": [
    "import scipy.stats as stats\n",
    "stats.linregress?"
   ]
  },
  {
   "cell_type": "code",
   "execution_count": null,
   "metadata": {},
   "outputs": [],
   "source": [
    "import scipy.stats as stats\n",
    "stats.linregress?"
   ]
  },
  {
   "cell_type": "markdown",
   "metadata": {},
   "source": [
    "### Example: Option 2 - Linear algebra from first principles*\n",
    "\n",
    "How can we perform the same procedure using linear algebra? \n",
    "\n",
    "- Consider a straight line $y = mx+c$ and substitute each point:\n",
    "    $$\n",
    "    \\begin{align}\n",
    "        m\\times 0 + c &= 2.1\\\\\n",
    "        m\\times 1 + c &= 2.5\\\\\n",
    "        m\\times 2 + c &= 2.9\\\\\n",
    "        m\\times 3 + c &= 3.6\\\\\n",
    "        m\\times 4 + c &= 3.9\\\\\n",
    "    \\end{align}$$"
   ]
  },
  {
   "cell_type": "markdown",
   "metadata": {},
   "source": [
    "- Two unknowns and five equations. Cannot satisfy each equation - minimise error.\n",
    "    $$\n",
    "    \\begin{bmatrix}\n",
    "            0 & 1 \\\\\n",
    "            1 & 1 \\\\\n",
    "            2 & 1 \\\\\n",
    "            3 & 1 \\\\\n",
    "            4 & 1 \\\\\n",
    "    \\end{bmatrix}\n",
    "    \\cdot\n",
    "    \\begin{bmatrix}\n",
    "            m\\\\\n",
    "            c\\\\\n",
    "    \\end{bmatrix}\n",
    "     = \n",
    "    \\begin{bmatrix}\n",
    "            2.1\\\\\n",
    "            2.5\\\\\n",
    "            2.9\\\\\n",
    "            3.6\\\\\n",
    "            3.9\\\\\n",
    "    \\end{bmatrix}\n",
    "    $$\n",
    "\n",
    "\n",
    "- Cannot solve\n",
    "    $$\\mathbf{A}\\mathbf{x} = \\mathbf{b}$$"
   ]
  },
  {
   "cell_type": "markdown",
   "metadata": {},
   "source": [
    "**Solution:**\n",
    "\n",
    "- Least squares solution is given by solving for $\\mathbf{x}$:\n",
    "    $$\\mathbf{A}^{\\textrm{T}}\\mathbf{A}\\mathbf{x} = \\mathbf{A}^{\\textrm{T}}\\mathbf{b}$$\n",
    "\n",
    "\n",
    "- Python: Plot data and the least squares line fitted through the data.\n",
    "\n",
    "\n",
    "- Excel: Plot data and insert linear trend line through the data.\n",
    "\n",
    "\n",
    "- Compare the coefficients?"
   ]
  },
  {
   "cell_type": "markdown",
   "metadata": {},
   "source": [
    "**Background:**\n",
    "\n",
    "- Background on where does least squares come from?\n",
    "\n",
    "\n",
    "- The error $\\mathbf{E} = \\mathbf{A}\\mathbf{x}-\\mathbf{b}$ can be written as the error squares\n",
    "    $$\n",
    "    \\begin{align}\n",
    "        \\mathbf{E}^{\\textrm{T}}\\mathbf{E} &=\n",
    "        \\left(\n",
    "            \\mathbf{A}\\mathbf{x}-\\mathbf{b}\n",
    "        \\right)^{\\textrm{T}}\n",
    "        \\left(\n",
    "            \\mathbf{A}\\mathbf{x}-\\mathbf{b}\n",
    "        \\right) \\\\ &=\n",
    "        \\mathbf{x}^{\\textrm{T}}\\mathbf{A}^{\n",
    "            \\textrm{T}}\\mathbf{A}\\mathbf{x} - \n",
    "            2\\mathbf{A}^{\\textrm{T}\n",
    "        }\\mathbf{b}\\mathbf{x}\\\\\n",
    "    \\end{align}\n",
    "    $$\n",
    "\n",
    "\n",
    "- Minimum error\n",
    "    $$\n",
    "    \\frac{\n",
    "        \\mathrm{d} \\mathbf{E}^{\\textrm{T}}\\mathbf{E}\n",
    "    }{\n",
    "        \\mathrm{d} \\mathbf{x}\n",
    "    } = \n",
    "    2\\mathbf{A}^{\\textrm{T}}\\mathbf{A}\\mathbf{x} -\n",
    "    2\\mathbf{A}^{\\textrm{T}}\\mathbf{b} = \\mathbf{0}\n",
    "    $$\n",
    "    $$\n",
    "    \\begin{array}{lll}\n",
    "        \\mathbf{A}^{\\textrm{T}}\\mathbf{A}\\mathbf{x} = \\mathbf{A}^{\\textrm{T}}\\mathbf{b}\\\\\n",
    "    \\end{array}\n",
    "    $$"
   ]
  },
  {
   "cell_type": "code",
   "execution_count": null,
   "metadata": {},
   "outputs": [],
   "source": [
    "%matplotlib inline\n",
    "import numpy as np \n",
    "import scipy.linalg as la \n",
    "import matplotlib.pyplot as plt\n",
    "\n",
    "A = np.array([\n",
    "    [0, 1],\n",
    "    [1, 1],\n",
    "    [2, 1],\n",
    "    [3, 1],\n",
    "    [4, 1]\n",
    "])\n",
    "b = np.array([2.1, 2.5, 2.9, 3.6, 3.9])\n",
    "\n",
    "coefficients = la.solve(\n",
    "    np.dot(A.transpose(), A),\n",
    "    np.dot(A.transpose(), b)\n",
    ")\n",
    "\n",
    "x = np.linspace(0, 5, 20)\n",
    "y = coefficients[0]*x + coefficients[1]\n",
    "plt.plot(x, y, 'r-', label='fitted line')\n",
    "\n",
    "plt.plot(\n",
    "    x_data,\n",
    "    y_data,\n",
    "    'go', label='data'\n",
    ")\n",
    "\n",
    "plt.title('Line fitted through data points')\n",
    "plt.xlabel('x')\n",
    "plt.ylabel('y')\n",
    "plt.legend(loc='upper left')\n",
    "plt.grid()\n",
    "plt.show()"
   ]
  },
  {
   "cell_type": "markdown",
   "metadata": {},
   "source": [
    "## Finding the root of a function\n",
    "\n",
    "We would like to find the root of a function $f(x)$.\n",
    "\n",
    "\n",
    "Firstly, we need to write the function in this form:\n",
    "$$\n",
    "f(x) = 0\n",
    "$$\n",
    "then we can use a python solver available in the `scipy.optimize` module. \n",
    "\n",
    "This is equivalent to Goal Seek in Excel.\n",
    "\\\n",
    "\\\n",
    "\\\n",
    ".\n",
    "\n",
    "Or we would like to find the point where two lines $g(x)$ and $h(x)$ intersect \n",
    "$$\n",
    "g(x) = h(x)\n",
    "$$\n",
    "\n",
    "**Procedure**\n",
    "\n",
    "- We need to write the problem in residual form $R(x) = 0$.\n",
    "\n",
    "\n",
    "- We need to define a function for the residual ${R}({x})=g(x)-h(x)$.\n",
    "\n",
    "\n",
    "- The function takes a number as an input and returns a number as an output.\n",
    "\n",
    "\n",
    "- The root results in $R(x) = 0$.\n",
    "\n",
    "\n",
    "- `from scipy.optimize import fsolve`\n",
    "    - First argument: **Function** that defines the residual.\n",
    "    - Second argument: initial guess.\n",
    "\n",
    "**Example:**\n",
    "\n",
    "Find the root of $$\\cos(x) - x = 0$$.\n"
   ]
  },
  {
   "cell_type": "code",
   "execution_count": 1,
   "metadata": {},
   "outputs": [
    {
     "data": {
      "text/plain": [
       "Text(0, 0.5, '$R(x)$')"
      ]
     },
     "execution_count": 1,
     "metadata": {},
     "output_type": "execute_result"
    },
    {
     "data": {
      "image/png": "[encoded data removed]",
      "text/plain": [
       "<Figure size 432x288 with 1 Axes>"
      ]
     },
     "metadata": {
      "needs_background": "light"
     },
     "output_type": "display_data"
    }
   ],
   "source": [
    "import matplotlib.pyplot as plt\n",
    "import numpy as np \n",
    "x = np.linspace(0,2)\n",
    "plt.figure(1)\n",
    "plt.plot(x,np.cos(x) - x,'b')\n",
    "plt.plot(x,x*0,'r--')\n",
    "plt.xlabel(\"$x$\")\n",
    "plt.ylabel(\"$R(x)$\")"
   ]
  },
  {
   "cell_type": "code",
   "execution_count": 2,
   "metadata": {},
   "outputs": [],
   "source": [
    "import scipy.optimize as opt\n",
    "opt.fsolve?"
   ]
  },
  {
   "cell_type": "code",
   "execution_count": 4,
   "metadata": {},
   "outputs": [
    {
     "name": "stdout",
     "output_type": "stream",
     "text": [
      "[0.73908513]\n",
      "Residual at initial guess: -4.653643620863612\n",
      "Residual at final solution:  6.661338147750939e-16\n"
     ]
    },
    {
     "data": {
      "image/png": "[encoded data removed]",
      "text/plain": [
       "<Figure size 432x288 with 1 Axes>"
      ]
     },
     "metadata": {
      "needs_background": "light"
     },
     "output_type": "display_data"
    }
   ],
   "source": [
    "import scipy.optimize as opt\n",
    "import matplotlib.pyplot as plt\n",
    "\n",
    "x0 = 4\n",
    "\n",
    "def f(x):\n",
    "    return np.cos(x) - x\n",
    "# def f(x):\n",
    "#     return np.sin(x)\n",
    "\n",
    "xf = opt.fsolve(f, x0)\n",
    "print(xf)\n",
    "x = np.linspace(0,5)\n",
    "plt.figure(1)\n",
    "plt.plot(x,f(x),'b',label=\"$\\cos(x) - x$\")\n",
    "plt.plot(x,x*0,'r--',label=\"0\")\n",
    "plt.plot(x0,f(x0),'r*',label=\"Initial guess\")\n",
    "plt.plot(xf,f(xf),'co',label=\"Final solution\")\n",
    "plt.legend()\n",
    "plt.xlabel(\"$x$\")\n",
    "plt.ylabel(\"$R(x)$\")\n",
    "\n",
    "print(\"Residual at initial guess:\",f(x0))\n",
    "print(\"Residual at final solution: \",f(xf[0]))"
   ]
  },
  {
   "cell_type": "markdown",
   "metadata": {},
   "source": [
    "### Example:\n",
    "\n",
    "Find the location where the two functions\n",
    "$$\n",
    "g(x) = \\sin(x^2) \\cdot \\sin(x^2)\n",
    "$$\n",
    "$$\n",
    "h(x) = e^{x}\n",
    "$$\n",
    "intersect.\n",
    "\n",
    "\n"
   ]
  },
  {
   "cell_type": "code",
   "execution_count": null,
   "metadata": {},
   "outputs": [],
   "source": [
    "\n",
    "import scipy.optimize as opt\n",
    "import matplotlib.pyplot as plt\n",
    "\n",
    "x0 = 0.3\n",
    "\n",
    "def R(x):\n",
    "    x = np.array(x)\n",
    "    return np.sin(x**2) * np.sin(x**2) - np.exp(x)\n",
    "\n",
    "xf = opt.fsolve(R, x0)\n",
    "\n",
    "x = np.linspace(-1,1)\n",
    "plt.figure(1)\n",
    "plt.plot(x,R(x),'b',label=\"$g(x) - h(x)$\")\n",
    "plt.plot(x,x*0,'r--',label=\"0\")\n",
    "plt.plot(x0,R(x0),'r*',label=\"Initial\")\n",
    "plt.plot(xf,R(xf),'co',label=\"Final\")\n",
    "plt.legend()\n",
    "plt.xlabel(\"$x$\")\n",
    "plt.ylabel(\"$R(x)$\")\n",
    "\n",
    "print(\"Initial:\",R(x0))\n",
    "print(\"Residual: \",R(xf[0]))\n"
   ]
  },
  {
   "cell_type": "markdown",
   "metadata": {},
   "source": [
    "## Exercise\n",
    "\n",
    "Find the roots for the following polynomial using fsolve:\n",
    "\n",
    "$$\n",
    "(x - 3)(x - 2)(x+1)\n",
    "$$"
   ]
  },
  {
   "cell_type": "markdown",
   "metadata": {},
   "source": [
    "## Non-linear Equations*\n",
    "- We cannot write a system of non-linear equations into a similar form as with a system of linear equations $\\mathbf{A}\\mathbf{x}=\\mathbf{b}$!"
   ]
  },
  {
   "cell_type": "markdown",
   "metadata": {},
   "source": [
    "- We therefore write it into residual form:\n",
    "    $$\n",
    "    \\mathbf{R}(\\mathbf{x}) = \\begin{bmatrix}\n",
    "            R_0(\\mathbf{x})\\\\\n",
    "            R_1(\\mathbf{x})\\\\\n",
    "            \\vdots\\\\\n",
    "            R_n(\\mathbf{x})\\\\\n",
    "        \\end{bmatrix}\n",
    "     = \n",
    "     \\begin{bmatrix}\n",
    "            0\\\\\n",
    "            0\\\\\n",
    "            \\vdots\\\\\n",
    "            0\\\\\n",
    "     \\end{bmatrix} = \\mathbf{0}\n",
    "    $$"
   ]
  },
  {
   "cell_type": "markdown",
   "metadata": {},
   "source": [
    "- For example:\n",
    "    $$\n",
    "    \\mathbf{R}(\\mathbf{x}) = \\begin{bmatrix}\n",
    "            0.8\\cos(\\frac{\\pi}{4}) + 2\\cos(x_0) - 2\\cos(x_1) - 3\\\\\n",
    "            0.8\\sin(\\frac{\\pi}{4}) + 2\\sin(x_0) - 2\\sin(x_1)\\\\\n",
    "    \\end{bmatrix} = \n",
    "    \\begin{bmatrix}\n",
    "            0\\\\\n",
    "            0\\\\\n",
    "    \\end{bmatrix}\n",
    "    $$"
   ]
  },
  {
   "cell_type": "markdown",
   "metadata": {},
   "source": [
    "- Need to define a function for the residual $\\mathbf{R}({x})$.\n",
    "\n",
    "\n",
    "- Function takes array (unknown variables) as input and returns an array (result of each equation).\n",
    "\n",
    "\n",
    "- `from scipy.optimize import fsolve`\n",
    "    - First argument: **Function** that defines the residual.\n",
    "    - Second argument: initial guess."
   ]
  },
  {
   "cell_type": "code",
   "execution_count": null,
   "metadata": {},
   "outputs": [],
   "source": [
    "import numpy as np\n",
    "import scipy.optimize as opt\n",
    "\n",
    "def residual(x):\n",
    "    r1 = 0.8*np.cos(np.pi/4) + 2*np.cos(x[0]) - 2*np.cos(x[1]) - 3\n",
    "    r2 = 0.8*np.sin(np.pi/4) + 2*np.sin(x[0]) - 2*np.sin(x[1])\n",
    "    return r1, r2\n",
    "\n",
    "\n",
    "x0 = np.array([0, 0])\n",
    "ans = opt.fsolve(residual, x0)\n",
    "print(ans)\n",
    "print(residual(ans))"
   ]
  },
  {
   "cell_type": "code",
   "execution_count": null,
   "metadata": {},
   "outputs": [],
   "source": [
    "%load_ext nbtutor"
   ]
  },
  {
   "cell_type": "code",
   "execution_count": null,
   "metadata": {},
   "outputs": [],
   "source": [
    "%%nbtutor -r -f --depth 3\n",
    "def twister():\n",
    "    print(\"Red Lorry, Yellow Lorry\")\n",
    "\n",
    "def repeat(func, N):\n",
    "    for i in range(N):\n",
    "        func()\n",
    "\n",
    "repeat(twister, 5)"
   ]
  },
  {
   "cell_type": "markdown",
   "metadata": {},
   "source": [
    "### Example - Kinematics (Four-bar linkage)*\n",
    "\n",
    "- Four-bar linkage (kinematics) with $L_1$, $L_2$, $L_3$ and $L_4$ the length of the links.\n",
    "\n",
    "\n",
    "- Link 1 is fixed in a horizontal position.\n",
    "\n",
    "\n",
    "- The link lengths are $L_1=3$, $L_2=0.8$, $L_3=2$ and $L_4=2$."
   ]
  },
  {
   "cell_type": "markdown",
   "metadata": {},
   "source": [
    "<img src=\"./figures/fourbar.svg\" alt=\"Four Bar Linkage\" style=\"height: 300px;\"/>"
   ]
  },
  {
   "cell_type": "markdown",
   "metadata": {},
   "source": [
    "- For a given $\\theta_1$, we can solve for $\\theta_2$ and $\\theta_3$ using the following two non-linear equations:\n",
    "    $$\n",
    "    \\begin{array}{l}\n",
    "        L_2\\cos(\\theta_1) + L_3\\cos(\\theta_2) + L_4\\cos(\\theta_3) - L_1 = 0 \\\\\n",
    "        L_2\\sin(\\theta_1) + L_3\\sin(\\theta_2) - L_4\\sin(\\theta_3) = 0 \\\\\n",
    "    \\end{array}\n",
    "    $$"
   ]
  },
  {
   "cell_type": "markdown",
   "metadata": {},
   "source": [
    "- Solve for $\\theta_2$ and $\\theta_3$ for $\\theta_1=\\pi/4$\n",
    "\n",
    "\n",
    "- As a guess to the solution of the non-linear system use $[0.707; 0.707]$.\n",
    "\n",
    "\n",
    "- Plot the three links for the solved values of $\\theta_1$ and $\\theta_2$.\n",
    "\n",
    "\n",
    "- The coordinates of link three are given by\n",
    "    $$\n",
    "    \\begin{align}\n",
    "        x_1 &= L_2\\cos(\\theta_1) \\\\\n",
    "        y_1 &= L_2\\sin(\\theta_1) \\\\\n",
    "        x_2 &= L_2\\cos(\\theta_1) + L_3\\cos(\\theta_2) \\\\\n",
    "        y_2 &= L_2\\sin(\\theta_1) + L_3\\sin(\\theta_2)\n",
    "    \\end{align}\n",
    "    $$"
   ]
  },
  {
   "cell_type": "code",
   "execution_count": null,
   "metadata": {},
   "outputs": [],
   "source": [
    "from numpy import pi, cos, sin\n",
    "import matplotlib.pyplot as plt\n",
    "\n",
    "def fourbar(theta23):\n",
    "    L = [3.0, 0.8, 2.0, 2.0]\n",
    "    theta = [pi/4, theta23[0], theta23[1]]\n",
    "    R = [\n",
    "        L[1]*cos(theta[0]) + L[2]*cos(theta[1]) + L[3]*cos(theta[2]) - L[0],\n",
    "        L[1]*sin(theta[0]) + L[2]*sin(theta[1]) - L[3]*sin(theta[2])\n",
    "    ]\n",
    "    return R\n",
    "\n",
    "\n",
    "def plot_links(theta23):\n",
    "    L = [3.0, 0.8, 2.0, 2.0]\n",
    "    theta = [pi/4, theta23[0], theta23[1]]\n",
    "    plt.plot(\n",
    "        [0, L[1]*cos(theta[0]), L[1]*cos(theta[0]) + L[2]*cos(theta[1]), L[0], 0],\n",
    "        [0, L[1]*sin(theta[0]), L[1]*sin(theta[0]) + L[2]*sin(theta[1]),    0, 0],\n",
    "        'k-'\n",
    "    )"
   ]
  },
  {
   "cell_type": "code",
   "execution_count": null,
   "metadata": {},
   "outputs": [],
   "source": [
    "%matplotlib inline\n",
    "import scipy.optimize as opt\n",
    "import matplotlib.pyplot as plt\n",
    "\n",
    "x0 = [0.707, 0.707]\n",
    "\n",
    "theta23 = opt.fsolve(fourbar, x0)\n",
    "\n",
    "plot_links(theta23)\n",
    "plt.show()"
   ]
  },
  {
   "cell_type": "markdown",
   "metadata": {},
   "source": [
    "- Works but every time we change a length or $\\theta_1$ we need to change it multiple places (2 cells)"
   ]
  },
  {
   "cell_type": "markdown",
   "metadata": {},
   "source": [
    "- Improve by defining additional arguments.\n",
    "    - Modify the function to take additional arguments that are known parameters of the problem e.g. $\\theta_1$ and lengths.\n",
    "    - `fsolve` pass a third argument of additional parameters.\n",
    "    - Define additional parameters in $()$ as third argument e.g. `(theta1,lengths)`.\n",
    "    - Order of additional parameters define the order of the parameters in the tuple argument.\n",
    "    - Additional arguments are available for many `scipy` functions.\n",
    "    - `fsolve(func, x0, args=(),...)`\n",
    "        - `args`: tuple $\\to$ Any extra arguments to `func`.\n",
    "    - Python mechanism to pass known information (parameters) to a function that is given as an arguments for another function."
   ]
  },
  {
   "cell_type": "code",
   "execution_count": null,
   "metadata": {},
   "outputs": [],
   "source": [
    "from numpy import pi, cos, sin\n",
    "import matplotlib.pyplot as plt\n",
    "\n",
    "def fourbar(theta23, L, theta1):\n",
    "    theta = [theta1, theta23[0], theta23[1]]\n",
    "    R = [\n",
    "        L[1]*cos(theta[0]) + L[2]*cos(theta[1]) + L[3]*cos(theta[2]) - L[0],\n",
    "        L[1]*sin(theta[0]) + L[2]*sin(theta[1]) - L[3]*sin(theta[2])\n",
    "    ]\n",
    "    return R\n",
    "\n",
    "\n",
    "def plot_links(theta23, L, theta1):\n",
    "    theta = [theta1, theta23[0], theta23[1]]\n",
    "    plt.plot(\n",
    "        [0, L[1]*cos(theta[0]), L[1]*cos(theta[0]) + L[2]*cos(theta[1]), L[0], 0],\n",
    "        [0, L[1]*sin(theta[0]), L[1]*sin(theta[0]) + L[2]*sin(theta[1]),    0, 0],\n",
    "        'k-'\n",
    "    )"
   ]
  },
  {
   "cell_type": "code",
   "execution_count": null,
   "metadata": {},
   "outputs": [],
   "source": [
    "%matplotlib inline\n",
    "import scipy.optimize as opt\n",
    "import matplotlib.pyplot as plt\n",
    "\n",
    "theta1 = pi/4\n",
    "x0 = [0.707, 0.707]\n",
    "L = [3.0, 0.8, 2.0, 2.0]\n",
    "\n",
    "theta23 = opt.fsolve(fourbar, x0, args=(L, theta1))\n",
    "\n",
    "plot_links(theta23, L, theta1)\n",
    "plt.show()"
   ]
  },
  {
   "cell_type": "markdown",
   "metadata": {},
   "source": [
    "- Solve for $\\theta_2$ and $\\theta_3$ for $\\theta_1$ between 0 and $\\pi$ using 10 linearly spaced intervals.\n",
    "\n",
    "- Plot then link three for the various solved values of $\\theta_1$ and $\\theta_2$."
   ]
  },
  {
   "cell_type": "code",
   "execution_count": null,
   "metadata": {},
   "outputs": [],
   "source": [
    "%matplotlib inline\n",
    "import numpy as np\n",
    "import scipy.optimize as opt\n",
    "import matplotlib.pyplot as plt\n",
    "\n",
    "x0 = [0.707, 0.707]\n",
    "L = [3.0, 0.8, 2.0, 2.0]\n",
    "angles = np.linspace(0, np.pi, 10)\n",
    "\n",
    "for theta1 in angles:\n",
    "    theta23 = opt.fsolve(fourbar, x0, args=(L, theta1))\n",
    "    plot_links(theta23, L, theta1)\n",
    "\n",
    "plt.show()"
   ]
  },
  {
   "cell_type": "markdown",
   "metadata": {},
   "source": [
    "## Integration - Single\n",
    "\n",
    "### Example - Simple Integral\n",
    "\n",
    "- Compute the following definite integral in python:\n",
    "    $$\n",
    "    \\int^{9}_{2} 4x^2 + 5 \\: \\mathrm{dx} =\n",
    "    \\left. \\left(\\frac{4}{3} x^3 + 5x\\right) \\right|_2^9 =\n",
    "    996.33\n",
    "    $$\n",
    "\n",
    "### Outcomes:\n",
    "-   Importing and using quad $\\to$ `from scipy import integrate` $\\to$ `integrate.quad`\n",
    "\n",
    "\n",
    "-   Passing a function as an input to another function\n",
    "\n",
    "\n",
    "-   Integrate a function from a to b\n",
    "\n",
    "\n",
    "-   Understanding the output from the `quad` function"
   ]
  },
  {
   "cell_type": "code",
   "execution_count": null,
   "metadata": {},
   "outputs": [],
   "source": [
    "import numpy as np\n",
    "import scipy.integrate as it\n",
    "\n",
    "def equation(x):\n",
    "    return 4*x**2 + 5\n",
    "\n",
    "ans, err = it.quad(equation, 2, 9)\n",
    "print(ans)\n",
    "print(err)"
   ]
  },
  {
   "cell_type": "code",
   "execution_count": 1,
   "metadata": {},
   "outputs": [],
   "source": [
    "import scipy.integrate as it\n",
    "it.quad?"
   ]
  },
  {
   "cell_type": "markdown",
   "metadata": {},
   "source": [
    "### Example - Single Integral\n",
    "\n",
    "- Compute the following integral in python:\n",
    "    $$\\int^{b}_{a} C e^{-x} \\: dx$$\n",
    "\n",
    "- First for $a = 2$, $b = 5$ and $C = 12$\n",
    "\n",
    "- Then for $a = 2$, $b = \\infty$ and $C = 22$"
   ]
  },
  {
   "cell_type": "markdown",
   "metadata": {},
   "source": [
    "### Outcomes:\n",
    "\n",
    "-   Passing a function as an input to another function\n",
    "\n",
    "\n",
    "-   Integrate a function from a to b\n",
    "\n",
    "\n",
    "-   Integrate a function with an infinite interval\n",
    "\n",
    "\n",
    "-   Creating an input function that has `args`"
   ]
  },
  {
   "cell_type": "code",
   "execution_count": null,
   "metadata": {},
   "outputs": [],
   "source": [
    "import numpy as np\n",
    "import scipy.integrate as it\n",
    "\n",
    "def equation(x, C):\n",
    "    return C * np.exp(-x)\n",
    "\n",
    "a = 2\n",
    "b1 = 5\n",
    "c1 = 12\n",
    "ans1, err1 = it.quad(equation,a,b1,c1)\n",
    "print(\"a:{}, b:{}, C:{}, ans:{}, err:{}\".format(a,b1,c1,ans1,err1))\n",
    "\n",
    "b2 = np.inf\n",
    "c2 = 22\n",
    "ans2, err2 = it.quad(equation,a,b2,c2)\n",
    "print(\"\\na:{}, b:{}, C:{}, ans:{}, err:{}\".format(a,b2,c2,ans2,err2))\n",
    "\n",
    "\n",
    "print('\\n------------------------')\n",
    "for c in [12, 90, 22, -12, 9, 24]:\n",
    "    ans, err = it.quad(\n",
    "        equation, 0, np.inf,\n",
    "        args = c\n",
    "    )\n",
    "    print(ans)"
   ]
  },
  {
   "cell_type": "markdown",
   "metadata": {},
   "source": [
    "## Integration - Double*\n",
    "\n",
    "### Example - Double Integral\n",
    "\n",
    "- Compute the following integral in python:\n",
    "    $$\\iint_D x y^2 \\: \\mathrm{dA}$$\n",
    "\n",
    "\n",
    "- Where $D$ is the rectangular region defined by $0 \\leq x \\leq 2$ and $0 \\leq y \\leq 1$:"
   ]
  },
  {
   "cell_type": "markdown",
   "metadata": {},
   "source": [
    "<img src=\"./figures/double_integral_over_rectangle.png\" alt=\"Double Integral Rectangle\" style=\"height: 200px;\"/>"
   ]
  },
  {
   "cell_type": "markdown",
   "metadata": {},
   "source": [
    "$$\n",
    "\\begin{aligned}\n",
    "    \\int_0^1 \\left( \\int_0^2 xy^2 \\mathrm{dx}\\right) \\mathrm{dy} =\n",
    "    \\int_0^1 \\left(\\left. \\frac{x^2}{2} y^2 \\right|_{x=0}^{x=2} \\right) \\mathrm{dy} =\n",
    "    \\int_0^1 2 y^2 \\mathrm{dy} =\n",
    "    \\left. \\frac{2 y^3}{3} \\right|_{y=0}^{y=1} =\n",
    "    2/3\n",
    "\\end{aligned}\n",
    "$$\n",
    "\n",
    "### Outcomes\n",
    "\n",
    "- Importing and using quad $\\to$ `from scipy import integrate` $\\to$ `integrate.dblquad`\n",
    "\n",
    "\n",
    "- Passing multiple functions as inputs to another function\n",
    "\n",
    "\n",
    "- Integrate a function for $x \\in [a, b]$ and $y \\in [c, d]$\n",
    "\n",
    "\n",
    "- Understanding the output from the `dblquad` function\n",
    "\n",
    "\n",
    "- Why must the inner integral limits $\\left( \\int^{2}_{x=0} \\right)$ be given as functions?"
   ]
  },
  {
   "cell_type": "code",
   "execution_count": 1,
   "metadata": {},
   "outputs": [
    {
     "name": "stdout",
     "output_type": "stream",
     "text": [
      "0.2666666666666667\n",
      "7.337409017185647e-15\n",
      "0.26666666666666666\n"
     ]
    }
   ],
   "source": [
    "from scipy import integrate as it\n",
    "\n",
    "def equation(y, x):\n",
    "    return x * y**2\n",
    "\n",
    "def inner_bound_lower(x):\n",
    "    return 0\n",
    "\n",
    "def inner_bound_upper(x):\n",
    "    return x/2\n",
    "\n",
    "ans, err = it.dblquad(\n",
    "    equation, 0, 2,\n",
    "    inner_bound_lower,\n",
    "    inner_bound_upper\n",
    ")\n",
    "print(ans)\n",
    "print(err)\n",
    "print(32/120)"
   ]
  },
  {
   "cell_type": "markdown",
   "metadata": {},
   "source": [
    "### Example - Double Integral  (x First)*\n",
    "\n",
    "- Compute the following integral in python:\n",
    "    $$\\iint_D x y^2 \\: \\mathrm{dA}$$\n",
    "\n",
    "\n",
    "- Where $D$ is the triangular region defined by $0 \\leq x \\leq 2$ and $0 \\leq y \\leq x/2$:"
   ]
  },
  {
   "cell_type": "markdown",
   "metadata": {},
   "source": [
    "<img src=\"./figures/double_integral_over_triangle_x_first.png\" alt=\"Double Integral Triangle\" style=\"height: 200px;\"/>"
   ]
  },
  {
   "cell_type": "markdown",
   "metadata": {},
   "source": [
    "$$\n",
    "\\begin{aligned}\n",
    "    \\int_0^2 \\left(\\int_0^{x/2} xy^2 \\mathrm{dy} \\right) \\mathrm{dx} =\n",
    "    \\int_0^2 \\left(\\left.\\frac{x}{3} y^3 \\right|_{y=0}^{y=x/2}\\right) \\mathrm{dx} =\n",
    "    \\int_0^2 \\frac{x^4}{24} \\mathrm{dx} =\n",
    "    \\left. \\frac{x^5}{120} \\right|_{x=0}^{x=2} =\n",
    "    32/120\n",
    "\\end{aligned}\n",
    "$$\n",
    "\n",
    "### Outcomes\n",
    "\n",
    "- Passing multiple functions as inputs to another function\n",
    "\n",
    "\n",
    "- Integrate a function for $x \\in [a, b]$ and $y \\in [c, d]$, where $c$ or $d$ is a function of $x$\n",
    "\n",
    "\n",
    "- Understanding the output from the `dblquad` function"
   ]
  },
  {
   "cell_type": "code",
   "execution_count": null,
   "metadata": {},
   "outputs": [],
   "source": [
    "from scipy import integrate as it\n",
    "\n",
    "def function(y, x): \n",
    "    return x * y**2\n",
    "\n",
    "def inner_bound_lower(x): \n",
    "    return 0\n",
    "\n",
    "def inner_bound_upper(x): \n",
    "    return x / 2.0\n",
    "\n",
    "ans, err = it.dblquad(\n",
    "    function, 0, 2,\n",
    "    inner_bound_lower,\n",
    "    inner_bound_upper\n",
    ")\n",
    "\n",
    "print(ans)\n",
    "print(err)\n",
    "print(32/120)"
   ]
  },
  {
   "cell_type": "markdown",
   "metadata": {},
   "source": [
    "### Example - Double Integral  (y First)*\n",
    "\n",
    "- Compute the following integral in python:\n",
    "    $$\\iint_D x y^2 \\: \\mathrm{dA}$$\n",
    "\n",
    "\n",
    "- Where $D$ is the triangular region defined by $0 \\leq x \\leq 2$ and $0 \\leq y \\leq x/2$:"
   ]
  },
  {
   "cell_type": "markdown",
   "metadata": {},
   "source": [
    "<img src=\"./figures/double_integral_over_triangle_y_first.png\" alt=\"Double Integral Triangle\" style=\"height: 200px;\"/>"
   ]
  },
  {
   "cell_type": "markdown",
   "metadata": {},
   "source": [
    "$$\\begin{aligned}\n",
    "    \\int_0^1 \\left( \\int_{2y}^2 xy^2 \\mathrm{dx} \\right) \\mathrm{dy} =\n",
    "    \\int_0^1\\left(\\left.\\frac{x^2y^2}{2} \\right|_{x=2y}^{x=2}\\right) \\mathrm{dy} =\n",
    "    \\int_0^1 \\left( 2y^2 - 2y^4\\right) \\mathrm{dy} =\n",
    "    \\left. \\left(\\frac{2y^3}{3} - \\frac{2y^5}{5}\\right) \\right|_{y=0}^{y=1} = \n",
    "    2/3 - 2/5 = 4/15\n",
    "\\end{aligned}\n",
    "$$\n",
    "\n",
    "\n",
    "### Outcomes\n",
    "\n",
    "- Passing multiple functions as inputs to another function\n",
    "\n",
    "\n",
    "- Integrate a function for $x \\in [a, b]$ and $y \\in [c, d]$, where $c$ or $d$ is a function of $x$\n",
    "\n",
    "\n",
    "- Understanding the output from the `dblquad` function"
   ]
  },
  {
   "cell_type": "code",
   "execution_count": null,
   "metadata": {},
   "outputs": [],
   "source": [
    "def function(x, y):\n",
    "    return x * y**2\n",
    "\n",
    "def inner_bound_lower(y): \n",
    "    return 2*y\n",
    "\n",
    "def inner_bound_upper(y): \n",
    "    return 2"
   ]
  },
  {
   "cell_type": "code",
   "execution_count": null,
   "metadata": {},
   "outputs": [],
   "source": [
    "from scipy import integrate\n",
    "\n",
    "ans, error = integrate.dblquad(\n",
    "    function, 0, 1,\n",
    "    inner_bound_lower,\n",
    "    inner_bound_upper\n",
    ")\n",
    "print(ans)\n",
    "print(error)"
   ]
  },
  {
   "cell_type": "markdown",
   "metadata": {},
   "source": [
    "## Optimisation*\n",
    "\n",
    "### Example - Tin Can\n",
    "\n",
    "- A cylindrical-shaped tin-can must have a capacity of $1000cm^3$.\n",
    "\n",
    "\n",
    "- Determine the dimensions that require the minimum amount of tin for the can (assume no waste material)\n",
    "\n",
    "\n",
    "- The smallest can that the market will accept has a diameter of $6cm$ and a height of $4cm$\n",
    "\n",
    "\n",
    "- Variables:\n",
    "    $$x = [x_1, x_2] = [r, h]$$\n",
    "\n",
    "\n",
    "- Surface Area (Objective Function):\n",
    "    $$A(x) = 2 \\pi \\left({x_1}^2 + {x_1} {x_2} \\right)$$\n",
    "\n",
    "\n",
    "- Constraints (Inequality):\n",
    "    $$\\begin{align}\n",
    "    g_1(x) &= \\pi {x_1}^2 x_2 - 1000 \\geq 0 \\\\\n",
    "    g_2(x) &= x_1 - 3 \\geq 0 \\\\\n",
    "    g_3(x) &= x_2 - 4 \\geq 0 \n",
    "    \\end{align} $$"
   ]
  },
  {
   "cell_type": "markdown",
   "metadata": {},
   "source": [
    "### Outcomes\n",
    "\n",
    "- Importing and using `fmin_slsqp` $\\to$ `from scipy.optimize import fmin_slsqp`\n",
    "\n",
    "\n",
    "- Creating the objective function and constraint functions\n",
    "\n",
    "\n",
    "- Passing multiple functions as inputs to another function\n",
    "\n",
    "\n",
    "- Understanding the output from the `fmin_slsqp` function\n",
    "\n",
    "\n",
    "- Non-linear optimisation problem\n",
    "\n",
    "\n",
    "- Need to write $g(x)$ in the form $g(x) >= 0$"
   ]
  },
  {
   "cell_type": "code",
   "execution_count": null,
   "metadata": {},
   "outputs": [],
   "source": [
    "import numpy as np\n",
    "\n",
    "def function(x): \n",
    "    return np.pi * (x[0]**2 + x[0]*x[1])\n",
    "\n",
    "\n",
    "def ineq_constraints(x): \n",
    "    return [\n",
    "        np.pi * (x[0]**2) * x[1]- 1000,\n",
    "        x[0] - 3, \n",
    "        x[1] - 4\n",
    "    ]"
   ]
  },
  {
   "cell_type": "code",
   "execution_count": null,
   "metadata": {},
   "outputs": [],
   "source": [
    "from scipy import optimize\n",
    "\n",
    "x = optimize.fmin_slsqp(\n",
    "    function,\n",
    "    [1, 1],\n",
    "    f_ieqcons=ineq_constraints\n",
    ")\n",
    "\n",
    "print(x)"
   ]
  },
  {
   "cell_type": "markdown",
   "metadata": {},
   "source": [
    "## Solve ODE\n",
    "\n",
    "### Example - Newton's law of cooling\n",
    "\n",
    "Newton's law of cooling of a body with temperature $T$ is:\n",
    "$$\n",
    "\\frac{dT}{dt} = k (A - T)\n",
    "$$\n",
    "where $A$ is the ambient temperature, $k$ is a constant and $t$ is time. \n",
    "\n",
    "**Analytical solution**\n",
    "\n",
    "The analytical solution is as follows:\n",
    "$$\n",
    "T(t) = A + (T_{0} - A) e^{-k\\cdot t}\n",
    "$$\n",
    "where $T_{0}$ is the initial temperature of the body and $T(t)$ is a temperature over time.\n",
    "\n",
    "**Example:**\n",
    "\n",
    "Consider the following case:\n",
    "\n",
    "- $T_{0}$ = 100\n",
    "\n",
    "- $k$ = 1\n",
    "\n",
    "- $A$ = 70\n",
    "\n",
    "Use `odeint` to solve the differential equation and compare it against the analytical solution. \n"
   ]
  },
  {
   "cell_type": "code",
   "execution_count": null,
   "metadata": {},
   "outputs": [],
   "source": [
    "from scipy.integrate import odeint\n",
    "odeint?"
   ]
  },
  {
   "cell_type": "code",
   "execution_count": null,
   "metadata": {},
   "outputs": [],
   "source": [
    "%matplotlib inline\n",
    "import numpy as np\n",
    "from matplotlib import pyplot as plt\n",
    "from scipy.integrate import odeint\n",
    "\n",
    "def func(T,t,k,A):\n",
    "    dTdt = k * (A - T)\n",
    "    return dTdt\n",
    "\n",
    "k,A = 1,70\n",
    "\n",
    "T_initial = 100  \n",
    "times = np.linspace(0, 5, 200)\n",
    "results = odeint(func, [T_initial], times,args=(k,A))\n",
    "\n",
    "def analytical(t,k,T_initial,A):\n",
    "    T = A + (T_initial - A)*np.exp(-k * t)\n",
    "    return T\n",
    "\n",
    "plt.figure(1)\n",
    "plt.plot(times, results[:, 0], 'b')\n",
    "plt.plot(times,analytical(times,k,T_initial,A),'r:')\n",
    "plt.xlabel('time')\n",
    "plt.ylabel(\"T\")\n",
    "plt.show()"
   ]
  },
  {
   "cell_type": "markdown",
   "metadata": {},
   "source": [
    "### Example - Spring, mass and damper system*"
   ]
  },
  {
   "cell_type": "markdown",
   "metadata": {},
   "source": [
    "<img src=\"./figures/springdamper.svg\" alt=\"Spring Damper\" style=\"height: 220px;\"/>"
   ]
  },
  {
   "cell_type": "markdown",
   "metadata": {},
   "source": [
    "- The position of the mass $m$ is given by $x$\n",
    "\n",
    "\n",
    "- There is some force $f(t)$ applied to the mass that can vary with time\n",
    "\n",
    "\n",
    "- $x$ is a function of time $t$ therefore $x(t)$\n",
    "\n",
    "\n",
    "- Determine the position $x(t)$ of the mass $m$ for various values of $t$"
   ]
  },
  {
   "cell_type": "markdown",
   "metadata": {},
   "source": [
    "### Outcomes\n",
    "\n",
    "- Understanding and using the `odeint` function\n",
    "\n",
    "\n",
    "- Understanding `tuple` unpacking"
   ]
  },
  {
   "cell_type": "markdown",
   "metadata": {},
   "source": [
    "### Mathematics\n",
    "\n",
    "- Spring force:\n",
    "\n",
    "$$F_s(t) = -kx(t)$$\n",
    "\n",
    "\n",
    "- Damping force:\n",
    "$$F_d(t) = -cv(t) = -c\\dot{x}(t)$$\n",
    "\n",
    "\n",
    "- Force balance (Newtons law)\n",
    "$$F = m a$$\n",
    "\n",
    "$$F_s(t) + F_d(t) + f(t) = ma(t)$$\n",
    "\n",
    "$$-k x(t) - c v(t) + f(t) = ma(t)$$\n",
    "\n",
    "$$f(t) = k x(t) + c v(t) + ma(t)$$\n",
    "\n",
    "\n",
    "- Note that\n",
    "    - $v(t) = \\dot x(t)$\n",
    "    - $a(t) = \\dot v(t) = \\ddot x(t)$\n",
    "\n",
    "$$f(t) = k x(t) + c \\dot x(t) + m \\ddot x(t)$$\n",
    "\n",
    "\n",
    "- second order differential equation !! How do we solve this?"
   ]
  },
  {
   "cell_type": "markdown",
   "metadata": {},
   "source": [
    "- Need to write this second order DE as two first order DE's and solve simultaneously\n",
    "    - Fist equation:\n",
    "        $$v(t) = \\dot x(t)$$\n",
    "    - Second equation:\n",
    "        $$f(t) = k x(t) + c v(t) + m \\dot v(t)$$\n",
    "\n",
    "\n",
    "- Re-arranging for the first time derivatives:\n",
    "    - Fist equation:\n",
    "        $$\\dot x(t) = v(t)$$\n",
    "    - Second equation:\n",
    "        $$\\dot v(t) = \\frac{f(t)}{m} - \\frac{k x(t)}{m} - \\frac{c v(t)}{m} $$"
   ]
  },
  {
   "cell_type": "code",
   "execution_count": null,
   "metadata": {},
   "outputs": [],
   "source": [
    "%matplotlib inline\n",
    "import numpy as np\n",
    "from matplotlib import pyplot as plt\n",
    "from scipy.integrate import odeint\n",
    "\n",
    "\n",
    "def force(t):\n",
    "    return 0\n",
    "\n",
    "\n",
    "def func(variables, t, c, k, m):\n",
    "    xt, vt = variables\n",
    "    ft = force(t)\n",
    "    return [\n",
    "        vt,\n",
    "        ft/m - k*xt/m - c*vt/m\n",
    "    ]\n",
    "\n",
    "\n",
    "x_init = 10  # initial position\n",
    "v_init = 0  # initial velocity\n",
    "\n",
    "times = np.linspace(1, 100, 200)\n",
    "results = odeint(func, [x_init, v_init], times, args=(0.2, 1, 1))\n",
    "\n",
    "plt.plot(times, results[:, 0], 'r')\n",
    "plt.plot(times, results[:, 1], 'b')\n",
    "plt.legend(['position', 'velocity'])\n",
    "plt.xlabel('time')\n",
    "plt.show()"
   ]
  }
 ],
 "metadata": {
  "anaconda-cloud": {},
  "celltoolbar": "Visualize",
  "kernelspec": {
   "display_name": "Python 3 (Spyder)",
   "language": "python3",
   "name": "python3"
  },
  "language_info": {
   "codemirror_mode": {
    "name": "ipython",
    "version": 3
   },
   "file_extension": ".py",
   "mimetype": "text/x-python",
   "name": "python",
   "nbconvert_exporter": "python",
   "pygments_lexer": "ipython3",
   "version": "3.8.8"
  }
 },
 "nbformat": 4,
 "nbformat_minor": 4
}
