{
 "cells": [
  {
   "cell_type": "markdown",
   "metadata": {
    "slideshow": {
     "slide_type": "slide"
    }
   },
   "source": [
    "# Basic Lists"
   ]
  },
  {
   "cell_type": "markdown",
   "metadata": {},
   "source": [
    "<img src=\"./figures/memory_model7.svg\" alt=\"Memory Model Example 7\" style=\"height: 400px;\"/>"
   ]
  },
  {
   "cell_type": "markdown",
   "metadata": {
    "slideshow": {
     "slide_type": "slide"
    }
   },
   "source": [
    "## List Operators & Methods\n",
    "\n",
    "- List operators:\n",
    "    - Joining 2 lists together $\\to$ `+`\n",
    "    - Repeating the elements in a list x number of times $\\to$ `*`\n",
    "    - Operator priority $\\to$ same as mathematical priority\n",
    "\n",
    "\n",
    "- “In-Place” Methods:\n",
    "    - `list.sort()` $\\to$ sort the elements of a list\n",
    "    - `list.reverse()` $\\to$ reverse the elements of a list\n",
    "    - `list.insert(ind, value)` $\\to$ insert a value into a list at a specific location\n",
    "    - `list.append(value)` $\\to$ append a value to the end of a list\n",
    "\n",
    "\n",
    "- Functions\n",
    "    - `list.index(value)` $\\to$ return the location of a value in a list\n",
    "    - `list.count(value)` $\\to$ return the number of value entries in a list\n",
    "    - `len(list)` $\\to$ return the length of a list"
   ]
  },
  {
   "cell_type": "markdown",
   "metadata": {
    "slideshow": {
     "slide_type": "slide"
    }
   },
   "source": [
    "### Examples - Illustrative:\n",
    "- `time = [12, 8, 4, 6]`\n",
    "- `time.sort()` $\\to$ `time = [4, 6, 8, 12]`\n",
    "- `time.reverse()` $\\to$ `time = [12, 8, 6, 4]`\n",
    "- `time.insert(1, 10)` $\\to$ `time = [12, 10, 8, 6, 4]`\n",
    "- `time.append(2)` $\\to$ `time = [12, 10, 8, 6, 4, 2]`\n",
    "- `time.reverse()` $\\to$ `time = [2, 4, 6, 8, 10, 12]`\n",
    "- `time.append(4)` $\\to$ `time = [2, 4, 6, 8, 10, 12, 4]`\n",
    "- `loc = time.index(10)` $\\to$ `loc = 4`\n",
    "- `num4 = time.count(4)` $\\to$ `num4 = 2`\n",
    "- `num = len(time)` $\\to$ `num = 7`"
   ]
  },
  {
   "cell_type": "code",
   "execution_count": null,
   "metadata": {
    "slideshow": {
     "slide_type": "subslide"
    }
   },
   "outputs": [],
   "source": [
    "time = [12, 8, 4, 6]\n",
    "\n",
    "time.sort()\n",
    "print(time)\n",
    "\n",
    "time.reverse()\n",
    "print(time)\n",
    "\n",
    "time.insert(1, 10)\n",
    "print(time)\n",
    "\n",
    "time.append(2)\n",
    "print(time)\n",
    "\n",
    "time.reverse()\n",
    "print(time)\n",
    "\n",
    "time.append(4)\n",
    "print(time)\n",
    "\n",
    "loc = time.index(10)\n",
    "print(loc)\n",
    "\n",
    "num4 = time.count(4)\n",
    "print(num4)\n",
    "\n",
    "num = len(time)\n",
    "print(num)"
   ]
  },
  {
   "cell_type": "markdown",
   "metadata": {
    "slideshow": {
     "slide_type": "slide"
    }
   },
   "source": [
    "- How to properly read the `help()` information for list objects\n",
    "    - Ignore any functions with underscores $\\to$ `__func__`\n",
    "    - If there is no “Return” information about the function $\\to$ operation is done “In-Place” $\\to$ `list.reverse()`\n",
    "    - If there is “Return” information $\\to$ need name assignment for the object /value that is returned $\\to$ `name = list.index(value)`\n",
    "    - Anything about data / data descriptors $\\to$ it is not a function or method, it is data $\\to$ `numpy.pi`"
   ]
  },
  {
   "cell_type": "code",
   "execution_count": null,
   "metadata": {
    "slideshow": {
     "slide_type": "subslide"
    }
   },
   "outputs": [],
   "source": [
    "help(list)"
   ]
  },
  {
   "cell_type": "markdown",
   "metadata": {
    "slideshow": {
     "slide_type": "slide"
    }
   },
   "source": [
    "### Examples - Illustrative:\n",
    "- `range(0, 11, 1)` $\\to$ time values = $0, 1, 2, \\cdots, 10$\n",
    "- `range(2, 11, 2)` $\\to$ time values = $2, 4, 6, \\cdots, 10$\n",
    "- `range(2, 12, 2)` $\\to$ time values = $2, 4, 6, \\cdots, 10$\n",
    "- `range(1, 14, 3)` $\\to$ time values = $1, 4, 7, \\cdots, 13$"
   ]
  },
  {
   "cell_type": "code",
   "execution_count": null,
   "metadata": {
    "slideshow": {
     "slide_type": "subslide"
    }
   },
   "outputs": [],
   "source": [
    "time = range(0, 11, 1)\n",
    "print(list(time))\n",
    "\n",
    "time = range(2, 11, 2)\n",
    "print(list(time))\n",
    "\n",
    "time = range(2, 12, 2)\n",
    "print(list(time))\n",
    "\n",
    "time = range(1, 14, 3)\n",
    "print(list(time))"
   ]
  },
  {
   "cell_type": "markdown",
   "metadata": {
    "slideshow": {
     "slide_type": "subslide"
    }
   },
   "source": [
    "- Note: **`end` input into the range function is always omitted !!!**\n",
    "    - I.e. Stops before the `end` value !!! (**Start included and end excluded**)\n",
    "\n",
    "\n",
    "- All values in the list are always less than the `end` value\n",
    "\n",
    "\n",
    "- Note: `start` input into the range function is always the first value in the list !!!\n",
    "\n",
    "\n",
    "- $x_i = \\text{\"start\"} + i \\times \\text{\"increment\"}$\n",
    "    - for $i = 0, 1, 2, \\cdots$\n",
    "    - such that $x_i < \\text{\"end\"}$"
   ]
  },
  {
   "cell_type": "markdown",
   "metadata": {
    "slideshow": {
     "slide_type": "slide"
    }
   },
   "source": [
    "## Recap\n",
    "\n",
    "- `[ ]` brackets\n",
    "    - Used for creating lists $\\to$ `name = [12, 3.4, 55]`\n",
    "    - Used for indexing a list $\\to$ `name[1]` $\\to$ `3.4`\n",
    "\n",
    "\n",
    "- lists\n",
    "    - Operators: `() + *`\n",
    "        - `*` $\\to$ repeat entries in a list $\\to$ `[1, 2, 3] * 3`\n",
    "        - `+` $\\to$ add entries of a list together $\\to$ `[1, 2, 3] + [4, 5, 6]`\n",
    "\n",
    "    - Priority: `()` then `*` then `+`\n",
    "\n",
    "\n",
    "- `range` object\n",
    "    - Used to create integer only lists\n",
    "        - `name = range(start, end, increment)`"
   ]
  },
  {
   "cell_type": "code",
   "execution_count": null,
   "metadata": {
    "slideshow": {
     "slide_type": "skip"
    }
   },
   "outputs": [],
   "source": []
  }
 ],
 "metadata": {
  "anaconda-cloud": {},
  "kernelspec": {
   "display_name": "Python 3",
   "language": "python",
   "name": "python3"
  },
  "language_info": {
   "codemirror_mode": {
    "name": "ipython",
    "version": 3
   },
   "file_extension": ".py",
   "mimetype": "text/x-python",
   "name": "python",
   "nbconvert_exporter": "python",
   "pygments_lexer": "ipython3",
   "version": "3.7.4"
  }
 },
 "nbformat": 4,
 "nbformat_minor": 1
}
