{
 "cells": [
  {
   "cell_type": "markdown",
   "metadata": {
    "slideshow": {
     "slide_type": "slide"
    }
   },
   "source": [
    "# Arrays\n",
    "\n",
    "- [Arrays Recap](#Arrays-Recap)\n",
    "- [Lists vs Arrays](#Lists-vs-Arrays)\n",
    "- [Matrices](#Matrices)\n",
    "- [2D Lists](#2D-Lists)\n",
    "- [Other Numpy matrix functions useful in general engineering](#Other-Numpy-matrix-functions-useful-in-general-engineering)\n"
   ]
  },
  {
   "cell_type": "markdown",
   "metadata": {},
   "source": [
    "## Arrays - Recap\n",
    "\n",
    "### Example - Vector vector multiplication\n",
    "\n",
    "- Use python to calculate:\n",
    "\n",
    "$$\n",
    "\\begin{bmatrix}\n",
    "    2.4 & 4.2 & 8.1 \\\\\n",
    "\\end{bmatrix}\n",
    "\\cdot\n",
    "\\begin{bmatrix}\n",
    "     7.3 \\\\\n",
    "    12.2 \\\\\n",
    "     6.1 \\\\\n",
    "\\end{bmatrix}\n",
    "$$"
   ]
  },
  {
   "cell_type": "markdown",
   "metadata": {
    "slideshow": {
     "slide_type": "slide"
    }
   },
   "source": [
    "### Outcomes:\n",
    "\n",
    "- looping through 2 corresponding numpy arrays\n",
    "\n",
    "\n",
    "- Indexing a numpy array (accessing the elements)\n",
    "\n",
    "\n",
    "- `numpy.dot` function"
   ]
  },
  {
   "cell_type": "code",
   "execution_count": null,
   "metadata": {
    "slideshow": {
     "slide_type": "subslide"
    }
   },
   "outputs": [],
   "source": [
    "import numpy as np\n",
    "\n",
    "vec1 = np.array([2.4, 4.2, 8.1])\n",
    "vec2 = np.array([7.3, 12.2, 6.1])\n",
    "\n",
    "prodsum = 0\n",
    "for i in range(len(vec1)):\n",
    "    prodsum = prodsum + (vec1[i] * vec2[i])\n",
    "\n",
    "print(\"Manual dot calculation:\", prodsum)\n",
    "print(\"Manual dot calculation:\", np.sum(vec1 * vec2))\n",
    "print(\"Numpy dot calculation:\", np.dot(vec1, vec2))"
   ]
  },
  {
   "cell_type": "markdown",
   "metadata": {},
   "source": [
    "## Lists vs Arrays\n",
    "\n",
    "- Indexing:\n",
    "     - Elements in `list`s and `array`s are accessed (indexed) the same way $\\to$ square brackets after the name $\\to$ `data[ind]`\n",
    "\n",
    "\n",
    "- List Computations:\n",
    "     - Need to loop through a list in order to compute something using the list elements"
   ]
  },
  {
   "cell_type": "code",
   "execution_count": null,
   "metadata": {},
   "outputs": [],
   "source": [
    "import numpy as np\n",
    "\n",
    "# 0.1 * [1, 2, 3, 4]\n",
    "data = [1, 2, 3, 4]\n",
    "\n",
    "new = []\n",
    "for v in data:\n",
    "    new.append(0.1*v)\n",
    "\n",
    "print(data)\n",
    "print(new)\n",
    "\n",
    "ans = 0.1 * np.array(data)\n",
    "for v in ans:\n",
    "    print('{:.18f}'.format(v))"
   ]
  },
  {
   "cell_type": "markdown",
   "metadata": {},
   "source": [
    "- `array` computations:\n",
    "     - No need to loop through an array in order to compute something using the array elements:"
   ]
  },
  {
   "cell_type": "code",
   "execution_count": null,
   "metadata": {},
   "outputs": [],
   "source": [
    "import numpy as np\n",
    "\n",
    "# 0.1 * [1, 2, 3, 4]\n",
    "data = np.array([1, 2, 3, 4])\n",
    "data = data * 0.1\n",
    "print(data)"
   ]
  },
  {
   "cell_type": "markdown",
   "metadata": {},
   "source": [
    "- `array` computations:\n",
    "    - All computations are done on an element-by-element basis of the array object\n",
    "    - Arrays need to be the same length (size)"
   ]
  },
  {
   "cell_type": "code",
   "execution_count": null,
   "metadata": {},
   "outputs": [],
   "source": [
    "import numpy as np\n",
    "\n",
    "# 0.1 * [1, 2, 3, 4]\n",
    "data = np.array([1, 2, 3, 4])\n",
    "scale = np.array([10, 2, 3, 1])\n",
    "print(data * scale)"
   ]
  },
  {
   "cell_type": "markdown",
   "metadata": {},
   "source": [
    "## Matrices\n",
    "\n",
    "### Overview\n",
    "\n",
    "- 2D data structure $\\to$ 2D indexing\n",
    "$$\n",
    "\\text{col} \\\\\n",
    "\\text{row}\n",
    "\\begin{array}{l|cccc}\n",
    "      & 0 & 1 & 2 & 3 \\\\\n",
    "    \\hline\n",
    "    0 & 10 & 12 & 14 & 16 \\\\\n",
    "    1 & 20 & 22 & 24 & 26 \\\\\n",
    "    2 & 30 & 32 & 34 & 36 \\\\\n",
    "    3 & 50 & 52 & 54 & 56 \\\\\n",
    "\\end{array}\n",
    "$$\n",
    "\n",
    "\n",
    "- Indexing $\\to$ `matrix[row, col]` $\\to$ `row` first, then `col`"
   ]
  },
  {
   "cell_type": "code",
   "execution_count": null,
   "metadata": {},
   "outputs": [],
   "source": [
    "import numpy as np\n",
    "\n",
    "mat = np.array([\n",
    "    [10, 12, 14, 16],\n",
    "    [20, 22, 24, 26],\n",
    "    [30, 32, 34, 36],\n",
    "    [50, 52, 54, 56],\n",
    "])\n",
    "\n",
    "print(mat)\n",
    "print(\"\\nmat[0, 2]:\", mat[0, 2])\n",
    "print(\"mat[2, 3]:\", mat[2, 3])"
   ]
  },
  {
   "cell_type": "markdown",
   "metadata": {},
   "source": [
    "- `array` operators:\n",
    "    - `+ − ∗ / ∗∗` etc $\\to$ same as normal number mathematics → done on an element-by-element bases\n",
    "        - Can do operations with `arrays` and numbers\n",
    "            - E.g. `arr3 = arr1 + 12.5`\n",
    "        - Can do operations with `arrays` and `arrays`\n",
    "            - E.g. `arr3 = arr1 + arr2` $\\to$ **arrays must be the same shape !!**\n",
    "    - Operator priority $\\to$ same as mathematical priority"
   ]
  },
  {
   "cell_type": "code",
   "execution_count": null,
   "metadata": {},
   "outputs": [],
   "source": [
    "import numpy as np\n",
    "\n",
    "mat = np.array([\n",
    "    [10, 12, 14, 16],\n",
    "    [20, 22, 24, 26],\n",
    "    [30, 32, 34, 36],\n",
    "    [50, 52, 54, 56],\n",
    "])\n",
    "\n",
    "print(mat * 2, \"\\n\")\n",
    "print(mat * mat)"
   ]
  },
  {
   "cell_type": "markdown",
   "metadata": {},
   "source": [
    "### Example - Matrix vector multiplication\n",
    "\n",
    "- For example use python to calculate:\n",
    "\n",
    "$$\n",
    "\\begin{bmatrix}\n",
    "    2.4 & 4.2 & 8.1 \\\\\n",
    "    9.1 & 3.9 & 7.2 \\\\\n",
    "    0.2 & 3.9 & 3.0\n",
    "\\end{bmatrix} \\cdot \n",
    "\\begin{bmatrix}\n",
    "    7.3 \\\\ \n",
    "    12.2 \\\\\n",
    "    6.1\n",
    "\\end{bmatrix}\n",
    "$$"
   ]
  },
  {
   "cell_type": "markdown",
   "metadata": {
    "slideshow": {
     "slide_type": "slide"
    }
   },
   "source": [
    "### Outcomes:\n",
    "\n",
    "- `numpy` `array.shape` attribute\n",
    "\n",
    "\n",
    "- manual calculation of the dot product\n",
    "\n",
    "\n",
    "- looping through a matrix\n",
    "\n",
    "\n",
    "- Indexing a matrix (accessing the elements)\n",
    "\n",
    "\n",
    "- `numpy.zeros` function\n",
    "\n",
    "\n",
    "- `numpy.dot` function"
   ]
  },
  {
   "cell_type": "code",
   "execution_count": null,
   "metadata": {},
   "outputs": [],
   "source": [
    "import numpy as np\n",
    "\n",
    "def my_dot(mat, vec):\n",
    "    rows, cols = mat.shape\n",
    "    dotprod = np.zeros(rows)\n",
    "    for i in range(rows):\n",
    "        prodsum = 0\n",
    "        for j in range(cols):\n",
    "            prodsum = prodsum + (mat[i, j] * vec[j])\n",
    "        dotprod[i] = prodsum\n",
    "    return dotprod"
   ]
  },
  {
   "cell_type": "code",
   "execution_count": null,
   "metadata": {
    "slideshow": {
     "slide_type": "subslide"
    }
   },
   "outputs": [],
   "source": [
    "import numpy as np\n",
    "\n",
    "mat = np.array([\n",
    "    [2.4, 4.2, 8.1],\n",
    "    [9.1, 3.9, 7.2],\n",
    "    [0.2, 3.9, 3.0]\n",
    "])\n",
    "vec = np.array([7.3, 12.2, 6.1])\n",
    "\n",
    "print(\"Manual dot calculation:\", my_dot(mat, vec))\n",
    "print(\"Numpy dot calculation:\", np.dot(mat, vec))"
   ]
  },
  {
   "cell_type": "markdown",
   "metadata": {},
   "source": [
    "### Example - Matrix matrix multiplication\n",
    "\n",
    "- For example use python to calculate:\n",
    "\n",
    "$$\n",
    "\\begin{bmatrix}\n",
    "    2.4 & 4.2 & 8.1 \\\\\n",
    "    9.1 & 3.9 & 7.2 \\\\\n",
    "    0.2 & 3.9 & 3.0\n",
    "\\end{bmatrix} \\cdot\n",
    "\\begin{bmatrix}\n",
    "    7.3 & 4.2 \\\\\n",
    "    12.2 & 9.6 \\\\\n",
    "    6.1 & 12.4\n",
    "\\end{bmatrix}\n",
    "$$"
   ]
  },
  {
   "cell_type": "markdown",
   "metadata": {
    "slideshow": {
     "slide_type": "slide"
    }
   },
   "source": [
    "### Outcomes:\n",
    "\n",
    "- `numpy` `array.shape` attribute\n",
    "\n",
    "\n",
    "- manual calculation of the dot product\n",
    "\n",
    "\n",
    "- looping through a matrix\n",
    "\n",
    "\n",
    "- Indexing a matrix (accessing the elements)\n",
    "\n",
    "\n",
    "- `numpy.zeros` function\n",
    "\n",
    "\n",
    "- `numpy.dot` function\n",
    "\n",
    "\n",
    "- @ operator"
   ]
  },
  {
   "cell_type": "code",
   "execution_count": null,
   "metadata": {
    "slideshow": {
     "slide_type": "subslide"
    }
   },
   "outputs": [],
   "source": [
    "import numpy as np\n",
    "\n",
    "def my_dot_v1(mat1, mat2):\n",
    "    rows1, cols1 = mat1.shape\n",
    "    rows2, cols2 = mat2.shape\n",
    "    dotprod = np.zeros((rows1, cols2))\n",
    "\n",
    "    for i in range(rows1):\n",
    "        for j in range(cols2):\n",
    "            prodsum = 0\n",
    "            for k in range(cols1):\n",
    "                prodsum = prodsum + (mat1[i, k] * mat2[k, j])\n",
    "            dotprod[i, j] = prodsum\n",
    "    return dotprod\n",
    "\n",
    "\n",
    "def my_dot_v2(mat1, mat2):\n",
    "    rows1, cols1 = mat1.shape\n",
    "    rows2, cols2 = mat2.shape\n",
    "    dotprod = np.zeros((rows1, cols2))\n",
    "\n",
    "    for i in range(rows1):\n",
    "        for j in range(cols2):\n",
    "            prodsum = np.sum(mat1[i, :] * mat2[:, j])\n",
    "            dotprod[i, j] = prodsum\n",
    "    return dotprod"
   ]
  },
  {
   "cell_type": "code",
   "execution_count": null,
   "metadata": {
    "slideshow": {
     "slide_type": "subslide"
    }
   },
   "outputs": [],
   "source": [
    "import numpy as np\n",
    "\n",
    "mat1 = np.array([\n",
    "    [2.4, 4.2, 8.1],\n",
    "    [9.1, 3.9, 7.2],\n",
    "    [0.2, 3.9, 3.0]\n",
    "])\n",
    "\n",
    "mat2 = np.array([\n",
    "    [ 7.3, 4.2 ],\n",
    "    [12.2, 9.6 ],\n",
    "    [ 6.1, 12.4]\n",
    "])\n",
    "\n",
    "print(\"Manual dot calculation 1:\")\n",
    "print(my_dot_v1(mat1, mat2))\n",
    "print(\"\\nManual dot calculation 2:\")\n",
    "print(my_dot_v2(mat1, mat2))\n",
    "print(\"\\nNumpy dot calculation:\")\n",
    "print(np.dot(mat1, mat2))\n",
    "print(\"\\n@ operator calculation:\")\n",
    "print(mat1@mat2)"
   ]
  },
  {
   "cell_type": "markdown",
   "metadata": {},
   "source": [
    "### Example - Upper diagonal sum versus diagonal sum\n",
    "\n",
    "- Use python to calculate whether the sum of the upper diagonal components of a matrix is more than the diagonal components of the matrix:\n",
    "\n",
    "$$\n",
    "\\begin{bmatrix}\n",
    "    2.4 & 4.2 & 8.1 \\\\\n",
    "    9.1 & 3.9 & 7.2 \\\\\n",
    "    0.2 & 3.9 & 3.0\n",
    "\\end{bmatrix}\n",
    "$$"
   ]
  },
  {
   "cell_type": "markdown",
   "metadata": {
    "slideshow": {
     "slide_type": "slide"
    }
   },
   "source": [
    "### Outcomes:\n",
    "\n",
    "- `numpy` `array.shape` attribute\n",
    "\n",
    "\n",
    "- looping through parts of a matrix\n",
    "\n",
    "\n",
    "- nested looping in which the counters are related to each other\n",
    "\n",
    "\n",
    "- Indexing a matrix (accessing specific elements)"
   ]
  },
  {
   "cell_type": "code",
   "execution_count": null,
   "metadata": {
    "slideshow": {
     "slide_type": "subslide"
    }
   },
   "outputs": [],
   "source": [
    "import numpy as np\n",
    "\n",
    "def sum_mat_components(mat):\n",
    "    diag = 0\n",
    "    upper = 0\n",
    "    lower = 0\n",
    "\n",
    "    rows, cols = mat.shape\n",
    "    for i in range(rows):\n",
    "        for j in range(cols):\n",
    "            if i == j:\n",
    "                diag = diag + mat[i, j]\n",
    "            if i > j:\n",
    "                lower = lower + mat[i, j]\n",
    "            if j > i:\n",
    "                upper = upper + mat[i, j]\n",
    "\n",
    "    return diag, lower, upper"
   ]
  },
  {
   "cell_type": "code",
   "execution_count": null,
   "metadata": {
    "slideshow": {
     "slide_type": "subslide"
    }
   },
   "outputs": [],
   "source": [
    "import numpy as np\n",
    "\n",
    "mat = np.array([\n",
    "    [2.4, 4.2, 8.1],\n",
    "    [9.1, 3.9, 7.2],\n",
    "    [0.2, 3.9, 3.0]\n",
    "])\n",
    "\n",
    "diag, lower, upper = sum_mat_components(mat)\n",
    "\n",
    "print(\"Sum of lower diag components:\", lower)\n",
    "print(\"Sum of upper diag components:\", upper)\n",
    "print(\"Sum of diag components:\", diag)\n",
    "if upper > diag:\n",
    "    print(\"The matrix is upper diagonally dominant\")\n",
    "else:\n",
    "    print(\"The matrix is not upper diagonally dominant\")"
   ]
  },
  {
   "cell_type": "code",
   "execution_count": null,
   "metadata": {},
   "outputs": [],
   "source": [
    "# import numpy as np\n",
    "\n",
    "# np.lookfor('upper diagonal')"
   ]
  },
  {
   "cell_type": "markdown",
   "metadata": {},
   "source": [
    "### Example - Replace matrix values\n",
    "\n",
    "- Write a python function that take a matrix as an input\n",
    "\n",
    "\n",
    "- The function must return a new matrix where:\n",
    "    - all the 1’s have been replaced by 2’s, and\n",
    "    - all the 2’s have been replaced by 1’s\n",
    "\n",
    "\n",
    "- Use the following matrix to test the function:\n",
    "\n",
    "$$\n",
    "\\begin{bmatrix}\n",
    "    0 & 0 & 1 & 1 \\\\\n",
    "    0 & 1 & 1 & 1 \\\\\n",
    "    0 & 2 & 1 & 0 \\\\\n",
    "    2 & 0 & 2 & 0\n",
    "\\end{bmatrix}\n",
    "$$"
   ]
  },
  {
   "cell_type": "markdown",
   "metadata": {
    "slideshow": {
     "slide_type": "slide"
    }
   },
   "source": [
    "### Outcomes:\n",
    "\n",
    "- Working with lists or arrays as function inputs\n",
    "\n",
    "\n",
    "- Creating a new matrix (copy of another matrix)\n",
    "\n",
    "\n",
    "- Not modifying the original matrix"
   ]
  },
  {
   "cell_type": "code",
   "execution_count": null,
   "metadata": {
    "slideshow": {
     "slide_type": "subslide"
    }
   },
   "outputs": [],
   "source": [
    "import numpy as np\n",
    "\n",
    "def replace_vals(mat):\n",
    "    matcopy = np.copy(mat)\n",
    "    rows, cols = mat.shape\n",
    "    for i in range(rows):\n",
    "        for j in range(cols):\n",
    "            if matcopy[i, j] == 1:\n",
    "                matcopy[i, j] = 2\n",
    "            elif matcopy[i, j] == 2:\n",
    "                matcopy[i, j] = 1\n",
    "    \n",
    "    return matcopy            "
   ]
  },
  {
   "cell_type": "code",
   "execution_count": null,
   "metadata": {
    "slideshow": {
     "slide_type": "subslide"
    }
   },
   "outputs": [],
   "source": [
    "import numpy as np\n",
    "\n",
    "mat = np.array([\n",
    "    [0, 0, 1, 1],\n",
    "    [0, 1, 1, 1],\n",
    "    [0, 2, 1, 0],\n",
    "    [2, 0, 2, 0]\n",
    "])\n",
    "\n",
    "smat = replace_vals(mat)\n",
    "print (\"Original: \")\n",
    "print (mat)\n",
    "print (\"\\nSwop 1’s and 2’s: \")\n",
    "print (smat)"
   ]
  },
  {
   "cell_type": "markdown",
   "metadata": {},
   "source": [
    "## 2D Lists\n",
    "\n",
    "- List of lists\n",
    "- Creating a list of lists \n",
    "- Indexing"
   ]
  },
  {
   "cell_type": "code",
   "execution_count": null,
   "metadata": {
    "slideshow": {
     "slide_type": "skip"
    }
   },
   "outputs": [],
   "source": [
    "lol1 = [[1,2,3,4],[5,6,7],['Spain','Portugal','Greece']]\n",
    "print(lol1)\n",
    "type(lol1)"
   ]
  },
  {
   "cell_type": "code",
   "execution_count": null,
   "metadata": {},
   "outputs": [],
   "source": [
    "lol1"
   ]
  },
  {
   "cell_type": "code",
   "execution_count": null,
   "metadata": {},
   "outputs": [],
   "source": [
    "#lol1[2,1]\n",
    "lol1[2]  # 3rd list"
   ]
  },
  {
   "cell_type": "code",
   "execution_count": null,
   "metadata": {},
   "outputs": [],
   "source": [
    "lol1[2][1]"
   ]
  },
  {
   "cell_type": "code",
   "execution_count": null,
   "metadata": {},
   "outputs": [],
   "source": [
    "lol1[2][1] = 'Italy'\n",
    "lol1"
   ]
  },
  {
   "cell_type": "markdown",
   "metadata": {},
   "source": [
    "## Other Numpy matrix functions useful in general engineering\n",
    "\n",
    "The following was not formally taught in the MPR 213 module and will therefore not be tested in the exam.  This information is supplied to assist students in using Python effectively in their further engineering studies.\n",
    "\n",
    "Use `help` or `numpy.info` to get help on how to use these functions:\n",
    "\n",
    "- cross product of two vectors: `numpy.cross`\n",
    "- Solution of system of linear equations (essentially Gaussian elimination): `numpy.linalg.solve`\n",
    "- Calculation of eigenvalues and eigenvectors of a square matrix: `numpy.linalg.eig`\n",
    "\n",
    "### Example of cross product calculation:\n",
    "\n",
    "Let us define the unit vectors in the Cartesian $x$, $y$ and $z$ directions, $\\vec{\\imath}$, $\\vec{\\jmath}$ and $\\vec{k}$, respectively, as three one-dimensional numpy arrays `ii`, `jj`, and `kk`, respectively:"
   ]
  },
  {
   "cell_type": "code",
   "execution_count": null,
   "metadata": {},
   "outputs": [],
   "source": [
    "import numpy as np\n",
    "\n",
    "ii = np.array([1.0, 0.0, 0.0])\n",
    "jj = np.array([0.0, 1.0, 0.0])\n",
    "kk = np.array([0.0, 0.0, 1.0])\n",
    "\n",
    "should_be_kk = np.cross(ii,jj)\n",
    "should_be_ii = np.cross(jj,kk)\n",
    "should_be_jj = np.cross(kk,ii)\n",
    "\n",
    "should_be_minus_kk = np.cross(jj,ii)\n",
    "\n",
    "should_be_zero = np.cross(ii,ii)\n",
    "\n",
    "print('should_be_kk = ',should_be_kk)\n",
    "print('should_be_ii = ',should_be_ii)\n",
    "print('should_be_jj = ',should_be_jj)\n",
    "print('should_be_minus_kk = ',should_be_minus_kk)\n",
    "print('should_be_zero = ',should_be_zero)"
   ]
  }
 ],
 "metadata": {
  "anaconda-cloud": {},
  "kernelspec": {
   "display_name": "Python 3",
   "language": "python",
   "name": "python3"
  },
  "language_info": {
   "codemirror_mode": {
    "name": "ipython",
    "version": 3
   },
   "file_extension": ".py",
   "mimetype": "text/x-python",
   "name": "python",
   "nbconvert_exporter": "python",
   "pygments_lexer": "ipython3",
   "version": "3.8.3"
  }
 },
 "nbformat": 4,
 "nbformat_minor": 1
}
