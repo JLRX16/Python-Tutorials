{
 "cells": [
  {
   "cell_type": "markdown",
   "metadata": {
    "slideshow": {
     "slide_type": "slide"
    }
   },
   "source": [
    "# Basic Arrays\n",
    "\n",
    "- [Introduction](#Introduction)\n",
    "- [Overview](#Overview)\n",
    "- [Operators & Methods](#Operators-&-Methods)\n",
    "- [Creating Arrays](#Creating-Arrays)\n",
    "- [Additional Examples](#Additional-Examples)\n",
    "- [Recap](#Recap)\n"
   ]
  },
  {
   "cell_type": "markdown",
   "metadata": {},
   "source": [
    "## Introduction\n",
    "\n",
    "### Example - Constant acceleration motion\n",
    "\n",
    "- Example of an object falling:\n",
    "    - $s_0 \\: [m]$ (initial height)\n",
    "    - $v_0 \\: [m/s]$ (initial velocity)\n",
    "    - $a = -9.81 \\: m/s^2$ (gravitational acceleration)\n",
    "    - $t = \\: [s]$ (time)\n",
    "\n",
    "$$ \n",
    "\\begin{align}\n",
    "    a(t) &= \\text{const} \\\\\n",
    "    v(t) &= \\int a dt  =  v_0 + at \\\\\n",
    "    s(t) &= \\int v(t) dt = s_0 + v_0t + \\frac{1}{2} at^2\n",
    "\\end{align}\n",
    "$$\n",
    "\n",
    "- Calculate $s(t)$ for multiple different initial $s_0$ and $v_0$ for 100 different times `t` between 0 and 6\n",
    "\n",
    "\n",
    "### Outcomes:\n",
    "- Creating and using arrays"
   ]
  },
  {
   "cell_type": "code",
   "execution_count": null,
   "metadata": {},
   "outputs": [],
   "source": [
    "def height(s0, v0, t):\n",
    "    g = -9.81\n",
    "    return s0 + v0 * t + 0.5 * g * t**2\n",
    "\n",
    "\n",
    "print(height(s0=100, v0=0, t=0.1))\n",
    "print(height(s0=100, v0=0, t=0.2))\n",
    "print(height(s0=100, v0=0, t=0.3))\n",
    "print(height(s0=100, v0=0, t=0.4))"
   ]
  },
  {
   "cell_type": "markdown",
   "metadata": {},
   "source": [
    "- Using this function `100+` time is some what tedious\n",
    "- We need a way of collecting values (data) using one name $\\to$ `array`s"
   ]
  },
  {
   "cell_type": "code",
   "execution_count": null,
   "metadata": {},
   "outputs": [],
   "source": [
    "%load_ext nbtutor"
   ]
  },
  {
   "cell_type": "code",
   "execution_count": null,
   "metadata": {},
   "outputs": [],
   "source": [
    "%%nbtutor -r -f --digits 5\n",
    "import numpy as np\n",
    "\n",
    "def height(s0, v0, t):\n",
    "    g = -9.81\n",
    "    ans = s0 + v0 * t + 0.5 * g * t**2\n",
    "    return ans\n",
    "\n",
    "\n",
    "times = np.array([0.0, 0.1, 0.2, 0.3, 0.4])\n",
    "s1 = height(s0=100, v0=10, t=times)\n",
    "s2 = height(s0=100, v0=20, t=times)\n",
    "\n",
    "print(s1)"
   ]
  },
  {
   "cell_type": "markdown",
   "metadata": {},
   "source": [
    "## Overview\n",
    "\n",
    "- Lists $\\to$ `t = [1, 2, 3]`\n",
    "    - Created using 2 square brackets around the objects\n",
    "    - Objects in the list are separated by commas\n",
    "    - Collection of **objects** using 1 name $\\to$ `t`\n",
    "    - More on lists later\n",
    "\n",
    "\n",
    "- Arrays $\\to$ `t = numpy.array([1, 2, 3])`\n",
    "    - Converts a `list` to an `array` object\n",
    "    - Collection of **values** using 1 name $\\to$ `t`\n",
    "    - `numpy` $\\to$ short for numerical Python $\\to$ used for creating `array` objects\n",
    "    - `numpy` $\\to$ used mainly for vector and matrix algebra\n",
    "    - `array` $\\to$ generic name for a vector or matrix\n",
    "\n",
    "\n",
    "- Creating arrays manually:\n",
    "    - `arr = np.array([1.2, 3, 5.6, 9])`\n",
    "    - Values are separated by commas"
   ]
  },
  {
   "cell_type": "markdown",
   "metadata": {},
   "source": [
    "## Operators & Methods\n",
    "\n",
    "- `array` operators:\n",
    "    - `+ − ∗ / ∗∗` etc $\\to$ same as normal number mathematics → done on an element-by-element basis\n",
    "        - Can do operations with `arrays` and numbers\n",
    "            - E.g. `arr3 = arr1 + 12.5`\n",
    "        - Can do operations with `arrays` and `arrays`\n",
    "            - E.g. `arr3 = arr1 + arr2` $\\to$ **arrays must be the same shape !!**\n",
    "    - Operator priority $\\to$ same as mathematical priority"
   ]
  },
  {
   "cell_type": "markdown",
   "metadata": {},
   "source": [
    "### Examples - Illustrative:"
   ]
  },
  {
   "cell_type": "code",
   "execution_count": null,
   "metadata": {},
   "outputs": [],
   "source": [
    "%%nbtutor -r -f\n",
    "import numpy as np\n",
    "\n",
    "foo = [1, 4, 6, 3]\n",
    "a1 = np.array(foo)\n",
    "a2 = np.array([5, 8, 1, 4])\n",
    "print(\"type(foo):\", type(foo))\n",
    "print(\"type(a1):\", type(a1))\n",
    "print(\"a1:\", a1)\n",
    "print(\"a2:\", a2)\n",
    "\n",
    "a3 = 2 + a1\n",
    "print(\"2 + a1:\", a3)\n",
    "\n",
    "a3 = a1 / 10\n",
    "print(\"a1 / 10:\", a3)\n",
    "\n",
    "a3 = a1 + a2\n",
    "print(\"a1 + a2:\", a3)\n",
    "\n",
    "a3 = a1 * a2\n",
    "print(\"a1 * a2:\", a3)"
   ]
  },
  {
   "cell_type": "markdown",
   "metadata": {},
   "source": [
    "- `array` methods:\n",
    "    - `num = array.min()` $\\to$ minimum number in array\n",
    "    - `num = array.max()` $\\to$ maximum number in array\n",
    "    - `num = array.mean()` $\\to$ average value of the numbers in array\n",
    "\n",
    "\n",
    "- Functions:\n",
    "    - `np.sum(array)` $\\to$ sum all values in array\n",
    "    - `len(array)` $\\to$ number of entries (values) in array\n",
    "- Properties:\n",
    "    - array.shape $\\to$ dimensions of array"
   ]
  },
  {
   "cell_type": "markdown",
   "metadata": {},
   "source": [
    "### Examples - Illustrative:"
   ]
  },
  {
   "cell_type": "code",
   "execution_count": null,
   "metadata": {},
   "outputs": [],
   "source": [
    "import numpy as np\n",
    "\n",
    "a1 = np.array([1, 4, 6, 3])\n",
    "a2 = np.array([5, 8, 1, 4])\n",
    "print(\"a1:\", a1)\n",
    "print(\"a2:\", a2)\n",
    "\n",
    "print(\"a1.min():\", a1.min())\n",
    "print(\"a2.max():\", a2.max())\n",
    "print(\"a2.mean():\", a2.mean())\n",
    "print(\"np.sum(a1):\", np.sum(a1))\n",
    "print(\"len(a1):\", len(a1))\n",
    "print(\"a1.shape:\", a1.shape)"
   ]
  },
  {
   "cell_type": "markdown",
   "metadata": {},
   "source": [
    "## Creating Arrays\n",
    "\n",
    "- Ways of creating arrays:\n",
    "    - manually: `arr = np.array([1.2, 3, 5.6, 9])`\n",
    "        - convert a `list` to an `array`\n",
    "    - `arange`: `arr = np.arange(1, 2, 0.1)`\n",
    "        - `arr = np.arange(start, stop, step)`\n",
    "        - `start` $\\to$ start value [included]\n",
    "        - `stop` $\\to$ stop value [**excluded**]\n",
    "        - `step` $\\to$ increment amount from start to stop\n",
    "    - `linspace`: `arr = np.linspace(1, 20, 10)`\n",
    "        - `arr = np.linspace(start, stop, num)`\n",
    "        - `start` $\\to$ start value [included]\n",
    "        - `stop` $\\to$ stop value [**included**]\n",
    "        - `num` $\\to$ number of data points in the array between (and including) start and stop"
   ]
  },
  {
   "cell_type": "code",
   "execution_count": null,
   "metadata": {
    "scrolled": true
   },
   "outputs": [],
   "source": [
    "import numpy as np\n",
    "\n",
    "times = np.array([0.1, 0.2, 0.3, 0.4])\n",
    "print(type(times))\n",
    "print(times)\n",
    "\n",
    "# arange(start, stop, inc)\n",
    "times = np.arange(0, 1.1, 0.1)\n",
    "print(type(times))\n",
    "print(times)\n",
    "\n",
    "# linspace(start, stop, #points)\n",
    "times = np.linspace(0, 1, 11)\n",
    "print(type(times))\n",
    "print(times)"
   ]
  },
  {
   "cell_type": "markdown",
   "metadata": {},
   "source": [
    "### Example - Constant acceleration motion\n",
    "\n",
    "- Example of an object falling:\n",
    "    - $s_0 \\: [m]$ (initial height)\n",
    "    - $v_0 \\: [m/s]$ (initial velocity)\n",
    "    - $a = -9.81 \\: m/s^2$ (gravitational acceleration)\n",
    "    - $t = \\: [s]$ (time)\n",
    "\n",
    "$$ \n",
    "\\begin{align}\n",
    "    a(t) &= \\text{const} \\\\\n",
    "    v(t) &= \\int a dt  =  v_0 + at \\\\\n",
    "    s(t) &= \\int v(t) dt = s_0 + v_0t + \\frac{1}{2} at^2\n",
    "\\end{align}\n",
    "$$\n",
    "\n",
    "- Calculate $s(t)$ for multiple different initial $s_0$ and $v_0$ for 100 different times `t` between 0 and 6\n",
    "\n",
    "\n",
    "### Outcomes:\n",
    "- Creating and using arrays"
   ]
  },
  {
   "cell_type": "code",
   "execution_count": null,
   "metadata": {},
   "outputs": [],
   "source": [
    "import numpy as np\n",
    "\n",
    "def height(s0, t):\n",
    "    g = -9.81\n",
    "    v0 = 0\n",
    "    return s0 + v0 * t + 0.5 * g * t**2\n",
    "\n",
    "\n",
    "times = np.linspace(0, 6, 100)\n",
    "s = height(s0=100, t=times)\n",
    "print(s)"
   ]
  },
  {
   "cell_type": "code",
   "execution_count": null,
   "metadata": {},
   "outputs": [],
   "source": [
    "%matplotlib inline\n",
    "from matplotlib import pyplot as plt\n",
    "plt.plot(times, s)\n",
    "plt.show()"
   ]
  },
  {
   "cell_type": "markdown",
   "metadata": {},
   "source": [
    "## Additional Examples"
   ]
  },
  {
   "cell_type": "markdown",
   "metadata": {},
   "source": [
    "### Example - Compute quadratic function values\n",
    "\n",
    "- Compute $y = x^2 + 5$ for `x = [-5, -4.5, -4, ..., 4, 4.5, 5]`"
   ]
  },
  {
   "cell_type": "code",
   "execution_count": null,
   "metadata": {
    "scrolled": false
   },
   "outputs": [],
   "source": [
    "%matplotlib inline\n",
    "from matplotlib import pyplot as plt\n",
    "import numpy as np\n",
    "\n",
    "def quad_func(x):\n",
    "    return x**2 + 5\n",
    "\n",
    "\n",
    "x = np.arange(-5, 5.1, 0.5)\n",
    "y = quad_func(x)\n",
    "\n",
    "plt.plot(x, y)\n",
    "plt.show()"
   ]
  },
  {
   "cell_type": "markdown",
   "metadata": {},
   "source": [
    "### Example - Sum of the first 100 integers\n",
    "$$ \\sum_{i = 1}^N i = 1 + 2 + 3+ 4 + \\cdots = \\frac{N}{2} \\left( N + 1 \\right) $$\n",
    "\n",
    "### Outcomes:\n",
    "- Sum basic terms\n",
    "- Test the solution"
   ]
  },
  {
   "cell_type": "code",
   "execution_count": null,
   "metadata": {},
   "outputs": [],
   "source": [
    "import numpy as np\n",
    "\n",
    "def sum_ints(N):\n",
    "    i = np.arange(1, N+1, 1)\n",
    "    return np.sum(i)\n",
    "\n",
    "print(sum_ints(N=100))\n",
    "print(0.5 * 100 * 101)"
   ]
  },
  {
   "cell_type": "markdown",
   "metadata": {},
   "source": [
    "### Example - Sum of the first 50 odd numbers:\n",
    "$$ \\sum_{i = 1}^N \\left(2i - 1\\right) = 1 + 3 + 5 + 7 + \\cdots = N^2 $$"
   ]
  },
  {
   "cell_type": "code",
   "execution_count": null,
   "metadata": {},
   "outputs": [],
   "source": [
    "import numpy as np\n",
    "\n",
    "def sum_odd_ints(N):\n",
    "    i = np.arange(1, N+1, 1)\n",
    "    terms = 2 * i - 1\n",
    "    return np.sum(terms)\n",
    "\n",
    "\n",
    "print(sum_odd_ints(N=50))\n",
    "print(50**2)"
   ]
  },
  {
   "cell_type": "markdown",
   "metadata": {},
   "source": [
    "### Example - More complex pattern:\n",
    "- Sum the first 10 terms:\n",
    "$$ \\sum_{i=1}^N 2(1 + 3^{i-1}) = 4 + 8 + 20 + 56 + \\cdots $$\n",
    "\n",
    "Note that for $N > 19$, the last terms in the series become integers larger than what can be wriiten in the 32 bits of memory Python by default provides for integers, leading to an erroneous answer.  If one would like to use the function defined in the cell below for $N > 19$, one need to force Python to use 64 bits per integer or to calculate the series terms as foating point numbers.  How to do either of these options is discussed later in te module."
   ]
  },
  {
   "cell_type": "code",
   "execution_count": null,
   "metadata": {},
   "outputs": [],
   "source": [
    "import numpy as np\n",
    "\n",
    "def sum_series(N):\n",
    "    i = np.arange(1, N+1, 1)\n",
    "    terms = 2 * (1 + 3**(i-1))\n",
    "    return np.sum(terms)\n",
    "\n",
    "\n",
    "print(sum_series(N=10))"
   ]
  },
  {
   "cell_type": "markdown",
   "metadata": {},
   "source": [
    "### Example - Products\n",
    "\n",
    "- Compute `10!` from\n",
    "\n",
    "$$\n",
    "\\prod_{i=1}^{N} i = 1 \\times 2 \\times 3 \\times \\dots = N!\n",
    "$$"
   ]
  },
  {
   "cell_type": "code",
   "execution_count": null,
   "metadata": {},
   "outputs": [],
   "source": [
    "import numpy as np\n",
    "\n",
    "def prod_ints(N):\n",
    "    terms = np.arange(1, N+1, 1)\n",
    "    return np.prod(terms)\n",
    "\n",
    "print(prod_ints(N=10))\n",
    "print(np.math.factorial(10))"
   ]
  },
  {
   "cell_type": "markdown",
   "metadata": {},
   "source": [
    "## Recap\n",
    "\n",
    "- Arrays $\\to$ Used to collect data (values) under one name\n",
    "\n",
    "\n",
    "- Operations\n",
    "    - Done element-by-element basis\n",
    "    - Same operations and priority as normal mathematics\n",
    "\n",
    "\n",
    "- Creating arrays\n",
    "    - Manually: `arr = np.array([1.2, 3, 5.6, 9])`\n",
    "    - Sequences:\n",
    "        - `arange`: `arr = np.arange(1, 2, 0.1)`\n",
    "        - `linspace`: `arr = np.linspace(1, 20, 10)`\n",
    "\n",
    "### Recap Quiz\n",
    "\n",
    "- Compute the areas of the triangles with their base width defined in an array base $[m]$ and their heights in an array height $[m]$.\n",
    "- What wrong with the following code? (1 mistake / problem)"
   ]
  },
  {
   "cell_type": "code",
   "execution_count": null,
   "metadata": {},
   "outputs": [],
   "source": [
    "import numpy as np\n",
    "\n",
    "def triangle_area(b, h):\n",
    "    return 0.5 * b * h\n",
    "\n",
    "\n",
    "base = np.array([5, 4, 11, 5])\n",
    "height = np.array([1, 4, 2, 17, 45, 10, 13, 12])\n",
    "areas = triangle_area(b=base, h=height)\n",
    "print(\"Base:\\n\", base)\n",
    "print(\"Height:\\n\", height)\n",
    "print(\"Area:\\n\", areas)"
   ]
  },
  {
   "cell_type": "markdown",
   "metadata": {},
   "source": [
    "- What wrong with the following code? (1 mistake / problem)"
   ]
  },
  {
   "cell_type": "code",
   "execution_count": null,
   "metadata": {},
   "outputs": [],
   "source": [
    "import numpy as np\n",
    "\n",
    "def height(s0, v0, t):\n",
    "    return s0 + v0 * t + 0.5 * g * t**2\n",
    "\n",
    "\n",
    "g = -9.81\n",
    "vels = np.array([10, 20, 30, 40])\n",
    "times = np.linspace(0, 6, 100)\n",
    "\n",
    "s1 = height(s0=100, v0=vels, t=times)\n",
    "print(s1)"
   ]
  }
 ],
 "metadata": {
  "anaconda-cloud": {},
  "celltoolbar": "Visualize",
  "kernelspec": {
   "display_name": "Python 3",
   "language": "python",
   "name": "python3"
  },
  "language_info": {
   "codemirror_mode": {
    "name": "ipython",
    "version": 3
   },
   "file_extension": ".py",
   "mimetype": "text/x-python",
   "name": "python",
   "nbconvert_exporter": "python",
   "pygments_lexer": "ipython3",
   "version": "3.8.3"
  }
 },
 "nbformat": 4,
 "nbformat_minor": 1
}
