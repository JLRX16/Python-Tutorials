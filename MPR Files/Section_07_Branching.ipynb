{
 "cells": [
  {
   "cell_type": "markdown",
   "metadata": {
    "slideshow": {
     "slide_type": "slide"
    }
   },
   "source": [
    "# Branching\n",
    "\n",
    "- [Framework](#Framework)\n",
    "- [Conditions](#Conditions)\n",
    "- [Multiple Conditions](#Multiple-Conditions)\n",
    "- [Multiple Decisions](Multiple-Decisions)\n",
    "- [Recap](#Recap)\n"
   ]
  },
  {
   "cell_type": "markdown",
   "metadata": {
    "slideshow": {
     "slide_type": "slide"
    }
   },
   "source": [
    "## Framework\n",
    "\n",
    "### Example - Sum Random Integers:\n",
    "\n",
    "- Write a program that simulates the throw of a die\n",
    "\n",
    "\n",
    "- Add the die throws together until the sum is greater than 50\n",
    "\n",
    "\n",
    "- **Count how many times the die lands on a certain number and store this information to an array**\n",
    "\n",
    "\n",
    "### Outcomes:\n",
    "\n",
    "- Count how many time the die lands on a certain number:\n",
    "    - array mapping $\\to$ maps nicely to the problem $\\to$ used to count all the numbers\n",
    "    - `if` statement $\\to$ much longer to code $\\to$ would generally only be used to count one or two specific numbers"
   ]
  },
  {
   "cell_type": "code",
   "execution_count": null,
   "metadata": {
    "slideshow": {
     "slide_type": "subslide"
    }
   },
   "outputs": [],
   "source": [
    "import numpy.random\n",
    "\n",
    "def throw_die(N):\n",
    "    cnt1 = 0\n",
    "    cnt2 = 0\n",
    "    die_sum = 0\n",
    "    while die_sum < N:\n",
    "        die = numpy.random.randint(1, 7)\n",
    "        die_sum = die_sum + die\n",
    "\n",
    "        if die == 1:\n",
    "            cnt1 = cnt1 + 1\n",
    "\n",
    "        if die == 2:\n",
    "            cnt2 = cnt2 + 1\n",
    "\n",
    "    return cnt1, cnt2\n",
    "\n",
    "\n",
    "msg = \"The die landed on {}, {} times.\"\n",
    "val1, val2 = throw_die(N=50)\n",
    "print(msg.format(1, val1))\n",
    "print(msg.format(2, val2))"
   ]
  },
  {
   "cell_type": "markdown",
   "metadata": {
    "slideshow": {
     "slide_type": "slide"
    }
   },
   "source": [
    "<img src=\"./figures/if_statement_framework.svg\" alt=\"If Statement Framework\" style=\"height: 600px;\"/>"
   ]
  },
  {
   "cell_type": "markdown",
   "metadata": {
    "slideshow": {
     "slide_type": "subslide"
    }
   },
   "source": [
    "- **Used to decide which code should be executed $\\to$ branching or flow control**\n",
    "\n",
    "\n",
    "- Executed from top to the bottom of the script\n",
    "\n",
    "\n",
    "- Indentation (white space) of the code tells Python it is part of the if, elif or else statements\n",
    "\n",
    "\n",
    "- Condition has to be **True** to **enter** (execute) the code in the **if or elif statement**\n",
    "\n",
    "\n",
    "- If the condition is **False** then the code in the if or elif statements is skipped (not executed)\n",
    "\n",
    "\n",
    "- The code in the **else statement** is only **executed** when the **if or elif statements are not executed**\n",
    "\n",
    "\n",
    "- Structure of the if, elif and else statements is very problem specific\n",
    "    - Multiple or no elif statements can occur\n",
    "    - One or no else statements can occur"
   ]
  },
  {
   "cell_type": "markdown",
   "metadata": {
    "slideshow": {
     "slide_type": "slide"
    }
   },
   "source": [
    "## Conditions\n",
    "\n",
    "- Conditions, Questions or Comparisons (Same as for the `while` loop):\n",
    "    - $A > B$ $\\to$ while A is greater than B\n",
    "    - $A < B$ $\\to$ while A is less than B\n",
    "    - $A >= B$ $\\to$ while A is greater than or equal to B\n",
    "    - $A <= B$ $\\to$ while A is less than or equal to B\n",
    "    - $A == B$ $\\to$ while A is equal to B\n",
    "    - $A != B$ $\\to$ while A is not equal to B\n",
    "    - **Note:**\n",
    "        - $=$ $\\to$ assignment (A = B)\n",
    "        - $==$ $\\to$ comparison (is A == B)\n",
    "    - Conditions always evaluate to **True** or **False**\n",
    "    - Object type $\\to$ **bool**"
   ]
  },
  {
   "cell_type": "markdown",
   "metadata": {
    "slideshow": {
     "slide_type": "slide"
    }
   },
   "source": [
    "## Multiple Conditions\n",
    "\n",
    "- Same as for the `while` loop\n",
    "\n",
    "\n",
    "- `or` keyword:\n",
    "    - `cond1 or cond2` $\\to$ only **False** when both are False\n",
    "    - `True` or `True` $\\to$ `True`\n",
    "    - `True` or `False` $\\to$ `True`\n",
    "    - `False` or `False` $\\to$ `False`\n",
    "\n",
    "\n",
    "-   `and` keyword:\n",
    "    - `cond1 and cond2` $\\to$ only **true** when both are true\n",
    "    - `True` and `True` $\\to$ `True`\n",
    "    - `True` and `False` $\\to$ `False`\n",
    "    - `False` and `False` $\\to$ `False`"
   ]
  },
  {
   "cell_type": "markdown",
   "metadata": {
    "slideshow": {
     "slide_type": "slide"
    }
   },
   "source": [
    "## Example - print grade:\n",
    "\n",
    "- Write a function that takes a students grade as input.\n",
    "\n",
    "\n",
    "- The function must then print one of the following messages to the screen, based on the students grade:\n",
    "    - 0 - 49 $\\to$ Fail\n",
    "    - 50 - 74 $\\to$ Pass\n",
    "    - 75 - 100 $\\to$ Distinction\n",
    "\n",
    "\n",
    "- Also test the program with unexpected input values $\\to$ -60, 1003 $\\to$ How would you change the program to account for this?\n",
    "\n",
    "\n",
    "### Outcomes:\n",
    "\n",
    "\n",
    "- Multiple `elif` statements\n",
    "\n",
    "\n",
    "- Order of `elif` statements"
   ]
  },
  {
   "cell_type": "code",
   "execution_count": null,
   "metadata": {},
   "outputs": [],
   "source": [
    "%load_ext nbtutor"
   ]
  },
  {
   "cell_type": "code",
   "execution_count": null,
   "metadata": {
    "slideshow": {
     "slide_type": "subslide"
    }
   },
   "outputs": [],
   "source": [
    "def print_grade_info(grade):\n",
    "    if grade < 50:\n",
    "        print(\"Fail\")\n",
    "    elif grade < 75:\n",
    "        print(\"Pass\")\n",
    "    else:\n",
    "        print(\"Distinction\")\n",
    "\n",
    "\n",
    "print_grade_info(110)"
   ]
  },
  {
   "cell_type": "code",
   "execution_count": null,
   "metadata": {
    "slideshow": {
     "slide_type": "subslide"
    }
   },
   "outputs": [],
   "source": [
    "def print_grade_info(grade):\n",
    "    if grade < 0 or grade > 100:\n",
    "        print(\"Invalid Grade\")\n",
    "    elif grade < 50:\n",
    "        print(\"Fail\")\n",
    "    elif grade < 75:\n",
    "        print(\"Pass\")\n",
    "    else:\n",
    "        print(\"Distinction\")\n",
    "\n",
    "\n",
    "print_grade_info(100)"
   ]
  },
  {
   "cell_type": "markdown",
   "metadata": {
    "slideshow": {
     "slide_type": "slide"
    }
   },
   "source": [
    "## Multiple Decisions\n",
    "\n",
    "### Example - print integer information:\n",
    "\n",
    "- Write a function that takes an integer as input.\n",
    "\n",
    "\n",
    "- The program must then print to the screen whether or not the integer is even or odd and whether the integer is greater than zero or not\n",
    "\n",
    "\n",
    "### Outcomes:\n",
    "\n",
    "- Remainder function (`%`)\n",
    "\n",
    "\n",
    "- Multiple decisions $\\to$ multiple if-else blocks (statements)\n",
    "\n",
    "\n",
    "- Flow control and structure:\n",
    "    - 4 if blocks (single questions) vs.\n",
    "    - 2 if-else blocks vs.\n",
    "    - 4 if blocks (multiple questions) vs.\n",
    "    - 4 if blocks (single question - nested)\n",
    "    - nbtutor"
   ]
  },
  {
   "cell_type": "code",
   "execution_count": null,
   "metadata": {},
   "outputs": [],
   "source": [
    "num = 18\n",
    "print(num / 2)\n",
    "\n",
    "rem = num % 2\n",
    "print(rem)\n",
    "\n",
    "if num % 2 == 0:\n",
    "    print(\"Even\")\n",
    "\n",
    "if num % 2 == 1:\n",
    "    print(\"Odd\")"
   ]
  },
  {
   "cell_type": "code",
   "execution_count": null,
   "metadata": {
    "slideshow": {
     "slide_type": "subslide"
    }
   },
   "outputs": [],
   "source": [
    "def print_int_information(int_val):\n",
    "    if (int_val % 2) == 1:\n",
    "        print(\"Odd Number\")\n",
    "\n",
    "    if (int_val % 2) != 1:\n",
    "        print(\"Even Number\")\n",
    "\n",
    "    if (int_val > 0):\n",
    "        print(\"Greater than 0\")\n",
    "\n",
    "    if (int_val < 0):\n",
    "        print(\"Less than 0\")\n",
    "\n",
    "\n",
    "print_int_information(0)"
   ]
  },
  {
   "cell_type": "code",
   "execution_count": null,
   "metadata": {
    "slideshow": {
     "slide_type": "subslide"
    }
   },
   "outputs": [],
   "source": [
    "def print_int_information(int_val):\n",
    "    if (int_val % 2) == 1:\n",
    "        print(\"Odd Number\")\n",
    "    else:\n",
    "        print(\"Even Number\")\n",
    "\n",
    "    if (int_val > 0):\n",
    "        print(\"Greater than 0\")\n",
    "    elif (int_val < 0):\n",
    "        print(\"Less than 0\")\n",
    "    else:\n",
    "        print(\"equal to zero, but this was not asked\")\n",
    "\n",
    "\n",
    "print_int_information(0)"
   ]
  },
  {
   "cell_type": "code",
   "execution_count": null,
   "metadata": {
    "slideshow": {
     "slide_type": "subslide"
    }
   },
   "outputs": [],
   "source": [
    "%%nbtutor -r -f\n",
    "def print_int_information(int_val):\n",
    "    if (int_val % 2) == 1 and (int_val > 0):\n",
    "        print(\"Odd Number\")\n",
    "        print(\"Greater than 0\")\n",
    "\n",
    "    if (int_val % 2) == 1 and (int_val < 0):\n",
    "        print(\"Odd Number\")\n",
    "        print(\"Less than 0\")\n",
    "\n",
    "    if (int_val % 2) != 1 and (int_val > 0):\n",
    "        print(\"Even Number\")\n",
    "        print(\"Greater than 0\")\n",
    "\n",
    "    if (int_val % 2) != 1 and (int_val < 0):\n",
    "        print(\"Even Number\")\n",
    "        print(\"Less than 0\")\n",
    "\n",
    "\n",
    "print_int_information(0)"
   ]
  },
  {
   "cell_type": "code",
   "execution_count": null,
   "metadata": {
    "slideshow": {
     "slide_type": "subslide"
    }
   },
   "outputs": [],
   "source": [
    "%%nbtutor -r -f\n",
    "def print_int_information(int_val):\n",
    "    if (int_val % 2) == 1:\n",
    "        if (int_val > 0):\n",
    "            print(\"Odd Number\")\n",
    "            print(\"Greater than 0\")\n",
    "\n",
    "    if (int_val % 2) == 1:\n",
    "        if (int_val < 0):\n",
    "            print(\"Odd Number\")\n",
    "            print(\"Less than 0\")\n",
    "\n",
    "    if (int_val % 2) != 1:\n",
    "        if (int_val > 0):\n",
    "            print(\"Even Number\")\n",
    "            print(\"Greater than 0\")\n",
    "\n",
    "    if (int_val % 2) != 1:\n",
    "        if (int_val < 0):\n",
    "            print(\"Even Number\")\n",
    "            print(\"Less than 0\")\n",
    "\n",
    "\n",
    "print_int_information(11)"
   ]
  },
  {
   "cell_type": "markdown",
   "metadata": {
    "slideshow": {
     "slide_type": "slide"
    }
   },
   "source": [
    "## Recap\n",
    "\n",
    "### If Statement\n",
    "\n",
    "- If-elif-else Statements\n",
    "    - Used to decide which code should be executed $\\to$ branching or flow control.\n",
    "    - Only 1 section of code inside a if-elif-else block is executed $\\to$ the first section where the condition is True $\\to$ if no condition is True then only the else section is executed\n",
    "    - Multiple decisions $\\to$ require multiple if-elif-else blocks\n",
    "    - Take care of the structure of the if-elif-else blocks $\\to$ problem specific $\\to$ elif and else sections may not be needed $\\to$ or multiple elif section may be needed\n",
    "    - Take care on the order in which you place if-elif-elif-else sections\n",
    "\n",
    "\n",
    "### Recap Quiz\n",
    "\n",
    "- What letter/s will get printed to the screen?"
   ]
  },
  {
   "cell_type": "code",
   "execution_count": null,
   "metadata": {
    "slideshow": {
     "slide_type": "subslide"
    }
   },
   "outputs": [],
   "source": [
    "def print_info(val):\n",
    "    if val > 0:\n",
    "        print('A')\n",
    "\n",
    "    if val != 50:\n",
    "        print('B')\n",
    "    elif val > 50:\n",
    "        print('C')\n",
    "    else:\n",
    "        print('D')\n",
    "\n",
    "\n",
    "print_info(val=34)"
   ]
  },
  {
   "cell_type": "markdown",
   "metadata": {
    "slideshow": {
     "slide_type": "slide"
    }
   },
   "source": [
    "- What letter/s will get printed to the screen?"
   ]
  },
  {
   "cell_type": "code",
   "execution_count": null,
   "metadata": {
    "slideshow": {
     "slide_type": "subslide"
    }
   },
   "outputs": [],
   "source": [
    "def print_info(val):\n",
    "    if val == 'a':\n",
    "        print('A')\n",
    "    elif val > 10:\n",
    "        if val != 20:\n",
    "            print('B')\n",
    "        if val > 12:\n",
    "            print('C')\n",
    "        elif val < 14:\n",
    "            print('D')\n",
    "    else:\n",
    "        print('E')\n",
    "\n",
    "\n",
    "print_info(val=12.45)"
   ]
  }
 ],
 "metadata": {
  "anaconda-cloud": {},
  "celltoolbar": "Visualize",
  "kernelspec": {
   "display_name": "Python 3",
   "language": "python",
   "name": "python3"
  },
  "language_info": {
   "codemirror_mode": {
    "name": "ipython",
    "version": 3
   },
   "file_extension": ".py",
   "mimetype": "text/x-python",
   "name": "python",
   "nbconvert_exporter": "python",
   "pygments_lexer": "ipython3",
   "version": "3.8.3"
  }
 },
 "nbformat": 4,
 "nbformat_minor": 1
}
